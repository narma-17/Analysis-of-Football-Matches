{
  "nbformat": 4,
  "nbformat_minor": 0,
  "metadata": {
    "colab": {
      "name": "Qatar 2022 Predictions.ipynb",
      "provenance": [],
      "collapsed_sections": [],
      "authorship_tag": "ABX9TyP3rG/drmtMOXuzttl60cdS",
      "include_colab_link": true
    },
    "kernelspec": {
      "name": "python3",
      "display_name": "Python 3"
    },
    "language_info": {
      "name": "python"
    }
  },
  "cells": [
    {
      "cell_type": "markdown",
      "metadata": {
        "id": "view-in-github",
        "colab_type": "text"
      },
      "source": [
        "<a href=\"https://colab.research.google.com/github/narma-17/International-football-results-from-1872-to-2021/blob/main/Qatar_2022_Predictions.ipynb\" target=\"_parent\"><img src=\"https://colab.research.google.com/assets/colab-badge.svg\" alt=\"Open In Colab\"/></a>"
      ]
    },
    {
      "cell_type": "markdown",
      "metadata": {
        "id": "GwaqxbPDyfyx"
      },
      "source": [
        "# **Qatar World Cup 2022**"
      ]
    },
    {
      "cell_type": "markdown",
      "metadata": {
        "id": "6DFzl9foXK5d"
      },
      "source": [
        "In this work book, we pickup from where we left with the work on football match data from https://www.kaggle.com/martj42/international-football-results-from-1872-to-2017. Here will try to make prediction about a team's success in the Qatar 2022 FIFA World Cup."
      ]
    },
    {
      "cell_type": "markdown",
      "metadata": {
        "id": "42FsKo57exIT"
      },
      "source": [
        "## **a) Defining a ML algorithm to find the team that would be most successful (highest number of wins) in the 2022 FIFA tournament.**"
      ]
    },
    {
      "cell_type": "markdown",
      "metadata": {
        "id": "F2uexooye7c0"
      },
      "source": [
        "Predicting the most sucessful team from the data set we have been working with which gives data on past matches, wins and locations maybe difficult for two reasons.\n",
        "1. The proficiency of a team changes over time. A team that was previously successful may not be successful now. \n",
        "2. Is is mostly in FIFA matches that countries around the world face off against each other. In most friendly matches and other regional tournaments, teams face off against regional peers. This means that even if a team is very successful in the regional matches and friendly matches, if it was, say, an Asian country, it might not be very successful against the European countries that it would face in FIFA. Taking only previous FIFA matches would also not make sense since that would be related to data that was four years in the past and thus may not apply now as the team strength may have changed.\n",
        "\n",
        "To circumvent the issue, we have taken the player level data from the EA sports FIFA data set, and thus will be aiming to predict team performance based on the strength of the potential players for the team and possibly current ranking of the team. The datasets can be obtained at https://www.kaggle.com/bryanb/fifa-player-stats-database?select=FIFA17_official_data.csv.\n",
        "\n",
        "The original web hosted dataset can be obtained by scraping data from https://sofifa.com/"
      ]
    },
    {
      "cell_type": "markdown",
      "metadata": {
        "id": "2oa4jPkex8sD"
      },
      "source": [
        "The approach that has been taken to the problem is \n",
        "1. To build a dataset about the team's performance levels as of 2017, and other variables such as their FIFA rank \n",
        "2. Train the model on the results from the 2018 World Cup\n",
        "3. Use the model to predict the performance of teams in the 2022 cup considering their skills level as of early 2021."
      ]
    },
    {
      "cell_type": "markdown",
      "metadata": {
        "id": "HPBPVyzsqA_H"
      },
      "source": [
        "**Initiating Google Drive on Colab**"
      ]
    },
    {
      "cell_type": "code",
      "metadata": {
        "colab": {
          "base_uri": "https://localhost:8080/"
        },
        "id": "bAyfBkYOgQnB",
        "outputId": "a3978f3d-de0c-483e-b77d-43cba16342f7"
      },
      "source": [
        "from google.colab import drive\n",
        "drive.mount('/content/drive')"
      ],
      "execution_count": 1,
      "outputs": [
        {
          "output_type": "stream",
          "text": [
            "Mounted at /content/drive\n"
          ],
          "name": "stdout"
        }
      ]
    },
    {
      "cell_type": "code",
      "metadata": {
        "id": "jAlSKGlMgsGH"
      },
      "source": [
        "!ln -s /content/drive/My\\ Drive/UoM\\ Working\\ Folders/Football/ /wd"
      ],
      "execution_count": 2,
      "outputs": []
    },
    {
      "cell_type": "markdown",
      "metadata": {
        "id": "FaBfp3gCqLPB"
      },
      "source": [
        "**Importing libraries**"
      ]
    },
    {
      "cell_type": "code",
      "metadata": {
        "id": "wtKSrtv8g3I3"
      },
      "source": [
        "import pandas as pd\n",
        "import numpy as np\n",
        "import matplotlib.pyplot as plt\n",
        "import seaborn as sns\n",
        "import statsmodels.api as sm\n",
        "from sklearn import tree\n",
        "from sklearn import metrics\n",
        "from sklearn.ensemble import RandomForestClassifier"
      ],
      "execution_count": null,
      "outputs": []
    },
    {
      "cell_type": "markdown",
      "metadata": {
        "id": "Sb6yUTpPqis5"
      },
      "source": [
        "#### **Loading the EA Sports player dataset for 2017 and 2021**"
      ]
    },
    {
      "cell_type": "code",
      "metadata": {
        "colab": {
          "base_uri": "https://localhost:8080/",
          "height": 435
        },
        "id": "LJbX4L10hTcQ",
        "outputId": "737d2075-c713-44fa-daaf-01f50d3c1c37"
      },
      "source": [
        "df21=pd.read_csv('/wd/FIFA21_official_data.csv')\n",
        "df21.sample()"
      ],
      "execution_count": null,
      "outputs": [
        {
          "output_type": "execute_result",
          "data": {
            "text/html": [
              "<div>\n",
              "<style scoped>\n",
              "    .dataframe tbody tr th:only-of-type {\n",
              "        vertical-align: middle;\n",
              "    }\n",
              "\n",
              "    .dataframe tbody tr th {\n",
              "        vertical-align: top;\n",
              "    }\n",
              "\n",
              "    .dataframe thead th {\n",
              "        text-align: right;\n",
              "    }\n",
              "</style>\n",
              "<table border=\"1\" class=\"dataframe\">\n",
              "  <thead>\n",
              "    <tr style=\"text-align: right;\">\n",
              "      <th></th>\n",
              "      <th>ID</th>\n",
              "      <th>Name</th>\n",
              "      <th>Age</th>\n",
              "      <th>Photo</th>\n",
              "      <th>Nationality</th>\n",
              "      <th>Flag</th>\n",
              "      <th>Overall</th>\n",
              "      <th>Potential</th>\n",
              "      <th>Club</th>\n",
              "      <th>Club Logo</th>\n",
              "      <th>Value</th>\n",
              "      <th>Wage</th>\n",
              "      <th>Special</th>\n",
              "      <th>Preferred Foot</th>\n",
              "      <th>International Reputation</th>\n",
              "      <th>Weak Foot</th>\n",
              "      <th>Skill Moves</th>\n",
              "      <th>Work Rate</th>\n",
              "      <th>Body Type</th>\n",
              "      <th>Real Face</th>\n",
              "      <th>Position</th>\n",
              "      <th>Jersey Number</th>\n",
              "      <th>Joined</th>\n",
              "      <th>Loaned From</th>\n",
              "      <th>Contract Valid Until</th>\n",
              "      <th>Height</th>\n",
              "      <th>Weight</th>\n",
              "      <th>Crossing</th>\n",
              "      <th>Finishing</th>\n",
              "      <th>HeadingAccuracy</th>\n",
              "      <th>ShortPassing</th>\n",
              "      <th>Volleys</th>\n",
              "      <th>Dribbling</th>\n",
              "      <th>Curve</th>\n",
              "      <th>FKAccuracy</th>\n",
              "      <th>LongPassing</th>\n",
              "      <th>BallControl</th>\n",
              "      <th>Acceleration</th>\n",
              "      <th>SprintSpeed</th>\n",
              "      <th>Agility</th>\n",
              "      <th>Reactions</th>\n",
              "      <th>Balance</th>\n",
              "      <th>ShotPower</th>\n",
              "      <th>Jumping</th>\n",
              "      <th>Stamina</th>\n",
              "      <th>Strength</th>\n",
              "      <th>LongShots</th>\n",
              "      <th>Aggression</th>\n",
              "      <th>Interceptions</th>\n",
              "      <th>Positioning</th>\n",
              "      <th>Vision</th>\n",
              "      <th>Penalties</th>\n",
              "      <th>Composure</th>\n",
              "      <th>Marking</th>\n",
              "      <th>StandingTackle</th>\n",
              "      <th>SlidingTackle</th>\n",
              "      <th>GKDiving</th>\n",
              "      <th>GKHandling</th>\n",
              "      <th>GKKicking</th>\n",
              "      <th>GKPositioning</th>\n",
              "      <th>GKReflexes</th>\n",
              "      <th>Best Position</th>\n",
              "      <th>Best Overall Rating</th>\n",
              "      <th>Release Clause</th>\n",
              "      <th>DefensiveAwareness</th>\n",
              "    </tr>\n",
              "  </thead>\n",
              "  <tbody>\n",
              "    <tr>\n",
              "      <th>14726</th>\n",
              "      <td>252370</td>\n",
              "      <td>N. Silva</td>\n",
              "      <td>21</td>\n",
              "      <td>https://cdn.sofifa.com/players/252/370/20_60.png</td>\n",
              "      <td>Chile</td>\n",
              "      <td>https://cdn.sofifa.com/flags/cl.png</td>\n",
              "      <td>55</td>\n",
              "      <td>62</td>\n",
              "      <td>CD Huachipato</td>\n",
              "      <td>https://cdn.sofifa.com/teams/111327/light_30.png</td>\n",
              "      <td>€120K</td>\n",
              "      <td>€1K</td>\n",
              "      <td>1362</td>\n",
              "      <td>Right</td>\n",
              "      <td>1.0</td>\n",
              "      <td>3.0</td>\n",
              "      <td>2.0</td>\n",
              "      <td>Medium/ Medium</td>\n",
              "      <td>Lean (170-)</td>\n",
              "      <td>No</td>\n",
              "      <td>&lt;span class=\"pos pos28\"&gt;SUB</td>\n",
              "      <td>22.0</td>\n",
              "      <td>Jul 1, 2019</td>\n",
              "      <td>NaN</td>\n",
              "      <td>2022</td>\n",
              "      <td>5'6</td>\n",
              "      <td>146lbs</td>\n",
              "      <td>30.0</td>\n",
              "      <td>56.0</td>\n",
              "      <td>57.0</td>\n",
              "      <td>45.0</td>\n",
              "      <td>44.0</td>\n",
              "      <td>56.0</td>\n",
              "      <td>36.0</td>\n",
              "      <td>33.0</td>\n",
              "      <td>34.0</td>\n",
              "      <td>53.0</td>\n",
              "      <td>63.0</td>\n",
              "      <td>58.0</td>\n",
              "      <td>56.0</td>\n",
              "      <td>56.0</td>\n",
              "      <td>71.0</td>\n",
              "      <td>54.0</td>\n",
              "      <td>62.0</td>\n",
              "      <td>55.0</td>\n",
              "      <td>60.0</td>\n",
              "      <td>55.0</td>\n",
              "      <td>30.0</td>\n",
              "      <td>18.0</td>\n",
              "      <td>54.0</td>\n",
              "      <td>54.0</td>\n",
              "      <td>62.0</td>\n",
              "      <td>50.0</td>\n",
              "      <td>NaN</td>\n",
              "      <td>24.0</td>\n",
              "      <td>22.0</td>\n",
              "      <td>11.0</td>\n",
              "      <td>8.0</td>\n",
              "      <td>10.0</td>\n",
              "      <td>12.0</td>\n",
              "      <td>7.0</td>\n",
              "      <td>ST</td>\n",
              "      <td>57.0</td>\n",
              "      <td>€186K</td>\n",
              "      <td>16.0</td>\n",
              "    </tr>\n",
              "    <tr>\n",
              "      <th>6197</th>\n",
              "      <td>239258</td>\n",
              "      <td>E. Banda</td>\n",
              "      <td>22</td>\n",
              "      <td>https://cdn.sofifa.com/players/239/258/20_60.png</td>\n",
              "      <td>Zambia</td>\n",
              "      <td>https://cdn.sofifa.com/flags/zm.png</td>\n",
              "      <td>62</td>\n",
              "      <td>69</td>\n",
              "      <td>Djurgårdens IF</td>\n",
              "      <td>https://cdn.sofifa.com/teams/710/light_30.png</td>\n",
              "      <td>€425K</td>\n",
              "      <td>€1K</td>\n",
              "      <td>1738</td>\n",
              "      <td>Left</td>\n",
              "      <td>1.0</td>\n",
              "      <td>3.0</td>\n",
              "      <td>3.0</td>\n",
              "      <td>High/ Medium</td>\n",
              "      <td>Lean (170-185)</td>\n",
              "      <td>No</td>\n",
              "      <td>&lt;span class=\"pos pos28\"&gt;SUB</td>\n",
              "      <td>22.0</td>\n",
              "      <td>Feb 22, 2020</td>\n",
              "      <td>NaN</td>\n",
              "      <td>2022</td>\n",
              "      <td>5'10</td>\n",
              "      <td>161lbs</td>\n",
              "      <td>64.0</td>\n",
              "      <td>53.0</td>\n",
              "      <td>46.0</td>\n",
              "      <td>63.0</td>\n",
              "      <td>68.0</td>\n",
              "      <td>62.0</td>\n",
              "      <td>65.0</td>\n",
              "      <td>65.0</td>\n",
              "      <td>62.0</td>\n",
              "      <td>63.0</td>\n",
              "      <td>76.0</td>\n",
              "      <td>60.0</td>\n",
              "      <td>71.0</td>\n",
              "      <td>63.0</td>\n",
              "      <td>73.0</td>\n",
              "      <td>73.0</td>\n",
              "      <td>87.0</td>\n",
              "      <td>58.0</td>\n",
              "      <td>59.0</td>\n",
              "      <td>60.0</td>\n",
              "      <td>41.0</td>\n",
              "      <td>43.0</td>\n",
              "      <td>52.0</td>\n",
              "      <td>64.0</td>\n",
              "      <td>48.0</td>\n",
              "      <td>59.0</td>\n",
              "      <td>NaN</td>\n",
              "      <td>56.0</td>\n",
              "      <td>51.0</td>\n",
              "      <td>13.0</td>\n",
              "      <td>11.0</td>\n",
              "      <td>6.0</td>\n",
              "      <td>7.0</td>\n",
              "      <td>14.0</td>\n",
              "      <td>CAM</td>\n",
              "      <td>64.0</td>\n",
              "      <td>€616K</td>\n",
              "      <td>41.0</td>\n",
              "    </tr>\n",
              "    <tr>\n",
              "      <th>13784</th>\n",
              "      <td>256501</td>\n",
              "      <td>E. Roldán</td>\n",
              "      <td>19</td>\n",
              "      <td>https://cdn.sofifa.com/players/256/501/20_60.png</td>\n",
              "      <td>Argentina</td>\n",
              "      <td>https://cdn.sofifa.com/flags/ar.png</td>\n",
              "      <td>57</td>\n",
              "      <td>68</td>\n",
              "      <td>Boca Juniors</td>\n",
              "      <td>https://cdn.sofifa.com/teams/1877/light_30.png</td>\n",
              "      <td>€170K</td>\n",
              "      <td>€2K</td>\n",
              "      <td>1431</td>\n",
              "      <td>Right</td>\n",
              "      <td>1.0</td>\n",
              "      <td>2.0</td>\n",
              "      <td>2.0</td>\n",
              "      <td>Medium/ Medium</td>\n",
              "      <td>Normal (170-185)</td>\n",
              "      <td>No</td>\n",
              "      <td>&lt;span class=\"pos pos29\"&gt;RES</td>\n",
              "      <td>26.0</td>\n",
              "      <td>Feb 28, 2020</td>\n",
              "      <td>NaN</td>\n",
              "      <td>2023</td>\n",
              "      <td>5'9</td>\n",
              "      <td>154lbs</td>\n",
              "      <td>52.0</td>\n",
              "      <td>58.0</td>\n",
              "      <td>44.0</td>\n",
              "      <td>48.0</td>\n",
              "      <td>52.0</td>\n",
              "      <td>63.0</td>\n",
              "      <td>46.0</td>\n",
              "      <td>44.0</td>\n",
              "      <td>45.0</td>\n",
              "      <td>60.0</td>\n",
              "      <td>73.0</td>\n",
              "      <td>68.0</td>\n",
              "      <td>60.0</td>\n",
              "      <td>40.0</td>\n",
              "      <td>72.0</td>\n",
              "      <td>60.0</td>\n",
              "      <td>51.0</td>\n",
              "      <td>48.0</td>\n",
              "      <td>60.0</td>\n",
              "      <td>46.0</td>\n",
              "      <td>27.0</td>\n",
              "      <td>28.0</td>\n",
              "      <td>52.0</td>\n",
              "      <td>51.0</td>\n",
              "      <td>53.0</td>\n",
              "      <td>44.0</td>\n",
              "      <td>NaN</td>\n",
              "      <td>30.0</td>\n",
              "      <td>29.0</td>\n",
              "      <td>7.0</td>\n",
              "      <td>6.0</td>\n",
              "      <td>8.0</td>\n",
              "      <td>6.0</td>\n",
              "      <td>13.0</td>\n",
              "      <td>RM</td>\n",
              "      <td>58.0</td>\n",
              "      <td>€272K</td>\n",
              "      <td>31.0</td>\n",
              "    </tr>\n",
              "    <tr>\n",
              "      <th>2479</th>\n",
              "      <td>202620</td>\n",
              "      <td>R. Boateng</td>\n",
              "      <td>27</td>\n",
              "      <td>https://cdn.sofifa.com/players/202/620/20_60.png</td>\n",
              "      <td>Ghana</td>\n",
              "      <td>https://cdn.sofifa.com/flags/gh.png</td>\n",
              "      <td>70</td>\n",
              "      <td>70</td>\n",
              "      <td>AD Alcorcón</td>\n",
              "      <td>https://cdn.sofifa.com/teams/100831/light_30.png</td>\n",
              "      <td>€1.8M</td>\n",
              "      <td>€6K</td>\n",
              "      <td>1891</td>\n",
              "      <td>Right</td>\n",
              "      <td>1.0</td>\n",
              "      <td>2.0</td>\n",
              "      <td>3.0</td>\n",
              "      <td>Medium/ Medium</td>\n",
              "      <td>Lean (170-185)</td>\n",
              "      <td>No</td>\n",
              "      <td>&lt;span class=\"pos pos18\"&gt;CAM</td>\n",
              "      <td>7.0</td>\n",
              "      <td>Jul 15, 2019</td>\n",
              "      <td>NaN</td>\n",
              "      <td>2021</td>\n",
              "      <td>5'10</td>\n",
              "      <td>146lbs</td>\n",
              "      <td>52.0</td>\n",
              "      <td>69.0</td>\n",
              "      <td>65.0</td>\n",
              "      <td>72.0</td>\n",
              "      <td>40.0</td>\n",
              "      <td>68.0</td>\n",
              "      <td>47.0</td>\n",
              "      <td>45.0</td>\n",
              "      <td>71.0</td>\n",
              "      <td>70.0</td>\n",
              "      <td>68.0</td>\n",
              "      <td>72.0</td>\n",
              "      <td>67.0</td>\n",
              "      <td>64.0</td>\n",
              "      <td>71.0</td>\n",
              "      <td>72.0</td>\n",
              "      <td>80.0</td>\n",
              "      <td>79.0</td>\n",
              "      <td>74.0</td>\n",
              "      <td>73.0</td>\n",
              "      <td>72.0</td>\n",
              "      <td>66.0</td>\n",
              "      <td>70.0</td>\n",
              "      <td>67.0</td>\n",
              "      <td>46.0</td>\n",
              "      <td>62.0</td>\n",
              "      <td>NaN</td>\n",
              "      <td>70.0</td>\n",
              "      <td>66.0</td>\n",
              "      <td>8.0</td>\n",
              "      <td>12.0</td>\n",
              "      <td>15.0</td>\n",
              "      <td>6.0</td>\n",
              "      <td>10.0</td>\n",
              "      <td>CM</td>\n",
              "      <td>70.0</td>\n",
              "      <td>€2.8M</td>\n",
              "      <td>64.0</td>\n",
              "    </tr>\n",
              "    <tr>\n",
              "      <th>9129</th>\n",
              "      <td>212204</td>\n",
              "      <td>B. Mechele</td>\n",
              "      <td>27</td>\n",
              "      <td>https://cdn.sofifa.com/players/212/204/20_60.png</td>\n",
              "      <td>Belgium</td>\n",
              "      <td>https://cdn.sofifa.com/flags/be.png</td>\n",
              "      <td>76</td>\n",
              "      <td>78</td>\n",
              "      <td>Club Brugge KV</td>\n",
              "      <td>https://cdn.sofifa.com/teams/231/light_30.png</td>\n",
              "      <td>€8M</td>\n",
              "      <td>€22K</td>\n",
              "      <td>1632</td>\n",
              "      <td>Right</td>\n",
              "      <td>1.0</td>\n",
              "      <td>4.0</td>\n",
              "      <td>2.0</td>\n",
              "      <td>Medium/ High</td>\n",
              "      <td>Normal (185+)</td>\n",
              "      <td>No</td>\n",
              "      <td>&lt;span class=\"pos pos4\"&gt;RCB</td>\n",
              "      <td>44.0</td>\n",
              "      <td>Nov 1, 2012</td>\n",
              "      <td>NaN</td>\n",
              "      <td>2023</td>\n",
              "      <td>6'3</td>\n",
              "      <td>174lbs</td>\n",
              "      <td>47.0</td>\n",
              "      <td>33.0</td>\n",
              "      <td>76.0</td>\n",
              "      <td>57.0</td>\n",
              "      <td>27.0</td>\n",
              "      <td>53.0</td>\n",
              "      <td>30.0</td>\n",
              "      <td>33.0</td>\n",
              "      <td>54.0</td>\n",
              "      <td>63.0</td>\n",
              "      <td>58.0</td>\n",
              "      <td>66.0</td>\n",
              "      <td>59.0</td>\n",
              "      <td>67.0</td>\n",
              "      <td>55.0</td>\n",
              "      <td>56.0</td>\n",
              "      <td>65.0</td>\n",
              "      <td>77.0</td>\n",
              "      <td>78.0</td>\n",
              "      <td>24.0</td>\n",
              "      <td>75.0</td>\n",
              "      <td>82.0</td>\n",
              "      <td>30.0</td>\n",
              "      <td>34.0</td>\n",
              "      <td>35.0</td>\n",
              "      <td>73.0</td>\n",
              "      <td>NaN</td>\n",
              "      <td>81.0</td>\n",
              "      <td>79.0</td>\n",
              "      <td>11.0</td>\n",
              "      <td>7.0</td>\n",
              "      <td>13.0</td>\n",
              "      <td>13.0</td>\n",
              "      <td>12.0</td>\n",
              "      <td>CB</td>\n",
              "      <td>78.0</td>\n",
              "      <td>€11.8M</td>\n",
              "      <td>82.0</td>\n",
              "    </tr>\n",
              "  </tbody>\n",
              "</table>\n",
              "</div>"
            ],
            "text/plain": [
              "           ID         Name  ...  Release Clause DefensiveAwareness\n",
              "14726  252370     N. Silva  ...           €186K               16.0\n",
              "6197   239258     E. Banda  ...           €616K               41.0\n",
              "13784  256501    E. Roldán  ...           €272K               31.0\n",
              "2479   202620   R. Boateng  ...           €2.8M               64.0\n",
              "9129   212204   B. Mechele  ...          €11.8M               82.0\n",
              "\n",
              "[5 rows x 65 columns]"
            ]
          },
          "metadata": {
            "tags": []
          },
          "execution_count": 991
        }
      ]
    },
    {
      "cell_type": "code",
      "metadata": {
        "id": "BDmB_4gKqfY5"
      },
      "source": [
        "df21.columns"
      ],
      "execution_count": null,
      "outputs": []
    },
    {
      "cell_type": "code",
      "metadata": {
        "colab": {
          "base_uri": "https://localhost:8080/",
          "height": 521
        },
        "id": "pQodkvLcha9p",
        "outputId": "46b8520e-5bb1-4869-9d5a-1f7f19b11004"
      },
      "source": [
        "df17=pd.read_csv('/wd/FIFA17_official_data.csv')\n",
        "df17.sample(5)"
      ],
      "execution_count": null,
      "outputs": [
        {
          "output_type": "execute_result",
          "data": {
            "text/html": [
              "<div>\n",
              "<style scoped>\n",
              "    .dataframe tbody tr th:only-of-type {\n",
              "        vertical-align: middle;\n",
              "    }\n",
              "\n",
              "    .dataframe tbody tr th {\n",
              "        vertical-align: top;\n",
              "    }\n",
              "\n",
              "    .dataframe thead th {\n",
              "        text-align: right;\n",
              "    }\n",
              "</style>\n",
              "<table border=\"1\" class=\"dataframe\">\n",
              "  <thead>\n",
              "    <tr style=\"text-align: right;\">\n",
              "      <th></th>\n",
              "      <th>ID</th>\n",
              "      <th>Name</th>\n",
              "      <th>Age</th>\n",
              "      <th>Photo</th>\n",
              "      <th>Nationality</th>\n",
              "      <th>Flag</th>\n",
              "      <th>Overall</th>\n",
              "      <th>Potential</th>\n",
              "      <th>Club</th>\n",
              "      <th>Club Logo</th>\n",
              "      <th>Value</th>\n",
              "      <th>Wage</th>\n",
              "      <th>Special</th>\n",
              "      <th>Preferred Foot</th>\n",
              "      <th>International Reputation</th>\n",
              "      <th>Weak Foot</th>\n",
              "      <th>Skill Moves</th>\n",
              "      <th>Work Rate</th>\n",
              "      <th>Body Type</th>\n",
              "      <th>Real Face</th>\n",
              "      <th>Position</th>\n",
              "      <th>Jersey Number</th>\n",
              "      <th>Joined</th>\n",
              "      <th>Loaned From</th>\n",
              "      <th>Contract Valid Until</th>\n",
              "      <th>Height</th>\n",
              "      <th>Weight</th>\n",
              "      <th>Crossing</th>\n",
              "      <th>Finishing</th>\n",
              "      <th>HeadingAccuracy</th>\n",
              "      <th>ShortPassing</th>\n",
              "      <th>Volleys</th>\n",
              "      <th>Dribbling</th>\n",
              "      <th>Curve</th>\n",
              "      <th>FKAccuracy</th>\n",
              "      <th>LongPassing</th>\n",
              "      <th>BallControl</th>\n",
              "      <th>Acceleration</th>\n",
              "      <th>SprintSpeed</th>\n",
              "      <th>Agility</th>\n",
              "      <th>Reactions</th>\n",
              "      <th>Balance</th>\n",
              "      <th>ShotPower</th>\n",
              "      <th>Jumping</th>\n",
              "      <th>Stamina</th>\n",
              "      <th>Strength</th>\n",
              "      <th>LongShots</th>\n",
              "      <th>Aggression</th>\n",
              "      <th>Interceptions</th>\n",
              "      <th>Positioning</th>\n",
              "      <th>Vision</th>\n",
              "      <th>Penalties</th>\n",
              "      <th>Composure</th>\n",
              "      <th>Marking</th>\n",
              "      <th>StandingTackle</th>\n",
              "      <th>SlidingTackle</th>\n",
              "      <th>GKDiving</th>\n",
              "      <th>GKHandling</th>\n",
              "      <th>GKKicking</th>\n",
              "      <th>GKPositioning</th>\n",
              "      <th>GKReflexes</th>\n",
              "      <th>Best Position</th>\n",
              "      <th>Best Overall Rating</th>\n",
              "    </tr>\n",
              "  </thead>\n",
              "  <tbody>\n",
              "    <tr>\n",
              "      <th>1452</th>\n",
              "      <td>190093</td>\n",
              "      <td>Dani Castellano</td>\n",
              "      <td>28</td>\n",
              "      <td>https://cdn.sofifa.com/players/190/093/17_60.png</td>\n",
              "      <td>Spain</td>\n",
              "      <td>https://cdn.sofifa.com/flags/es.png</td>\n",
              "      <td>75</td>\n",
              "      <td>75</td>\n",
              "      <td>UD Las Palmas</td>\n",
              "      <td>https://cdn.sofifa.com/teams/472/light_30.png</td>\n",
              "      <td>€3.1M</td>\n",
              "      <td>€20K</td>\n",
              "      <td>1927</td>\n",
              "      <td>Left</td>\n",
              "      <td>1.0</td>\n",
              "      <td>3.0</td>\n",
              "      <td>2.0</td>\n",
              "      <td>High/ Medium</td>\n",
              "      <td>Normal (170-185)</td>\n",
              "      <td>No</td>\n",
              "      <td>&lt;span class=\"pos pos7\"&gt;LB</td>\n",
              "      <td>23.0</td>\n",
              "      <td>Jan 1, 2011</td>\n",
              "      <td>NaN</td>\n",
              "      <td>2020</td>\n",
              "      <td>5'11</td>\n",
              "      <td>152lbs</td>\n",
              "      <td>77.0</td>\n",
              "      <td>46.0</td>\n",
              "      <td>60.0</td>\n",
              "      <td>74.0</td>\n",
              "      <td>45.0</td>\n",
              "      <td>75.0</td>\n",
              "      <td>67.0</td>\n",
              "      <td>47.0</td>\n",
              "      <td>62.0</td>\n",
              "      <td>73.0</td>\n",
              "      <td>78.0</td>\n",
              "      <td>77.0</td>\n",
              "      <td>72.0</td>\n",
              "      <td>72.0</td>\n",
              "      <td>76.0</td>\n",
              "      <td>60.0</td>\n",
              "      <td>73.0</td>\n",
              "      <td>86.0</td>\n",
              "      <td>77.0</td>\n",
              "      <td>53.0</td>\n",
              "      <td>67.0</td>\n",
              "      <td>68.0</td>\n",
              "      <td>63.0</td>\n",
              "      <td>62.0</td>\n",
              "      <td>48.0</td>\n",
              "      <td>64.0</td>\n",
              "      <td>68.0</td>\n",
              "      <td>73.0</td>\n",
              "      <td>75.0</td>\n",
              "      <td>6.0</td>\n",
              "      <td>7.0</td>\n",
              "      <td>15.0</td>\n",
              "      <td>14.0</td>\n",
              "      <td>11.0</td>\n",
              "      <td>LWB</td>\n",
              "      <td>75.0</td>\n",
              "    </tr>\n",
              "    <tr>\n",
              "      <th>15663</th>\n",
              "      <td>212948</td>\n",
              "      <td>F. Ondoa</td>\n",
              "      <td>20</td>\n",
              "      <td>https://cdn.sofifa.com/players/212/948/17_60.png</td>\n",
              "      <td>Cameroon</td>\n",
              "      <td>https://cdn.sofifa.com/flags/cm.png</td>\n",
              "      <td>66</td>\n",
              "      <td>78</td>\n",
              "      <td>Sevilla Atlético</td>\n",
              "      <td>https://cdn.sofifa.com/teams/110714/light_30.png</td>\n",
              "      <td>€1M</td>\n",
              "      <td>€2K</td>\n",
              "      <td>1206</td>\n",
              "      <td>Right</td>\n",
              "      <td>1.0</td>\n",
              "      <td>2.0</td>\n",
              "      <td>1.0</td>\n",
              "      <td>Medium/ Medium</td>\n",
              "      <td>Normal (185+)</td>\n",
              "      <td>No</td>\n",
              "      <td>&lt;span class=\"pos pos28\"&gt;SUB</td>\n",
              "      <td>25.0</td>\n",
              "      <td>NaN</td>\n",
              "      <td>&lt;a href=\"/team/15019/gimnastic-de-tarragona/\"&gt;...</td>\n",
              "      <td>Jun 30, 2017</td>\n",
              "      <td>6'1</td>\n",
              "      <td>192lbs</td>\n",
              "      <td>14.0</td>\n",
              "      <td>18.0</td>\n",
              "      <td>16.0</td>\n",
              "      <td>41.0</td>\n",
              "      <td>21.0</td>\n",
              "      <td>16.0</td>\n",
              "      <td>13.0</td>\n",
              "      <td>20.0</td>\n",
              "      <td>45.0</td>\n",
              "      <td>22.0</td>\n",
              "      <td>50.0</td>\n",
              "      <td>56.0</td>\n",
              "      <td>67.0</td>\n",
              "      <td>59.0</td>\n",
              "      <td>52.0</td>\n",
              "      <td>16.0</td>\n",
              "      <td>72.0</td>\n",
              "      <td>43.0</td>\n",
              "      <td>74.0</td>\n",
              "      <td>16.0</td>\n",
              "      <td>19.0</td>\n",
              "      <td>16.0</td>\n",
              "      <td>12.0</td>\n",
              "      <td>30.0</td>\n",
              "      <td>23.0</td>\n",
              "      <td>27.0</td>\n",
              "      <td>20.0</td>\n",
              "      <td>15.0</td>\n",
              "      <td>15.0</td>\n",
              "      <td>75.0</td>\n",
              "      <td>59.0</td>\n",
              "      <td>62.0</td>\n",
              "      <td>63.0</td>\n",
              "      <td>66.0</td>\n",
              "      <td>GK</td>\n",
              "      <td>65.0</td>\n",
              "    </tr>\n",
              "    <tr>\n",
              "      <th>16054</th>\n",
              "      <td>226721</td>\n",
              "      <td>G. Alcalá</td>\n",
              "      <td>23</td>\n",
              "      <td>https://cdn.sofifa.com/players/226/721/17_60.png</td>\n",
              "      <td>Mexico</td>\n",
              "      <td>https://cdn.sofifa.com/flags/mx.png</td>\n",
              "      <td>60</td>\n",
              "      <td>66</td>\n",
              "      <td>Querétaro</td>\n",
              "      <td>https://cdn.sofifa.com/teams/110150/light_30.png</td>\n",
              "      <td>€220K</td>\n",
              "      <td>€2K</td>\n",
              "      <td>1138</td>\n",
              "      <td>Right</td>\n",
              "      <td>1.0</td>\n",
              "      <td>2.0</td>\n",
              "      <td>1.0</td>\n",
              "      <td>Medium/ Medium</td>\n",
              "      <td>Normal (170-185)</td>\n",
              "      <td>No</td>\n",
              "      <td>&lt;span class=\"pos pos28\"&gt;SUB</td>\n",
              "      <td>33.0</td>\n",
              "      <td>Jan 1, 2015</td>\n",
              "      <td>NaN</td>\n",
              "      <td>2023</td>\n",
              "      <td>5'10</td>\n",
              "      <td>161lbs</td>\n",
              "      <td>18.0</td>\n",
              "      <td>17.0</td>\n",
              "      <td>18.0</td>\n",
              "      <td>24.0</td>\n",
              "      <td>16.0</td>\n",
              "      <td>13.0</td>\n",
              "      <td>13.0</td>\n",
              "      <td>17.0</td>\n",
              "      <td>22.0</td>\n",
              "      <td>19.0</td>\n",
              "      <td>59.0</td>\n",
              "      <td>61.0</td>\n",
              "      <td>56.0</td>\n",
              "      <td>58.0</td>\n",
              "      <td>66.0</td>\n",
              "      <td>22.0</td>\n",
              "      <td>65.0</td>\n",
              "      <td>42.0</td>\n",
              "      <td>64.0</td>\n",
              "      <td>21.0</td>\n",
              "      <td>22.0</td>\n",
              "      <td>11.0</td>\n",
              "      <td>12.0</td>\n",
              "      <td>35.0</td>\n",
              "      <td>21.0</td>\n",
              "      <td>31.0</td>\n",
              "      <td>21.0</td>\n",
              "      <td>12.0</td>\n",
              "      <td>19.0</td>\n",
              "      <td>65.0</td>\n",
              "      <td>54.0</td>\n",
              "      <td>55.0</td>\n",
              "      <td>56.0</td>\n",
              "      <td>64.0</td>\n",
              "      <td>GK</td>\n",
              "      <td>59.0</td>\n",
              "    </tr>\n",
              "    <tr>\n",
              "      <th>10693</th>\n",
              "      <td>177643</td>\n",
              "      <td>M. Diakité</td>\n",
              "      <td>29</td>\n",
              "      <td>https://cdn.sofifa.com/players/177/643/17_60.png</td>\n",
              "      <td>France</td>\n",
              "      <td>https://cdn.sofifa.com/flags/fr.png</td>\n",
              "      <td>71</td>\n",
              "      <td>71</td>\n",
              "      <td>Ternana</td>\n",
              "      <td>https://cdn.sofifa.com/teams/570/light_30.png</td>\n",
              "      <td>€1.2M</td>\n",
              "      <td>€3K</td>\n",
              "      <td>1564</td>\n",
              "      <td>Right</td>\n",
              "      <td>1.0</td>\n",
              "      <td>3.0</td>\n",
              "      <td>2.0</td>\n",
              "      <td>Medium/ High</td>\n",
              "      <td>Stocky (185+)</td>\n",
              "      <td>No</td>\n",
              "      <td>&lt;span class=\"pos pos28\"&gt;SUB</td>\n",
              "      <td>33.0</td>\n",
              "      <td>Jan 16, 2017</td>\n",
              "      <td>NaN</td>\n",
              "      <td>2020</td>\n",
              "      <td>6'4</td>\n",
              "      <td>194lbs</td>\n",
              "      <td>41.0</td>\n",
              "      <td>21.0</td>\n",
              "      <td>71.0</td>\n",
              "      <td>51.0</td>\n",
              "      <td>32.0</td>\n",
              "      <td>41.0</td>\n",
              "      <td>31.0</td>\n",
              "      <td>31.0</td>\n",
              "      <td>56.0</td>\n",
              "      <td>51.0</td>\n",
              "      <td>64.0</td>\n",
              "      <td>71.0</td>\n",
              "      <td>33.0</td>\n",
              "      <td>66.0</td>\n",
              "      <td>33.0</td>\n",
              "      <td>76.0</td>\n",
              "      <td>86.0</td>\n",
              "      <td>53.0</td>\n",
              "      <td>90.0</td>\n",
              "      <td>51.0</td>\n",
              "      <td>73.0</td>\n",
              "      <td>69.0</td>\n",
              "      <td>39.0</td>\n",
              "      <td>35.0</td>\n",
              "      <td>41.0</td>\n",
              "      <td>68.0</td>\n",
              "      <td>69.0</td>\n",
              "      <td>68.0</td>\n",
              "      <td>69.0</td>\n",
              "      <td>11.0</td>\n",
              "      <td>7.0</td>\n",
              "      <td>8.0</td>\n",
              "      <td>13.0</td>\n",
              "      <td>13.0</td>\n",
              "      <td>CB</td>\n",
              "      <td>70.0</td>\n",
              "    </tr>\n",
              "    <tr>\n",
              "      <th>3720</th>\n",
              "      <td>198033</td>\n",
              "      <td>Alex</td>\n",
              "      <td>24</td>\n",
              "      <td>https://cdn.sofifa.com/players/198/033/17_60.png</td>\n",
              "      <td>Portugal</td>\n",
              "      <td>https://cdn.sofifa.com/flags/pt.png</td>\n",
              "      <td>72</td>\n",
              "      <td>73</td>\n",
              "      <td>Moreirense FC</td>\n",
              "      <td>https://cdn.sofifa.com/teams/1900/light_30.png</td>\n",
              "      <td>€2.5M</td>\n",
              "      <td>€7K</td>\n",
              "      <td>1811</td>\n",
              "      <td>Left</td>\n",
              "      <td>1.0</td>\n",
              "      <td>3.0</td>\n",
              "      <td>4.0</td>\n",
              "      <td>High/ Medium</td>\n",
              "      <td>Lean (170-185)</td>\n",
              "      <td>No</td>\n",
              "      <td>&lt;span class=\"pos pos28\"&gt;SUB</td>\n",
              "      <td>10.0</td>\n",
              "      <td>NaN</td>\n",
              "      <td>&lt;a href=\"/team/1887/vitoria-guimaraes/\"&gt;Vitóri...</td>\n",
              "      <td>Jun 30, 2017</td>\n",
              "      <td>5'9</td>\n",
              "      <td>150lbs</td>\n",
              "      <td>71.0</td>\n",
              "      <td>65.0</td>\n",
              "      <td>52.0</td>\n",
              "      <td>71.0</td>\n",
              "      <td>62.0</td>\n",
              "      <td>74.0</td>\n",
              "      <td>76.0</td>\n",
              "      <td>71.0</td>\n",
              "      <td>61.0</td>\n",
              "      <td>73.0</td>\n",
              "      <td>78.0</td>\n",
              "      <td>77.0</td>\n",
              "      <td>85.0</td>\n",
              "      <td>72.0</td>\n",
              "      <td>78.0</td>\n",
              "      <td>72.0</td>\n",
              "      <td>56.0</td>\n",
              "      <td>68.0</td>\n",
              "      <td>46.0</td>\n",
              "      <td>71.0</td>\n",
              "      <td>50.0</td>\n",
              "      <td>23.0</td>\n",
              "      <td>70.0</td>\n",
              "      <td>70.0</td>\n",
              "      <td>68.0</td>\n",
              "      <td>70.0</td>\n",
              "      <td>35.0</td>\n",
              "      <td>28.0</td>\n",
              "      <td>31.0</td>\n",
              "      <td>6.0</td>\n",
              "      <td>14.0</td>\n",
              "      <td>12.0</td>\n",
              "      <td>11.0</td>\n",
              "      <td>14.0</td>\n",
              "      <td>CAM</td>\n",
              "      <td>72.0</td>\n",
              "    </tr>\n",
              "  </tbody>\n",
              "</table>\n",
              "</div>"
            ],
            "text/plain": [
              "           ID              Name  ...  Best Position Best Overall Rating\n",
              "1452   190093   Dani Castellano  ...            LWB                75.0\n",
              "15663  212948          F. Ondoa  ...             GK                65.0\n",
              "16054  226721         G. Alcalá  ...             GK                59.0\n",
              "10693  177643        M. Diakité  ...             CB                70.0\n",
              "3720   198033              Alex  ...            CAM                72.0\n",
              "\n",
              "[5 rows x 63 columns]"
            ]
          },
          "metadata": {
            "tags": []
          },
          "execution_count": 992
        }
      ]
    },
    {
      "cell_type": "code",
      "metadata": {
        "colab": {
          "base_uri": "https://localhost:8080/"
        },
        "id": "OqSudzDfhtfB",
        "outputId": "1ce3d6c6-7207-4aa8-a7d4-c04cd53c63e8"
      },
      "source": [
        "print(df21.shape)\n",
        "print(df17.shape)"
      ],
      "execution_count": null,
      "outputs": [
        {
          "output_type": "stream",
          "text": [
            "(17108, 65)\n",
            "(17560, 63)\n"
          ],
          "name": "stdout"
        }
      ]
    },
    {
      "cell_type": "markdown",
      "metadata": {
        "id": "LcFgE4oDqy_x"
      },
      "source": [
        "#### **Narrowing down the Countries**\n",
        "\n",
        "Since most countries do not qualify for FIFA and our concern is with the countries that win n themost matches in the tournament itself, we will be screening out the top performing companies. The top 50 companies as per the FIFA ranking has been taken."
      ]
    },
    {
      "cell_type": "code",
      "metadata": {
        "id": "jkkwcoPsOBtN"
      },
      "source": [
        "Top50_2017=['Brazil','Germany','Argentina','Switzerland','Poland','Portugal','Chile','Colombia','Belgium','France','Spain','Italy','England','Mexico',\n",
        "            'Peru','Croatia','Uruguay','Wales','Sweden','Iceland','Costa Rica','Slovakia','Northern Ireland','Iran','Egypt','United States','Ukraine','DR Congo',\n",
        "            'Republic of Ireland','Bosnia Herzegovina','Senegal','Ecuador','Turkey','Tunisia','Cameroon','Netherlands','Austria','Greece','Nigeria',\n",
        "            'Czech Republic','Paraguay','Serbia','Romania','Japan','Australia','Denmark','Burkina Faso','Algeria','Korea Republic','Ghana','Russia']\n",
        "\n",
        "Top50_2021=['Belgium','Brazil','France','England','Italy','Argentina','Spain','Portugal','Mexico','United States','Denmark','Netherlands','Uruguay',\n",
        "            'Switzerland','Colombia','Germany','Sweden','Croatia','Wales','Chile','Senegal','Peru','Austria','Japan','Ukraine','Iran','Poland',\n",
        "            'Tunisia','Serbia','Algeria','Czech Republic','Morocco','Paraguay','Nigeria','Australia','Korea Republic','Hungary','Slovakia','Turkey','Venezuela',\n",
        "            'Russia','Qatar','Norway','Costa Rica','Romania','Egypt','Republic of Ireland','Greece','Scotland','Jamaica']"
      ],
      "execution_count": null,
      "outputs": []
    },
    {
      "cell_type": "code",
      "metadata": {
        "id": "TbRbkXgk4yVF"
      },
      "source": [
        "df21=df21.loc[df21['Nationality'].isin(Top50_2021)]\n",
        "df17=df17.loc[df17['Nationality'].isin(Top50_2017)]"
      ],
      "execution_count": null,
      "outputs": []
    },
    {
      "cell_type": "code",
      "metadata": {
        "colab": {
          "base_uri": "https://localhost:8080/"
        },
        "id": "WazmdVMb8C7I",
        "outputId": "0b192194-77a9-47e8-8d6f-f6180bfb4d98"
      },
      "source": [
        "print(df21.shape)\n",
        "print(df17.shape)"
      ],
      "execution_count": null,
      "outputs": [
        {
          "output_type": "stream",
          "text": [
            "(14824, 65)\n",
            "(15185, 63)\n"
          ],
          "name": "stdout"
        }
      ]
    },
    {
      "cell_type": "markdown",
      "metadata": {
        "id": "-39ZIVQIpP4i"
      },
      "source": [
        "#### **Screening out currently active players**\n",
        "\n",
        "Since the data set includes some once famous players who have retired since, we will need to screen them out. We will be doing a screen based on whether the player has a active contract with a football club. For some players, the contract expiry date is missing, and for others the contract expires this year. A rough check on a sample of this players shows that those who are on average more than 35 years have retired while those who are less are active. \n"
      ]
    },
    {
      "cell_type": "code",
      "metadata": {
        "colab": {
          "base_uri": "https://localhost:8080/"
        },
        "id": "CUAOjxSjpVwK",
        "outputId": "188880bd-31e1-4a63-9c43-2ec01dce1fcd"
      },
      "source": [
        "df21['Contract Valid Until'].unique()"
      ],
      "execution_count": null,
      "outputs": [
        {
          "output_type": "execute_result",
          "data": {
            "text/plain": [
              "array(['2022', '2023', '2025', '2024', '2021', '2026', 'Jun 30, 2021',\n",
              "       '2013', '2019', nan, '2012', '2020', '2017', '2018', '2016',\n",
              "       '2011', 'May 31, 2021', '2014', 'Dec 31, 2020', 'Jun 30, 2020',\n",
              "       '2015', '2028', 'Jun 30, 2018', 'Jun 30, 2019', 'May 31, 2020',\n",
              "       'Jan 30, 2021', 'Dec 31, 2021', 'May 31, 2018', 'Jun 30, 2014',\n",
              "       'Jun 30, 2022', 'Jul 5, 2021', 'May 31, 2019', 'Jan 31, 2021',\n",
              "       'Jun 30, 2017', 'May 25, 2016', 'Aug 31, 2020', 'Jul 1, 2021',\n",
              "       'Jan 1, 2021', 'Jan 17, 2021', 'Dec 31, 2014', 'Jun 23, 2021',\n",
              "       'Dec 31, 2017', '2009', 'Jun 1, 2021', 'Jan 3, 2021', '2007',\n",
              "       'Nov 27, 2021', 'Nov 30, 2020', '2010', 'May 31, 2022', '2008',\n",
              "       'Dec 30, 2020', 'Jun 30, 2015', 'Jan 4, 2021', 'Dec 31, 2019',\n",
              "       'May 31, 2016', 'Jan 1, 2020', 'Dec 30, 2021', 'Jun 30, 2016'],\n",
              "      dtype=object)"
            ]
          },
          "metadata": {
            "tags": []
          },
          "execution_count": 999
        }
      ]
    },
    {
      "cell_type": "markdown",
      "metadata": {
        "id": "ZTcmmAQVpZCp"
      },
      "source": [
        "The column should ideally include only the year, thus we will clean the column to extract the year"
      ]
    },
    {
      "cell_type": "code",
      "metadata": {
        "id": "XhLp71JMn-QC"
      },
      "source": [
        "def year_extract(x):\n",
        "  if isinstance(x, list):\n",
        "    if len(x)==0:\n",
        "      return np.nan\n",
        "    else:\n",
        "      return x[0]\n",
        "  else:\n",
        "    return np.nan\n",
        "\n",
        "df21['Contract Valid Until year']=df21['Contract Valid Until'].str.findall(r'[0-9]{4}').apply(lambda x:year_extract(x))\n",
        "df17['Contract Valid Until year']=df17['Contract Valid Until'].str.findall(r'[0-9]{4}').apply(lambda x:year_extract(x))"
      ],
      "execution_count": null,
      "outputs": []
    },
    {
      "cell_type": "code",
      "metadata": {
        "colab": {
          "base_uri": "https://localhost:8080/"
        },
        "id": "dG72PPh7qtFu",
        "outputId": "68eb1f94-5a39-44e5-8c9b-3ce6f4367275"
      },
      "source": [
        "df21['Contract Valid Until year'].unique()"
      ],
      "execution_count": null,
      "outputs": [
        {
          "output_type": "execute_result",
          "data": {
            "text/plain": [
              "array(['2022', '2023', '2025', '2024', '2021', '2026', '2013', '2019',\n",
              "       nan, '2012', '2020', '2017', '2018', '2016', '2011', '2014',\n",
              "       '2015', '2028', '2009', '2007', '2010', '2008'], dtype=object)"
            ]
          },
          "metadata": {
            "tags": []
          },
          "execution_count": 1001
        }
      ]
    },
    {
      "cell_type": "code",
      "metadata": {
        "colab": {
          "base_uri": "https://localhost:8080/"
        },
        "id": "qQF2N-KMtYJe",
        "outputId": "797bd09a-7f3f-4ae8-cbfd-fbfaaa0ea3a4"
      },
      "source": [
        "print(df21['Contract Valid Until year'].isna().sum())\n",
        "print(df17['Contract Valid Until year'].isna().sum())"
      ],
      "execution_count": null,
      "outputs": [
        {
          "output_type": "stream",
          "text": [
            "268\n",
            "204\n"
          ],
          "name": "stdout"
        }
      ]
    },
    {
      "cell_type": "code",
      "metadata": {
        "id": "3Y7Nwf4L1exH"
      },
      "source": [
        "df17[df17['Contract Valid Until year'].isna()].to_csv(r'/wd/missing_contract1.csv')"
      ],
      "execution_count": null,
      "outputs": []
    },
    {
      "cell_type": "code",
      "metadata": {
        "id": "Pfi88Dx0LUsz"
      },
      "source": [
        "df21.loc[((df21['Contract Valid Until year'].isna())|(df21['Contract Valid Until year']=='2021'))& (df21['Age']<35),'Contract Valid Until year']='2021'\n",
        "df21.loc[((df21['Contract Valid Until year'].isna())|(df21['Contract Valid Until year']=='2021'))& (df21['Age']>=35),'Contract Valid Until year']='2020'"
      ],
      "execution_count": null,
      "outputs": []
    },
    {
      "cell_type": "code",
      "metadata": {
        "colab": {
          "base_uri": "https://localhost:8080/"
        },
        "id": "YI38dkGiIWQm",
        "outputId": "5b54abb3-6be6-464f-e9ad-40953ccbf1b7"
      },
      "source": [
        "df21['Contract Valid Until year'].isna().sum()"
      ],
      "execution_count": null,
      "outputs": [
        {
          "output_type": "execute_result",
          "data": {
            "text/plain": [
              "0"
            ]
          },
          "metadata": {
            "tags": []
          },
          "execution_count": 1005
        }
      ]
    },
    {
      "cell_type": "code",
      "metadata": {
        "id": "l00tauubMik4"
      },
      "source": [
        "df17.loc[((df17['Contract Valid Until year'].isna())|(df17['Contract Valid Until year']=='2021'))& (df17['Age']<35),'Contract Valid Until year']='2017'\n",
        "df17.loc[((df17['Contract Valid Until year'].isna())|(df17['Contract Valid Until year']=='2021'))& (df17['Age']>=35),'Contract Valid Until year']='2016'"
      ],
      "execution_count": null,
      "outputs": []
    },
    {
      "cell_type": "code",
      "metadata": {
        "id": "4WQU18PQM0He"
      },
      "source": [
        "df21['Contract Valid Until year']=df21['Contract Valid Until year'].astype('int')\n",
        "df17['Contract Valid Until year']=df17['Contract Valid Until year'].astype('int')"
      ],
      "execution_count": null,
      "outputs": []
    },
    {
      "cell_type": "code",
      "metadata": {
        "colab": {
          "base_uri": "https://localhost:8080/"
        },
        "id": "wMxFfvDrnjHg",
        "outputId": "8223c97a-c543-45c8-b476-45a91c699b83"
      },
      "source": [
        "# Removing players who were likely retired at that time\n",
        "df21=df21.loc[df21['Contract Valid Until year']>=2021]\n",
        "df17=df17.loc[df17['Contract Valid Until year']>=2017]\n",
        "print(df21.shape)\n",
        "print(df17.shape)"
      ],
      "execution_count": null,
      "outputs": [
        {
          "output_type": "stream",
          "text": [
            "(12470, 66)\n",
            "(15136, 64)\n"
          ],
          "name": "stdout"
        }
      ]
    },
    {
      "cell_type": "markdown",
      "metadata": {
        "id": "mAPlRV_DSLKT"
      },
      "source": [
        "#### **Narrowing down columns**"
      ]
    },
    {
      "cell_type": "markdown",
      "metadata": {
        "id": "bhUusxMESNzO"
      },
      "source": [
        "Since, once we finish designing the dataset for our prediction we will only have 50 rows, we cannot have too many independent variables. Summarizing all the details in a meaningful way considering the players position requires a deep knowledge of football. Fortunately EA Sports also gives a overall score which computes the overall score as a weighted average of skills where weight are decided based on the players position. More details about the scoring system can be obtained from https://www.goal.com/en-ae/news/fifa-player-ratings-explained-how-are-the-card-number-stats/1hszd2fgr7wgf1n2b2yjdpgynu."
      ]
    },
    {
      "cell_type": "markdown",
      "metadata": {
        "id": "LPeWdqy_u9Wj"
      },
      "source": [
        "We have also considered penalties, since from the Top 16 onwards, many teams draw and the team that goes forward is decided by penalty shots. Since the more matches a team plays, the greater the possible number of wins, penalties might be a relevant variable."
      ]
    },
    {
      "cell_type": "code",
      "metadata": {
        "id": "GpKJYrEhjIXa"
      },
      "source": [
        "#Select columns to keep, based on relevance and presence in both datasets\n",
        "columns=['Name','Nationality', 'Overall','Best Position','Penalties']\n",
        "\n",
        "df17=df17[columns]\n",
        "df21=df21[columns]"
      ],
      "execution_count": null,
      "outputs": []
    },
    {
      "cell_type": "markdown",
      "metadata": {
        "id": "Olf7g8oJz0Y7"
      },
      "source": [
        "#### **Summarizing positions as attack, defense and midfield**"
      ]
    },
    {
      "cell_type": "code",
      "metadata": {
        "id": "Qf-03Ik8XI1h",
        "colab": {
          "base_uri": "https://localhost:8080/"
        },
        "outputId": "ec071887-cb8e-47d6-e077-2804d07168d0"
      },
      "source": [
        "df17['Best Position'].unique()"
      ],
      "execution_count": null,
      "outputs": [
        {
          "output_type": "execute_result",
          "data": {
            "text/plain": [
              "array(['ST', 'CDM', 'LB', 'CAM', 'RB', 'LWB', 'CM', 'RWB', 'RM', 'LM',\n",
              "       'CB', 'LW', 'CF', 'RW', 'GK'], dtype=object)"
            ]
          },
          "metadata": {
            "tags": []
          },
          "execution_count": 1012
        }
      ]
    },
    {
      "cell_type": "markdown",
      "metadata": {
        "id": "c5D5nhRDnUCb"
      },
      "source": [
        "- ST: Striker (Attack)\n",
        "- LW: Left Wing (Attcack)\n",
        "- CF: Center Forward (Attack)\n",
        "- RW: Right Wing (Attack)\n",
        "- CDM: Central Defensive Midfielder ( Midfielder)\n",
        "- CAM: Central Advance Midfielder (Midfield)\n",
        "- CM: Center Midfielder (Midfield)\n",
        "- RM: Right Midfielder (Midfield\n",
        "- LM: Left Midfielder (Midfield)\n",
        "- CB: Center Back (Defense)\n",
        "- LB: Left Back (Defense)\n",
        "- RB: Right Back (Defense)\n",
        "- LWB: Left Wing Back (Defense)\n",
        "- RWB: Right Wing Back (Defense)\n",
        "\n",
        "- GK: Goal Keeper"
      ]
    },
    {
      "cell_type": "markdown",
      "metadata": {
        "id": "fQJCrGUvqvDw"
      },
      "source": [
        "Since the positions vary based on formations, positions are to be grouped into attack, center, defense as they are traditionally grouped in football. "
      ]
    },
    {
      "cell_type": "code",
      "metadata": {
        "id": "s3zm5nu-tO7d"
      },
      "source": [
        "MDF=['LM','RM','CM','CAM','CDM'] # Midfield\n",
        "ATK=['CF','RW','LW','ST'] #Attack\n",
        "DFS=['CB','RWB','LWB','RB','LB'] # Defense"
      ],
      "execution_count": null,
      "outputs": []
    },
    {
      "cell_type": "markdown",
      "metadata": {
        "id": "bBpOlh0jve9r"
      },
      "source": [
        "2021"
      ]
    },
    {
      "cell_type": "code",
      "metadata": {
        "colab": {
          "base_uri": "https://localhost:8080/",
          "height": 206
        },
        "id": "lZtVP3Is0XZf",
        "outputId": "35f850c6-2d09-4232-ad01-ed80775aecfe"
      },
      "source": [
        "conditions_21=[df21['Best Position'].eq('LM')|df21['Best Position'].eq('RM')|df21['Best Position'].eq('CM')|df21['Best Position'].eq('CAM')|df21['Best Position'].eq('CDM'),\n",
        "            df21['Best Position'].eq('CF')|df21['Best Position'].eq('RW')|df21['Best Position'].eq('LW')|df21['Best Position'].eq('ST'),\n",
        "            df21['Best Position'].eq('CB')|df21['Best Position'].eq('RWB')|df21['Best Position'].eq('LWB')|df21['Best Position'].eq('RB')|df21['Best Position'].eq('LB'),\n",
        "            df21['Best Position'].eq('GK')]\n",
        "\n",
        "choices =['Midfield','Attack','Defense','GoalKeeper']\n",
        "\n",
        "df21['Broad Position']=np.select(conditions_21,choices)\n",
        "df21.head()"
      ],
      "execution_count": null,
      "outputs": [
        {
          "output_type": "execute_result",
          "data": {
            "text/html": [
              "<div>\n",
              "<style scoped>\n",
              "    .dataframe tbody tr th:only-of-type {\n",
              "        vertical-align: middle;\n",
              "    }\n",
              "\n",
              "    .dataframe tbody tr th {\n",
              "        vertical-align: top;\n",
              "    }\n",
              "\n",
              "    .dataframe thead th {\n",
              "        text-align: right;\n",
              "    }\n",
              "</style>\n",
              "<table border=\"1\" class=\"dataframe\">\n",
              "  <thead>\n",
              "    <tr style=\"text-align: right;\">\n",
              "      <th></th>\n",
              "      <th>Name</th>\n",
              "      <th>Nationality</th>\n",
              "      <th>Overall</th>\n",
              "      <th>Best Position</th>\n",
              "      <th>Penalties</th>\n",
              "      <th>Broad Position</th>\n",
              "    </tr>\n",
              "  </thead>\n",
              "  <tbody>\n",
              "    <tr>\n",
              "      <th>0</th>\n",
              "      <td>L. Suárez</td>\n",
              "      <td>Uruguay</td>\n",
              "      <td>87</td>\n",
              "      <td>ST</td>\n",
              "      <td>83.0</td>\n",
              "      <td>Attack</td>\n",
              "    </tr>\n",
              "    <tr>\n",
              "      <th>1</th>\n",
              "      <td>K. De Bruyne</td>\n",
              "      <td>Belgium</td>\n",
              "      <td>91</td>\n",
              "      <td>CAM</td>\n",
              "      <td>84.0</td>\n",
              "      <td>Midfield</td>\n",
              "    </tr>\n",
              "    <tr>\n",
              "      <th>2</th>\n",
              "      <td>Bruno Fernandes</td>\n",
              "      <td>Portugal</td>\n",
              "      <td>87</td>\n",
              "      <td>CAM</td>\n",
              "      <td>91.0</td>\n",
              "      <td>Midfield</td>\n",
              "    </tr>\n",
              "    <tr>\n",
              "      <th>3</th>\n",
              "      <td>A. Griezmann</td>\n",
              "      <td>France</td>\n",
              "      <td>87</td>\n",
              "      <td>ST</td>\n",
              "      <td>86.0</td>\n",
              "      <td>Attack</td>\n",
              "    </tr>\n",
              "    <tr>\n",
              "      <th>4</th>\n",
              "      <td>M. Acuña</td>\n",
              "      <td>Argentina</td>\n",
              "      <td>83</td>\n",
              "      <td>LB</td>\n",
              "      <td>76.0</td>\n",
              "      <td>Defense</td>\n",
              "    </tr>\n",
              "  </tbody>\n",
              "</table>\n",
              "</div>"
            ],
            "text/plain": [
              "               Name Nationality  ...  Penalties Broad Position\n",
              "0         L. Suárez     Uruguay  ...       83.0         Attack\n",
              "1      K. De Bruyne     Belgium  ...       84.0       Midfield\n",
              "2   Bruno Fernandes    Portugal  ...       91.0       Midfield\n",
              "3      A. Griezmann      France  ...       86.0         Attack\n",
              "4          M. Acuña   Argentina  ...       76.0        Defense\n",
              "\n",
              "[5 rows x 6 columns]"
            ]
          },
          "metadata": {
            "tags": []
          },
          "execution_count": 1014
        }
      ]
    },
    {
      "cell_type": "markdown",
      "metadata": {
        "id": "P_aXcxf5vhQZ"
      },
      "source": [
        "2017"
      ]
    },
    {
      "cell_type": "code",
      "metadata": {
        "colab": {
          "base_uri": "https://localhost:8080/",
          "height": 206
        },
        "id": "NMXOJ6g93GOa",
        "outputId": "2d93de73-2c96-4b6b-8410-c5f5616463b7"
      },
      "source": [
        "conditions_17=[df17['Best Position'].eq('LM')|df17['Best Position'].eq('RM')|df17['Best Position'].eq('CM')|df17['Best Position'].eq('CAM')|df17['Best Position'].eq('CDM'),\n",
        "            df17['Best Position'].eq('CF')|df17['Best Position'].eq('RW')|df17['Best Position'].eq('LW')|df17['Best Position'].eq('ST'),\n",
        "            df17['Best Position'].eq('CB')|df17['Best Position'].eq('RWB')|df17['Best Position'].eq('LWB')|df17['Best Position'].eq('RB')|df17['Best Position'].eq('LB'),\n",
        "            df17['Best Position'].eq('GK')]\n",
        "\n",
        "choices =['Midfield','Attack','Defense','GoalKeeper']\n",
        "\n",
        "df17['Broad Position']=np.select(conditions_17,choices)\n",
        "df17.head()"
      ],
      "execution_count": null,
      "outputs": [
        {
          "output_type": "execute_result",
          "data": {
            "text/html": [
              "<div>\n",
              "<style scoped>\n",
              "    .dataframe tbody tr th:only-of-type {\n",
              "        vertical-align: middle;\n",
              "    }\n",
              "\n",
              "    .dataframe tbody tr th {\n",
              "        vertical-align: top;\n",
              "    }\n",
              "\n",
              "    .dataframe thead th {\n",
              "        text-align: right;\n",
              "    }\n",
              "</style>\n",
              "<table border=\"1\" class=\"dataframe\">\n",
              "  <thead>\n",
              "    <tr style=\"text-align: right;\">\n",
              "      <th></th>\n",
              "      <th>Name</th>\n",
              "      <th>Nationality</th>\n",
              "      <th>Overall</th>\n",
              "      <th>Best Position</th>\n",
              "      <th>Penalties</th>\n",
              "      <th>Broad Position</th>\n",
              "    </tr>\n",
              "  </thead>\n",
              "  <tbody>\n",
              "    <tr>\n",
              "      <th>0</th>\n",
              "      <td>L. Suárez</td>\n",
              "      <td>Uruguay</td>\n",
              "      <td>92</td>\n",
              "      <td>ST</td>\n",
              "      <td>85.0</td>\n",
              "      <td>Attack</td>\n",
              "    </tr>\n",
              "    <tr>\n",
              "      <th>1</th>\n",
              "      <td>R. Nainggolan</td>\n",
              "      <td>Belgium</td>\n",
              "      <td>86</td>\n",
              "      <td>CDM</td>\n",
              "      <td>63.0</td>\n",
              "      <td>Midfield</td>\n",
              "    </tr>\n",
              "    <tr>\n",
              "      <th>2</th>\n",
              "      <td>A. Vidal</td>\n",
              "      <td>Chile</td>\n",
              "      <td>87</td>\n",
              "      <td>CDM</td>\n",
              "      <td>84.0</td>\n",
              "      <td>Midfield</td>\n",
              "    </tr>\n",
              "    <tr>\n",
              "      <th>3</th>\n",
              "      <td>D. Alaba</td>\n",
              "      <td>Austria</td>\n",
              "      <td>86</td>\n",
              "      <td>LB</td>\n",
              "      <td>80.0</td>\n",
              "      <td>Defense</td>\n",
              "    </tr>\n",
              "    <tr>\n",
              "      <th>4</th>\n",
              "      <td>P. Pogba</td>\n",
              "      <td>France</td>\n",
              "      <td>88</td>\n",
              "      <td>CAM</td>\n",
              "      <td>76.0</td>\n",
              "      <td>Midfield</td>\n",
              "    </tr>\n",
              "  </tbody>\n",
              "</table>\n",
              "</div>"
            ],
            "text/plain": [
              "             Name Nationality  Overall Best Position  Penalties Broad Position\n",
              "0       L. Suárez     Uruguay       92            ST       85.0         Attack\n",
              "1   R. Nainggolan     Belgium       86           CDM       63.0       Midfield\n",
              "2        A. Vidal       Chile       87           CDM       84.0       Midfield\n",
              "3        D. Alaba     Austria       86            LB       80.0        Defense\n",
              "4        P. Pogba      France       88           CAM       76.0       Midfield"
            ]
          },
          "metadata": {
            "tags": []
          },
          "execution_count": 1015
        }
      ]
    },
    {
      "cell_type": "markdown",
      "metadata": {
        "id": "TgqxG53Q6mcm"
      },
      "source": [
        "## **Creating a Countrywise Dataset**"
      ]
    },
    {
      "cell_type": "markdown",
      "metadata": {
        "id": "S-LRbetj1VWm"
      },
      "source": [
        "#### **Aggregating player skill levels to national skill level**"
      ]
    },
    {
      "cell_type": "markdown",
      "metadata": {
        "id": "jtYleNYhvzvy"
      },
      "source": [
        "The EA sports dataset gives player level data. However we require information on the performance of the team. Thus the player level data must be aggregated to a national level."
      ]
    },
    {
      "cell_type": "markdown",
      "metadata": {
        "id": "G6guzWBEwEAj"
      },
      "source": [
        "To do this, we will be identifying the nationality of players, selecting the top players from them (6 each of attack, midfield and defense players and 3 goalkeepers). The national teams skill level is approximated as the average of these top plyers of each country."
      ]
    },
    {
      "cell_type": "markdown",
      "metadata": {
        "id": "VBRx5wm7669K"
      },
      "source": [
        "2017"
      ]
    },
    {
      "cell_type": "code",
      "metadata": {
        "id": "cA-qeP8SL5eJ"
      },
      "source": [
        "df_17_country=pd.DataFrame(columns=['Country','Attack','Midfield','Defense','Penalties','GoalKeeper'])"
      ],
      "execution_count": null,
      "outputs": []
    },
    {
      "cell_type": "code",
      "metadata": {
        "colab": {
          "base_uri": "https://localhost:8080/"
        },
        "id": "ltInM4vVMCkJ",
        "outputId": "f8b57e37-8797-463f-dde3-72e9d367718c"
      },
      "source": [
        "areas =['Midfield','Attack','Defense','GoalKeeper']\n",
        "for country in Top50_2017:\n",
        "  country_df=df17.loc[df17['Nationality']==country]\n",
        "  position_data={}\n",
        "  position_data['Country']=country\n",
        "  penalty_sum=0\n",
        "  player_count=0\n",
        "  for position in areas:\n",
        "    position_df=country_df.loc[country_df['Broad Position']== position]\n",
        "    position_df.sort_values(by='Overall',ascending=False,inplace=True)\n",
        "    if position=='GoalKeeper':\n",
        "      position_df=position_df.head(6)\n",
        "    else:\n",
        "      position_df=position_df.head(3) \n",
        "    if (position=='Attack')|(position=='Midfield'):\n",
        "      penalty_sum+=position_df['Penalties'].sum()\n",
        "      player_count+=position_df.shape[0]\n",
        "    position_data[position]=position_df['Overall'].mean()\n",
        "  position_data['Penalties']=penalty_sum/player_count\n",
        "  df_17_country=df_17_country.append(position_data,ignore_index=True)\n"
      ],
      "execution_count": null,
      "outputs": [
        {
          "output_type": "stream",
          "text": [
            "/usr/local/lib/python3.7/dist-packages/ipykernel_launcher.py:10: SettingWithCopyWarning: \n",
            "A value is trying to be set on a copy of a slice from a DataFrame\n",
            "\n",
            "See the caveats in the documentation: https://pandas.pydata.org/pandas-docs/stable/user_guide/indexing.html#returning-a-view-versus-a-copy\n",
            "  # Remove the CWD from sys.path while we load stuff.\n"
          ],
          "name": "stderr"
        }
      ]
    },
    {
      "cell_type": "code",
      "metadata": {
        "id": "Ur4KUWXuTtOS"
      },
      "source": [
        "# Filling missing values with the row average\n",
        "df_17_country=df_17_country.T.fillna(df_17_country.mean(axis=1)).T"
      ],
      "execution_count": null,
      "outputs": []
    },
    {
      "cell_type": "code",
      "metadata": {
        "colab": {
          "base_uri": "https://localhost:8080/",
          "height": 206
        },
        "id": "htUlx22ZT5jW",
        "outputId": "dca841de-7da5-44a3-ddb6-b750759c43f2"
      },
      "source": [
        "df_17_country.tail(5)"
      ],
      "execution_count": null,
      "outputs": [
        {
          "output_type": "execute_result",
          "data": {
            "text/html": [
              "<div>\n",
              "<style scoped>\n",
              "    .dataframe tbody tr th:only-of-type {\n",
              "        vertical-align: middle;\n",
              "    }\n",
              "\n",
              "    .dataframe tbody tr th {\n",
              "        vertical-align: top;\n",
              "    }\n",
              "\n",
              "    .dataframe thead th {\n",
              "        text-align: right;\n",
              "    }\n",
              "</style>\n",
              "<table border=\"1\" class=\"dataframe\">\n",
              "  <thead>\n",
              "    <tr style=\"text-align: right;\">\n",
              "      <th></th>\n",
              "      <th>Country</th>\n",
              "      <th>Attack</th>\n",
              "      <th>Midfield</th>\n",
              "      <th>Defense</th>\n",
              "      <th>Penalties</th>\n",
              "      <th>GoalKeeper</th>\n",
              "    </tr>\n",
              "  </thead>\n",
              "  <tbody>\n",
              "    <tr>\n",
              "      <th>46</th>\n",
              "      <td>Burkina Faso</td>\n",
              "      <td>69</td>\n",
              "      <td>76.3333</td>\n",
              "      <td>72</td>\n",
              "      <td>62</td>\n",
              "      <td>69.8333</td>\n",
              "    </tr>\n",
              "    <tr>\n",
              "      <th>47</th>\n",
              "      <td>Algeria</td>\n",
              "      <td>76.3333</td>\n",
              "      <td>82</td>\n",
              "      <td>76.6667</td>\n",
              "      <td>75.3333</td>\n",
              "      <td>66.5</td>\n",
              "    </tr>\n",
              "    <tr>\n",
              "      <th>48</th>\n",
              "      <td>Korea Republic</td>\n",
              "      <td>72.3333</td>\n",
              "      <td>76.6667</td>\n",
              "      <td>74.3333</td>\n",
              "      <td>70</td>\n",
              "      <td>72.5</td>\n",
              "    </tr>\n",
              "    <tr>\n",
              "      <th>49</th>\n",
              "      <td>Ghana</td>\n",
              "      <td>76.6667</td>\n",
              "      <td>78.6667</td>\n",
              "      <td>75.6667</td>\n",
              "      <td>64</td>\n",
              "      <td>61.5</td>\n",
              "    </tr>\n",
              "    <tr>\n",
              "      <th>50</th>\n",
              "      <td>Russia</td>\n",
              "      <td>78</td>\n",
              "      <td>80.3333</td>\n",
              "      <td>80</td>\n",
              "      <td>72.3333</td>\n",
              "      <td>78</td>\n",
              "    </tr>\n",
              "  </tbody>\n",
              "</table>\n",
              "</div>"
            ],
            "text/plain": [
              "           Country   Attack Midfield  Defense Penalties GoalKeeper\n",
              "46    Burkina Faso       69  76.3333       72        62    69.8333\n",
              "47         Algeria  76.3333       82  76.6667   75.3333       66.5\n",
              "48  Korea Republic  72.3333  76.6667  74.3333        70       72.5\n",
              "49           Ghana  76.6667  78.6667  75.6667        64       61.5\n",
              "50          Russia       78  80.3333       80   72.3333         78"
            ]
          },
          "metadata": {
            "tags": []
          },
          "execution_count": 1019
        }
      ]
    },
    {
      "cell_type": "markdown",
      "metadata": {
        "id": "EgbsUTTn650c"
      },
      "source": [
        "2021"
      ]
    },
    {
      "cell_type": "code",
      "metadata": {
        "id": "9iDR4QtMRbsB"
      },
      "source": [
        "df_21_country=pd.DataFrame(columns=['Country','Attack','Midfield','Defense','Penalties','GoalKeeper'])"
      ],
      "execution_count": null,
      "outputs": []
    },
    {
      "cell_type": "code",
      "metadata": {
        "colab": {
          "base_uri": "https://localhost:8080/"
        },
        "id": "ue8GKUC6Rb5Y",
        "outputId": "ccf4df84-23af-4c8a-8e8b-a96c35908f9b"
      },
      "source": [
        "areas =['Midfield','Attack','Defense','GoalKeeper']\n",
        "for country in Top50_2021:\n",
        "  country_df=df21.loc[df21['Nationality']==country]\n",
        "  position_data={}\n",
        "  position_data['Country']=country\n",
        "  penalty_sum=0\n",
        "  player_count=0\n",
        "  for position in areas:\n",
        "    position_df=country_df.loc[country_df['Broad Position']== position]\n",
        "    position_df.sort_values(by='Overall',ascending=False,inplace=True)\n",
        "    if position=='GoalKeeper':\n",
        "      position_df=position_df.head(3)\n",
        "    else:\n",
        "      position_df=position_df.head(6) \n",
        "    if (position=='Attack')|(position=='Midfield'):\n",
        "      penalty_sum+=position_df['Penalties'].sum()\n",
        "      player_count+=position_df.shape[0]\n",
        "    position_data[position]=position_df['Overall'].mean()\n",
        "  position_data['Penalties']=penalty_sum/player_count\n",
        "  df_21_country=df_21_country.append(position_data,ignore_index=True)"
      ],
      "execution_count": null,
      "outputs": [
        {
          "output_type": "stream",
          "text": [
            "/usr/local/lib/python3.7/dist-packages/ipykernel_launcher.py:10: SettingWithCopyWarning: \n",
            "A value is trying to be set on a copy of a slice from a DataFrame\n",
            "\n",
            "See the caveats in the documentation: https://pandas.pydata.org/pandas-docs/stable/user_guide/indexing.html#returning-a-view-versus-a-copy\n",
            "  # Remove the CWD from sys.path while we load stuff.\n",
            "/usr/local/lib/python3.7/dist-packages/ipykernel_launcher.py:19: RuntimeWarning: invalid value encountered in double_scalars\n"
          ],
          "name": "stderr"
        }
      ]
    },
    {
      "cell_type": "code",
      "metadata": {
        "id": "K9wCKlG9UTdc"
      },
      "source": [
        "# Filling missing values with the row average\n",
        "df_21_country=df_21_country.T.fillna(df_21_country.mean(axis=1)).T"
      ],
      "execution_count": null,
      "outputs": []
    },
    {
      "cell_type": "code",
      "metadata": {
        "colab": {
          "base_uri": "https://localhost:8080/",
          "height": 206
        },
        "id": "dHjaDnhcUfsA",
        "outputId": "c4ec4f39-933b-469c-d39e-89898cd7aa30"
      },
      "source": [
        "df_21_country.tail(5)"
      ],
      "execution_count": null,
      "outputs": [
        {
          "output_type": "execute_result",
          "data": {
            "text/html": [
              "<div>\n",
              "<style scoped>\n",
              "    .dataframe tbody tr th:only-of-type {\n",
              "        vertical-align: middle;\n",
              "    }\n",
              "\n",
              "    .dataframe tbody tr th {\n",
              "        vertical-align: top;\n",
              "    }\n",
              "\n",
              "    .dataframe thead th {\n",
              "        text-align: right;\n",
              "    }\n",
              "</style>\n",
              "<table border=\"1\" class=\"dataframe\">\n",
              "  <thead>\n",
              "    <tr style=\"text-align: right;\">\n",
              "      <th></th>\n",
              "      <th>Country</th>\n",
              "      <th>Attack</th>\n",
              "      <th>Midfield</th>\n",
              "      <th>Defense</th>\n",
              "      <th>Penalties</th>\n",
              "      <th>GoalKeeper</th>\n",
              "    </tr>\n",
              "  </thead>\n",
              "  <tbody>\n",
              "    <tr>\n",
              "      <th>45</th>\n",
              "      <td>Egypt</td>\n",
              "      <td>73.6667</td>\n",
              "      <td>74</td>\n",
              "      <td>71.1667</td>\n",
              "      <td>70</td>\n",
              "      <td>71.6667</td>\n",
              "    </tr>\n",
              "    <tr>\n",
              "      <th>46</th>\n",
              "      <td>Republic of Ireland</td>\n",
              "      <td>73.3333</td>\n",
              "      <td>74.3333</td>\n",
              "      <td>78.1667</td>\n",
              "      <td>66.75</td>\n",
              "      <td>70.3333</td>\n",
              "    </tr>\n",
              "    <tr>\n",
              "      <th>47</th>\n",
              "      <td>Greece</td>\n",
              "      <td>71.3333</td>\n",
              "      <td>74.6667</td>\n",
              "      <td>77.5</td>\n",
              "      <td>61.75</td>\n",
              "      <td>77.3333</td>\n",
              "    </tr>\n",
              "    <tr>\n",
              "      <th>48</th>\n",
              "      <td>Scotland</td>\n",
              "      <td>71.3333</td>\n",
              "      <td>77.5</td>\n",
              "      <td>76.5</td>\n",
              "      <td>67</td>\n",
              "      <td>70.6667</td>\n",
              "    </tr>\n",
              "    <tr>\n",
              "      <th>49</th>\n",
              "      <td>Jamaica</td>\n",
              "      <td>69.1667</td>\n",
              "      <td>67.1667</td>\n",
              "      <td>68</td>\n",
              "      <td>62.4167</td>\n",
              "      <td>66.6875</td>\n",
              "    </tr>\n",
              "  </tbody>\n",
              "</table>\n",
              "</div>"
            ],
            "text/plain": [
              "                Country   Attack Midfield  Defense Penalties GoalKeeper\n",
              "45                Egypt  73.6667       74  71.1667        70    71.6667\n",
              "46  Republic of Ireland  73.3333  74.3333  78.1667     66.75    70.3333\n",
              "47               Greece  71.3333  74.6667     77.5     61.75    77.3333\n",
              "48             Scotland  71.3333     77.5     76.5        67    70.6667\n",
              "49              Jamaica  69.1667  67.1667       68   62.4167    66.6875"
            ]
          },
          "metadata": {
            "tags": []
          },
          "execution_count": 1029
        }
      ]
    },
    {
      "cell_type": "markdown",
      "metadata": {
        "id": "3CvoilmuxeMK"
      },
      "source": [
        "#### **FIFA Ranks**"
      ]
    },
    {
      "cell_type": "markdown",
      "metadata": {
        "id": "bdchI3SH4d3w"
      },
      "source": [
        "Since the FIFA also ranks national teams considering a variety of factors, the FIFA ranking as of August of the year prior to the World Cup has also been added as a variable."
      ]
    },
    {
      "cell_type": "code",
      "metadata": {
        "id": "1JAz6XE94cyB"
      },
      "source": [
        "rank_17=pd.read_csv('/wd/Top50Rank2017.csv')\n",
        "rank_17.columns=['index','Country','Rank']\n",
        "rank_21=pd.read_csv('/wd/Top50Rank2021.csv')\n",
        "rank_21.columns=['index','Country','Rank']\n",
        "\n",
        "rank_17=rank_17.drop('index', axis=1)\n",
        "rank_21=rank_21.drop('index', axis=1)\n",
        "\n",
        "change_names={'IR Iran': 'Iran','USA':'United States','Congo DR':'DR Congo','Bosnia and Herzegovina':'Bosnia Herzegovina'}\n",
        "\n",
        "rank_17['Country']=rank_17['Country'].replace(change_names)\n",
        "rank_21['Country']=rank_21['Country'].replace(change_names)\n",
        "\n",
        "df_17_country=pd.merge(df_17_country,rank_17,how='left',on='Country')\n",
        "df_21_country=pd.merge(df_21_country,rank_21,how='left',on='Country')"
      ],
      "execution_count": null,
      "outputs": []
    },
    {
      "cell_type": "markdown",
      "metadata": {
        "id": "A5Zh4KQWpwid"
      },
      "source": [
        "## **Model For 2018 World Cup Final**"
      ]
    },
    {
      "cell_type": "markdown",
      "metadata": {
        "id": "7xuJqwK6zBPt"
      },
      "source": [
        "As mentioned below, the model will be trained on the results of the 2018 world cup and then applied to predict for 2022."
      ]
    },
    {
      "cell_type": "markdown",
      "metadata": {
        "id": "LsxPqMyBy20j"
      },
      "source": [
        "#### **Getting the dependent variable: Number of wins in the FIFA tournament**"
      ]
    },
    {
      "cell_type": "markdown",
      "metadata": {
        "id": "2Obgh6zEzoNb"
      },
      "source": [
        "We will get the number of wins of each country from the results dataset."
      ]
    },
    {
      "cell_type": "code",
      "metadata": {
        "id": "EaAMHIADy1lz"
      },
      "source": [
        "df_results=pd.read_csv('/wd/results.csv')\n",
        "df_results['date']=pd.to_datetime(df_results['date'])"
      ],
      "execution_count": null,
      "outputs": []
    },
    {
      "cell_type": "code",
      "metadata": {
        "id": "AYPHRj08zJoi"
      },
      "source": [
        "df_results['year']=pd.DatetimeIndex(df_results['date']).year\n",
        "df_results_FIFA18=df_results.loc[(df_results['year']==2018) & (df_results['tournament']=='FIFA World Cup')]"
      ],
      "execution_count": null,
      "outputs": []
    },
    {
      "cell_type": "code",
      "metadata": {
        "colab": {
          "base_uri": "https://localhost:8080/",
          "height": 206
        },
        "id": "hr-okyCcZkBQ",
        "outputId": "0fb67c05-bd54-4376-aa9c-7f887efbc435"
      },
      "source": [
        "df_results_FIFA18.sample(5)"
      ],
      "execution_count": null,
      "outputs": [
        {
          "output_type": "execute_result",
          "data": {
            "text/html": [
              "<div>\n",
              "<style scoped>\n",
              "    .dataframe tbody tr th:only-of-type {\n",
              "        vertical-align: middle;\n",
              "    }\n",
              "\n",
              "    .dataframe tbody tr th {\n",
              "        vertical-align: top;\n",
              "    }\n",
              "\n",
              "    .dataframe thead th {\n",
              "        text-align: right;\n",
              "    }\n",
              "</style>\n",
              "<table border=\"1\" class=\"dataframe\">\n",
              "  <thead>\n",
              "    <tr style=\"text-align: right;\">\n",
              "      <th></th>\n",
              "      <th>date</th>\n",
              "      <th>home_team</th>\n",
              "      <th>away_team</th>\n",
              "      <th>home_score</th>\n",
              "      <th>away_score</th>\n",
              "      <th>tournament</th>\n",
              "      <th>city</th>\n",
              "      <th>country</th>\n",
              "      <th>neutral</th>\n",
              "      <th>year</th>\n",
              "    </tr>\n",
              "  </thead>\n",
              "  <tbody>\n",
              "    <tr>\n",
              "      <th>39913</th>\n",
              "      <td>2018-06-16</td>\n",
              "      <td>Croatia</td>\n",
              "      <td>Nigeria</td>\n",
              "      <td>2</td>\n",
              "      <td>0</td>\n",
              "      <td>FIFA World Cup</td>\n",
              "      <td>Kaliningrad</td>\n",
              "      <td>Russia</td>\n",
              "      <td>True</td>\n",
              "      <td>2018</td>\n",
              "    </tr>\n",
              "    <tr>\n",
              "      <th>39927</th>\n",
              "      <td>2018-06-21</td>\n",
              "      <td>France</td>\n",
              "      <td>Peru</td>\n",
              "      <td>1</td>\n",
              "      <td>0</td>\n",
              "      <td>FIFA World Cup</td>\n",
              "      <td>Ekaterinburg</td>\n",
              "      <td>Russia</td>\n",
              "      <td>True</td>\n",
              "      <td>2018</td>\n",
              "    </tr>\n",
              "    <tr>\n",
              "      <th>39961</th>\n",
              "      <td>2018-07-03</td>\n",
              "      <td>Colombia</td>\n",
              "      <td>England</td>\n",
              "      <td>1</td>\n",
              "      <td>1</td>\n",
              "      <td>FIFA World Cup</td>\n",
              "      <td>Moscow</td>\n",
              "      <td>Russia</td>\n",
              "      <td>True</td>\n",
              "      <td>2018</td>\n",
              "    </tr>\n",
              "    <tr>\n",
              "      <th>39922</th>\n",
              "      <td>2018-06-19</td>\n",
              "      <td>Russia</td>\n",
              "      <td>Egypt</td>\n",
              "      <td>3</td>\n",
              "      <td>1</td>\n",
              "      <td>FIFA World Cup</td>\n",
              "      <td>St. Petersburg</td>\n",
              "      <td>Russia</td>\n",
              "      <td>False</td>\n",
              "      <td>2018</td>\n",
              "    </tr>\n",
              "    <tr>\n",
              "      <th>39911</th>\n",
              "      <td>2018-06-16</td>\n",
              "      <td>Argentina</td>\n",
              "      <td>Iceland</td>\n",
              "      <td>1</td>\n",
              "      <td>1</td>\n",
              "      <td>FIFA World Cup</td>\n",
              "      <td>Moscow</td>\n",
              "      <td>Russia</td>\n",
              "      <td>True</td>\n",
              "      <td>2018</td>\n",
              "    </tr>\n",
              "  </tbody>\n",
              "</table>\n",
              "</div>"
            ],
            "text/plain": [
              "            date  home_team away_team  ...  country  neutral  year\n",
              "39913 2018-06-16    Croatia   Nigeria  ...   Russia     True  2018\n",
              "39927 2018-06-21     France      Peru  ...   Russia     True  2018\n",
              "39961 2018-07-03   Colombia   England  ...   Russia     True  2018\n",
              "39922 2018-06-19     Russia     Egypt  ...   Russia    False  2018\n",
              "39911 2018-06-16  Argentina   Iceland  ...   Russia     True  2018\n",
              "\n",
              "[5 rows x 10 columns]"
            ]
          },
          "metadata": {
            "tags": []
          },
          "execution_count": 1034
        }
      ]
    },
    {
      "cell_type": "code",
      "metadata": {
        "id": "G3SUAm0ZaJ6k"
      },
      "source": [
        "winner=[]\n",
        "for i in range(df_results_FIFA18.shape[0]):\n",
        "  row=df_results_FIFA18.iloc[i]\n",
        "  if row['home_score']>row['away_score']:\n",
        "    winner.append(df_results_FIFA18.iloc[i]['home_team'])\n",
        "  elif row['home_score']<row['away_score']:\n",
        "    winner.append(df_results_FIFA18.iloc[i]['away_team'])\n",
        "  else:\n",
        "    winner.append('draw')"
      ],
      "execution_count": null,
      "outputs": []
    },
    {
      "cell_type": "code",
      "metadata": {
        "colab": {
          "base_uri": "https://localhost:8080/",
          "height": 316
        },
        "id": "OmNudY4qaeee",
        "outputId": "0462739b-dfca-42ca-f04c-b2208e85060d"
      },
      "source": [
        "df_results_FIFA18['winning country']=winner\n",
        "df_results_FIFA18.sample(5)"
      ],
      "execution_count": null,
      "outputs": [
        {
          "output_type": "stream",
          "text": [
            "/usr/local/lib/python3.7/dist-packages/ipykernel_launcher.py:1: SettingWithCopyWarning: \n",
            "A value is trying to be set on a copy of a slice from a DataFrame.\n",
            "Try using .loc[row_indexer,col_indexer] = value instead\n",
            "\n",
            "See the caveats in the documentation: https://pandas.pydata.org/pandas-docs/stable/user_guide/indexing.html#returning-a-view-versus-a-copy\n",
            "  \"\"\"Entry point for launching an IPython kernel.\n"
          ],
          "name": "stderr"
        },
        {
          "output_type": "execute_result",
          "data": {
            "text/html": [
              "<div>\n",
              "<style scoped>\n",
              "    .dataframe tbody tr th:only-of-type {\n",
              "        vertical-align: middle;\n",
              "    }\n",
              "\n",
              "    .dataframe tbody tr th {\n",
              "        vertical-align: top;\n",
              "    }\n",
              "\n",
              "    .dataframe thead th {\n",
              "        text-align: right;\n",
              "    }\n",
              "</style>\n",
              "<table border=\"1\" class=\"dataframe\">\n",
              "  <thead>\n",
              "    <tr style=\"text-align: right;\">\n",
              "      <th></th>\n",
              "      <th>date</th>\n",
              "      <th>home_team</th>\n",
              "      <th>away_team</th>\n",
              "      <th>home_score</th>\n",
              "      <th>away_score</th>\n",
              "      <th>tournament</th>\n",
              "      <th>city</th>\n",
              "      <th>country</th>\n",
              "      <th>neutral</th>\n",
              "      <th>year</th>\n",
              "      <th>winning country</th>\n",
              "    </tr>\n",
              "  </thead>\n",
              "  <tbody>\n",
              "    <tr>\n",
              "      <th>39933</th>\n",
              "      <td>2018-06-23</td>\n",
              "      <td>South Korea</td>\n",
              "      <td>Mexico</td>\n",
              "      <td>1</td>\n",
              "      <td>2</td>\n",
              "      <td>FIFA World Cup</td>\n",
              "      <td>Rostov-on-Don</td>\n",
              "      <td>Russia</td>\n",
              "      <td>True</td>\n",
              "      <td>2018</td>\n",
              "      <td>Mexico</td>\n",
              "    </tr>\n",
              "    <tr>\n",
              "      <th>39970</th>\n",
              "      <td>2018-07-15</td>\n",
              "      <td>France</td>\n",
              "      <td>Croatia</td>\n",
              "      <td>4</td>\n",
              "      <td>2</td>\n",
              "      <td>FIFA World Cup</td>\n",
              "      <td>Moscow</td>\n",
              "      <td>Russia</td>\n",
              "      <td>True</td>\n",
              "      <td>2018</td>\n",
              "      <td>France</td>\n",
              "    </tr>\n",
              "    <tr>\n",
              "      <th>39945</th>\n",
              "      <td>2018-06-26</td>\n",
              "      <td>Iceland</td>\n",
              "      <td>Croatia</td>\n",
              "      <td>1</td>\n",
              "      <td>2</td>\n",
              "      <td>FIFA World Cup</td>\n",
              "      <td>Rostov-on-Don</td>\n",
              "      <td>Russia</td>\n",
              "      <td>True</td>\n",
              "      <td>2018</td>\n",
              "      <td>Croatia</td>\n",
              "    </tr>\n",
              "    <tr>\n",
              "      <th>39924</th>\n",
              "      <td>2018-06-20</td>\n",
              "      <td>Uruguay</td>\n",
              "      <td>Saudi Arabia</td>\n",
              "      <td>1</td>\n",
              "      <td>0</td>\n",
              "      <td>FIFA World Cup</td>\n",
              "      <td>Rostov-on-Don</td>\n",
              "      <td>Russia</td>\n",
              "      <td>True</td>\n",
              "      <td>2018</td>\n",
              "      <td>Uruguay</td>\n",
              "    </tr>\n",
              "    <tr>\n",
              "      <th>39919</th>\n",
              "      <td>2018-06-18</td>\n",
              "      <td>Tunisia</td>\n",
              "      <td>England</td>\n",
              "      <td>1</td>\n",
              "      <td>2</td>\n",
              "      <td>FIFA World Cup</td>\n",
              "      <td>Volgograd</td>\n",
              "      <td>Russia</td>\n",
              "      <td>True</td>\n",
              "      <td>2018</td>\n",
              "      <td>England</td>\n",
              "    </tr>\n",
              "  </tbody>\n",
              "</table>\n",
              "</div>"
            ],
            "text/plain": [
              "            date    home_team     away_team  ...  neutral  year winning country\n",
              "39933 2018-06-23  South Korea        Mexico  ...     True  2018          Mexico\n",
              "39970 2018-07-15       France       Croatia  ...     True  2018          France\n",
              "39945 2018-06-26      Iceland       Croatia  ...     True  2018         Croatia\n",
              "39924 2018-06-20      Uruguay  Saudi Arabia  ...     True  2018         Uruguay\n",
              "39919 2018-06-18      Tunisia       England  ...     True  2018         England\n",
              "\n",
              "[5 rows x 11 columns]"
            ]
          },
          "metadata": {
            "tags": []
          },
          "execution_count": 1036
        }
      ]
    },
    {
      "cell_type": "code",
      "metadata": {
        "id": "lPWzDDIm2yD3"
      },
      "source": [
        "winCountDf=df_results_FIFA18[['winning country','date']].groupby('winning country',as_index=False).count()\n",
        "winCountDf.columns=['Country','Win Count']"
      ],
      "execution_count": null,
      "outputs": []
    },
    {
      "cell_type": "code",
      "metadata": {
        "id": "spkPRTEl2sdp"
      },
      "source": [
        "df_17_country=pd.merge(df_17_country,winCountDf,how='left',on='Country')\n",
        "df_17_country['Win Count']=df_17_country['Win Count'].fillna(0)"
      ],
      "execution_count": null,
      "outputs": []
    },
    {
      "cell_type": "code",
      "metadata": {
        "colab": {
          "base_uri": "https://localhost:8080/",
          "height": 206
        },
        "id": "h11EKakx4YoN",
        "outputId": "92cb2b65-3489-478c-afe5-978a9e1d87f6"
      },
      "source": [
        "df_17_country.sample(5)"
      ],
      "execution_count": null,
      "outputs": [
        {
          "output_type": "execute_result",
          "data": {
            "text/html": [
              "<div>\n",
              "<style scoped>\n",
              "    .dataframe tbody tr th:only-of-type {\n",
              "        vertical-align: middle;\n",
              "    }\n",
              "\n",
              "    .dataframe tbody tr th {\n",
              "        vertical-align: top;\n",
              "    }\n",
              "\n",
              "    .dataframe thead th {\n",
              "        text-align: right;\n",
              "    }\n",
              "</style>\n",
              "<table border=\"1\" class=\"dataframe\">\n",
              "  <thead>\n",
              "    <tr style=\"text-align: right;\">\n",
              "      <th></th>\n",
              "      <th>Country</th>\n",
              "      <th>Attack</th>\n",
              "      <th>Midfield</th>\n",
              "      <th>Defense</th>\n",
              "      <th>Penalties</th>\n",
              "      <th>GoalKeeper</th>\n",
              "      <th>Rank</th>\n",
              "      <th>Win Count</th>\n",
              "    </tr>\n",
              "  </thead>\n",
              "  <tbody>\n",
              "    <tr>\n",
              "      <th>21</th>\n",
              "      <td>Slovakia</td>\n",
              "      <td>70</td>\n",
              "      <td>80</td>\n",
              "      <td>77</td>\n",
              "      <td>70</td>\n",
              "      <td>67.3333</td>\n",
              "      <td>22</td>\n",
              "      <td>0.0</td>\n",
              "    </tr>\n",
              "    <tr>\n",
              "      <th>47</th>\n",
              "      <td>Algeria</td>\n",
              "      <td>76.3333</td>\n",
              "      <td>82</td>\n",
              "      <td>76.6667</td>\n",
              "      <td>75.3333</td>\n",
              "      <td>66.5</td>\n",
              "      <td>48</td>\n",
              "      <td>0.0</td>\n",
              "    </tr>\n",
              "    <tr>\n",
              "      <th>24</th>\n",
              "      <td>Egypt</td>\n",
              "      <td>77</td>\n",
              "      <td>74.6667</td>\n",
              "      <td>71.6667</td>\n",
              "      <td>65.8333</td>\n",
              "      <td>71</td>\n",
              "      <td>25</td>\n",
              "      <td>0.0</td>\n",
              "    </tr>\n",
              "    <tr>\n",
              "      <th>39</th>\n",
              "      <td>Czech Republic</td>\n",
              "      <td>75</td>\n",
              "      <td>77.6667</td>\n",
              "      <td>76.6667</td>\n",
              "      <td>71.5</td>\n",
              "      <td>75.8333</td>\n",
              "      <td>40</td>\n",
              "      <td>0.0</td>\n",
              "    </tr>\n",
              "    <tr>\n",
              "      <th>29</th>\n",
              "      <td>Bosnia Herzegovina</td>\n",
              "      <td>80.6667</td>\n",
              "      <td>79.6667</td>\n",
              "      <td>77</td>\n",
              "      <td>70.3333</td>\n",
              "      <td>72</td>\n",
              "      <td>30</td>\n",
              "      <td>0.0</td>\n",
              "    </tr>\n",
              "  </tbody>\n",
              "</table>\n",
              "</div>"
            ],
            "text/plain": [
              "               Country   Attack Midfield  ... GoalKeeper Rank Win Count\n",
              "21            Slovakia       70       80  ...    67.3333   22       0.0\n",
              "47             Algeria  76.3333       82  ...       66.5   48       0.0\n",
              "24               Egypt       77  74.6667  ...         71   25       0.0\n",
              "39      Czech Republic       75  77.6667  ...    75.8333   40       0.0\n",
              "29  Bosnia Herzegovina  80.6667  79.6667  ...         72   30       0.0\n",
              "\n",
              "[5 rows x 8 columns]"
            ]
          },
          "metadata": {
            "tags": []
          },
          "execution_count": 1039
        }
      ]
    },
    {
      "cell_type": "markdown",
      "metadata": {
        "id": "GNme3xURba3T"
      },
      "source": [
        "#### **Correlation Analysis**"
      ]
    },
    {
      "cell_type": "markdown",
      "metadata": {
        "id": "Xzj8Ohklz3dF"
      },
      "source": [
        "This is to identify identify intercorrelation between variable as well as variables that are correlated with the dependent variable."
      ]
    },
    {
      "cell_type": "code",
      "metadata": {
        "colab": {
          "base_uri": "https://localhost:8080/",
          "height": 505
        },
        "id": "bzVUJMmOmZV8",
        "outputId": "9e2d7de6-067f-4da3-c0e1-88dd8c545b19"
      },
      "source": [
        "corr=df_17_country.drop('Country',axis=1).astype('float').corr()\n",
        "\n",
        "fig, ax = plt.subplots(figsize=(12,8))\n",
        "sns.heatmap(corr,annot=True,cmap='RdBu',ax=ax)"
      ],
      "execution_count": null,
      "outputs": [
        {
          "output_type": "execute_result",
          "data": {
            "text/plain": [
              "<matplotlib.axes._subplots.AxesSubplot at 0x7f147be85610>"
            ]
          },
          "metadata": {
            "tags": []
          },
          "execution_count": 1040
        },
        {
          "output_type": "display_data",
          "data": {
            "image/png": "[encoded data removed]",
            "text/plain": [
              "<Figure size 864x576 with 2 Axes>"
            ]
          },
          "metadata": {
            "tags": [],
            "needs_background": "light"
          }
        }
      ]
    },
    {
      "cell_type": "markdown",
      "metadata": {
        "id": "8laCm2fyoBZz"
      },
      "source": [
        "The correlation plot shows only a moderate correlation with a team's potential skill level and the number of wins as opposed to the strong correlated that would be expected. Some investingation revealed the possible reaons as\n",
        "1. Qualification: Ideally if we can identify teams that can qualify for the match, we will get more accurate results. However as of now, the qualification for the 2022 world cup is not yet complete. Hence we have taken the top 50 teams. However, since qualification happens regionally and in groupes, a country that may not be very skilled still as the potential to get into the 32 teams that compete, and perhaps win a match or two depending on its group, whereas a stronger team that competes in a stronger region like in Europe may not qualify. \n",
        "\n",
        "2. Match structure: The selected 32 teams are grouped, and compete within the group to get into the top 16. The group a team falls into can make a different throughout the tournament, since if a team falls into a weaker group, and the adjacent groups are also weak, the team has a higher chance of winning matches compared to a team in a stronger group. However we do not have data on the match structure."
      ]
    },
    {
      "cell_type": "markdown",
      "metadata": {
        "id": "jtz5IpnozO1i"
      },
      "source": [
        "#### **Predicting Who will Qualify**"
      ]
    },
    {
      "cell_type": "markdown",
      "metadata": {
        "id": "_gWfROc_04Mu"
      },
      "source": [
        "To remedy the problem of weaker teams qualifying while stronger teams do not, an attempt has been made to identify the teams that will likley qualify considering the quotas given to each confederation. "
      ]
    },
    {
      "cell_type": "markdown",
      "metadata": {
        "id": "6eApdG7r1q4f"
      },
      "source": [
        "Since having strong teams that dont win any matches simply because they did not qualify will skew the results, we have taken a stricter approach to identifying teams that will qualify. For each confederation we take the top performing teams upto the quoata for that confederations. Top performance has been by player skill level and by FIFA rank. Teams that appear to qualify as per both rank and player skill are deemed to have likely qualified."
      ]
    },
    {
      "cell_type": "code",
      "metadata": {
        "id": "d8iMeYE4mzm4"
      },
      "source": [
        "AFC=['Iran','Japan','Australia','Korea Republic']\n",
        "CAF=['DR Congo','Senegal','Ecuador','Tunisia','Cameroon','Nigeria','Burkina Faso','Algeria','Ghana','Egypt']\n",
        "CONCACAF=['Mexico','Costa Rica','United States']\n",
        "CONMEBOL=['Brazil','Argentina','Chile','Colombia','Peru','Uruguay','Paraguay']\n",
        "OFC=['New Zealand']\n",
        "UEFA=['Germany','Switzerland','Poland','Portugal','Belgium','France','Spain','Italy','England','Croatia','Wales','Sweden','Iceland','Slovakia'\n",
        "      'Northern Ireland','Ukraine','Republic of Ireland','Bosnia Herzegovina','Netherlands','Austria','Greece','Czech Republic','Serbia',\n",
        "      'Romania','Denmark','Russia','Turkey']"
      ],
      "execution_count": null,
      "outputs": []
    },
    {
      "cell_type": "code",
      "metadata": {
        "id": "aSOq-DmKphm0"
      },
      "source": [
        "Quota={'AFC':5,'CAF':5,'CONCACAF':3,'CONMEBOL':5,'OFC':0,'UEFA':13}\n",
        "# FIFA's initial decision was in decimal numbers, and the team that qualifies was decided based on a inter-confederation match. Here it \n",
        "# has been allocated to the confederation which was larger in size and had stronger teams."
      ],
      "execution_count": null,
      "outputs": []
    },
    {
      "cell_type": "code",
      "metadata": {
        "id": "L-d_ymlYrRSF"
      },
      "source": [
        "df_17_country['Confederation']='ABC'\n",
        "\n",
        "for i in range(len(df_17_country)):\n",
        "  df_17_country.loc[df_17_country['Country'].isin(AFC),'Confederation']='AFC'\n",
        "  df_17_country.loc[df_17_country['Country'].isin(CAF),'Confederation']='CAF'\n",
        "  df_17_country.loc[df_17_country['Country'].isin(CONCACAF),'Confederation']='CONCACAF'\n",
        "  df_17_country.loc[df_17_country['Country'].isin(CONMEBOL),'Confederation']='CONMEBOL'\n",
        "  df_17_country.loc[df_17_country['Country'].isin(OFC),'Confederation']='OFC'\n",
        "  df_17_country.loc[df_17_country['Country'].isin(UEFA),'Confederation']='UEFA'"
      ],
      "execution_count": null,
      "outputs": []
    },
    {
      "cell_type": "code",
      "metadata": {
        "colab": {
          "base_uri": "https://localhost:8080/",
          "height": 206
        },
        "id": "HBpEW9GzvjXh",
        "outputId": "62005570-803c-4e73-ba77-bb7bb40c70dc"
      },
      "source": [
        "df_17_country.sample(5)"
      ],
      "execution_count": null,
      "outputs": [
        {
          "output_type": "execute_result",
          "data": {
            "text/html": [
              "<div>\n",
              "<style scoped>\n",
              "    .dataframe tbody tr th:only-of-type {\n",
              "        vertical-align: middle;\n",
              "    }\n",
              "\n",
              "    .dataframe tbody tr th {\n",
              "        vertical-align: top;\n",
              "    }\n",
              "\n",
              "    .dataframe thead th {\n",
              "        text-align: right;\n",
              "    }\n",
              "</style>\n",
              "<table border=\"1\" class=\"dataframe\">\n",
              "  <thead>\n",
              "    <tr style=\"text-align: right;\">\n",
              "      <th></th>\n",
              "      <th>Country</th>\n",
              "      <th>Attack</th>\n",
              "      <th>Midfield</th>\n",
              "      <th>Defense</th>\n",
              "      <th>Penalties</th>\n",
              "      <th>GoalKeeper</th>\n",
              "      <th>Rank</th>\n",
              "      <th>Win Count</th>\n",
              "      <th>Confederation</th>\n",
              "    </tr>\n",
              "  </thead>\n",
              "  <tbody>\n",
              "    <tr>\n",
              "      <th>50</th>\n",
              "      <td>Russia</td>\n",
              "      <td>78</td>\n",
              "      <td>80.3333</td>\n",
              "      <td>80</td>\n",
              "      <td>72.3333</td>\n",
              "      <td>78</td>\n",
              "      <td>62</td>\n",
              "      <td>2.0</td>\n",
              "      <td>UEFA</td>\n",
              "    </tr>\n",
              "    <tr>\n",
              "      <th>43</th>\n",
              "      <td>Japan</td>\n",
              "      <td>74.6667</td>\n",
              "      <td>79.3333</td>\n",
              "      <td>74.6667</td>\n",
              "      <td>71.1667</td>\n",
              "      <td>69.1667</td>\n",
              "      <td>44</td>\n",
              "      <td>1.0</td>\n",
              "      <td>AFC</td>\n",
              "    </tr>\n",
              "    <tr>\n",
              "      <th>32</th>\n",
              "      <td>Turkey</td>\n",
              "      <td>77.3333</td>\n",
              "      <td>81.3333</td>\n",
              "      <td>78.6667</td>\n",
              "      <td>77.6667</td>\n",
              "      <td>76.3333</td>\n",
              "      <td>33</td>\n",
              "      <td>0.0</td>\n",
              "      <td>UEFA</td>\n",
              "    </tr>\n",
              "    <tr>\n",
              "      <th>25</th>\n",
              "      <td>United States</td>\n",
              "      <td>76.3333</td>\n",
              "      <td>77.6667</td>\n",
              "      <td>77.3333</td>\n",
              "      <td>64.6667</td>\n",
              "      <td>72.3333</td>\n",
              "      <td>26</td>\n",
              "      <td>0.0</td>\n",
              "      <td>CONCACAF</td>\n",
              "    </tr>\n",
              "    <tr>\n",
              "      <th>47</th>\n",
              "      <td>Algeria</td>\n",
              "      <td>76.3333</td>\n",
              "      <td>82</td>\n",
              "      <td>76.6667</td>\n",
              "      <td>75.3333</td>\n",
              "      <td>66.5</td>\n",
              "      <td>48</td>\n",
              "      <td>0.0</td>\n",
              "      <td>CAF</td>\n",
              "    </tr>\n",
              "  </tbody>\n",
              "</table>\n",
              "</div>"
            ],
            "text/plain": [
              "          Country   Attack Midfield  ... Rank Win Count Confederation\n",
              "50         Russia       78  80.3333  ...   62       2.0          UEFA\n",
              "43          Japan  74.6667  79.3333  ...   44       1.0           AFC\n",
              "32         Turkey  77.3333  81.3333  ...   33       0.0          UEFA\n",
              "25  United States  76.3333  77.6667  ...   26       0.0      CONCACAF\n",
              "47        Algeria  76.3333       82  ...   48       0.0           CAF\n",
              "\n",
              "[5 rows x 9 columns]"
            ]
          },
          "metadata": {
            "tags": []
          },
          "execution_count": 1044
        }
      ]
    },
    {
      "cell_type": "code",
      "metadata": {
        "id": "X8DL0cDrv4G5"
      },
      "source": [
        "df_17_country['Average Score']=df_17_country[['Attack','Midfield','Defense','GoalKeeper']].mean(axis=1)"
      ],
      "execution_count": null,
      "outputs": []
    },
    {
      "cell_type": "code",
      "metadata": {
        "id": "xTf6oR-rxNWC"
      },
      "source": [
        "df17_qual_score=pd.DataFrame(columns=df_17_country.columns)\n",
        "\n",
        "for confederation in list(Quota.keys()):\n",
        "  temp=df_17_country.loc[df_17_country['Confederation']==confederation]\n",
        "  temp=temp.sort_values(by='Average Score',ascending=False)\n",
        "  temp=temp.head(Quota[confederation])\n",
        "  df17_qual_score=df17_qual_score.append(temp,ignore_index=True)"
      ],
      "execution_count": null,
      "outputs": []
    },
    {
      "cell_type": "code",
      "metadata": {
        "colab": {
          "base_uri": "https://localhost:8080/",
          "height": 206
        },
        "id": "cH8zPCUt0nDn",
        "outputId": "3a709ee2-7d15-429d-bee4-e3bead1b8e79"
      },
      "source": [
        "df17_qual_score.tail(5)"
      ],
      "execution_count": null,
      "outputs": [
        {
          "output_type": "execute_result",
          "data": {
            "text/html": [
              "<div>\n",
              "<style scoped>\n",
              "    .dataframe tbody tr th:only-of-type {\n",
              "        vertical-align: middle;\n",
              "    }\n",
              "\n",
              "    .dataframe tbody tr th {\n",
              "        vertical-align: top;\n",
              "    }\n",
              "\n",
              "    .dataframe thead th {\n",
              "        text-align: right;\n",
              "    }\n",
              "</style>\n",
              "<table border=\"1\" class=\"dataframe\">\n",
              "  <thead>\n",
              "    <tr style=\"text-align: right;\">\n",
              "      <th></th>\n",
              "      <th>Country</th>\n",
              "      <th>Attack</th>\n",
              "      <th>Midfield</th>\n",
              "      <th>Defense</th>\n",
              "      <th>Penalties</th>\n",
              "      <th>GoalKeeper</th>\n",
              "      <th>Rank</th>\n",
              "      <th>Win Count</th>\n",
              "      <th>Confederation</th>\n",
              "      <th>Average Score</th>\n",
              "    </tr>\n",
              "  </thead>\n",
              "  <tbody>\n",
              "    <tr>\n",
              "      <th>25</th>\n",
              "      <td>Croatia</td>\n",
              "      <td>81</td>\n",
              "      <td>86.6667</td>\n",
              "      <td>80.6667</td>\n",
              "      <td>77</td>\n",
              "      <td>72</td>\n",
              "      <td>16</td>\n",
              "      <td>4.0</td>\n",
              "      <td>UEFA</td>\n",
              "      <td>80.083333</td>\n",
              "    </tr>\n",
              "    <tr>\n",
              "      <th>26</th>\n",
              "      <td>Poland</td>\n",
              "      <td>82.6667</td>\n",
              "      <td>77.6667</td>\n",
              "      <td>83</td>\n",
              "      <td>70.6667</td>\n",
              "      <td>76.5</td>\n",
              "      <td>5</td>\n",
              "      <td>1.0</td>\n",
              "      <td>UEFA</td>\n",
              "      <td>79.958333</td>\n",
              "    </tr>\n",
              "    <tr>\n",
              "      <th>27</th>\n",
              "      <td>Russia</td>\n",
              "      <td>78</td>\n",
              "      <td>80.3333</td>\n",
              "      <td>80</td>\n",
              "      <td>72.3333</td>\n",
              "      <td>78</td>\n",
              "      <td>62</td>\n",
              "      <td>2.0</td>\n",
              "      <td>UEFA</td>\n",
              "      <td>79.083333</td>\n",
              "    </tr>\n",
              "    <tr>\n",
              "      <th>28</th>\n",
              "      <td>Switzerland</td>\n",
              "      <td>76</td>\n",
              "      <td>80.6667</td>\n",
              "      <td>80</td>\n",
              "      <td>66.5</td>\n",
              "      <td>78.6667</td>\n",
              "      <td>4</td>\n",
              "      <td>1.0</td>\n",
              "      <td>UEFA</td>\n",
              "      <td>78.833333</td>\n",
              "    </tr>\n",
              "    <tr>\n",
              "      <th>29</th>\n",
              "      <td>Denmark</td>\n",
              "      <td>77.6667</td>\n",
              "      <td>82.3333</td>\n",
              "      <td>79.6667</td>\n",
              "      <td>71</td>\n",
              "      <td>75</td>\n",
              "      <td>46</td>\n",
              "      <td>1.0</td>\n",
              "      <td>UEFA</td>\n",
              "      <td>78.666667</td>\n",
              "    </tr>\n",
              "  </tbody>\n",
              "</table>\n",
              "</div>"
            ],
            "text/plain": [
              "        Country   Attack Midfield  ... Win Count Confederation Average Score\n",
              "25      Croatia       81  86.6667  ...       4.0          UEFA     80.083333\n",
              "26       Poland  82.6667  77.6667  ...       1.0          UEFA     79.958333\n",
              "27       Russia       78  80.3333  ...       2.0          UEFA     79.083333\n",
              "28  Switzerland       76  80.6667  ...       1.0          UEFA     78.833333\n",
              "29      Denmark  77.6667  82.3333  ...       1.0          UEFA     78.666667\n",
              "\n",
              "[5 rows x 10 columns]"
            ]
          },
          "metadata": {
            "tags": []
          },
          "execution_count": 1047
        }
      ]
    },
    {
      "cell_type": "code",
      "metadata": {
        "id": "EdHphKdw1FFS"
      },
      "source": [
        "df17_qual_rank=pd.DataFrame(columns=df_17_country.columns)\n",
        "\n",
        "for confederation in list(Quota.keys()):\n",
        "  temp=df_17_country.loc[df_17_country['Confederation']==confederation]\n",
        "  temp=temp.sort_values(by='Rank',ascending=True)\n",
        "  temp=temp.head(Quota[confederation])\n",
        "  df17_qual_rank=df17_qual_rank.append(temp,ignore_index=True)"
      ],
      "execution_count": null,
      "outputs": []
    },
    {
      "cell_type": "code",
      "metadata": {
        "colab": {
          "base_uri": "https://localhost:8080/",
          "height": 206
        },
        "id": "wsc7sIhe10oA",
        "outputId": "356e6d60-479a-4140-b119-b167b0d9a24d"
      },
      "source": [
        "df17_qual_rank.tail(5)"
      ],
      "execution_count": null,
      "outputs": [
        {
          "output_type": "execute_result",
          "data": {
            "text/html": [
              "<div>\n",
              "<style scoped>\n",
              "    .dataframe tbody tr th:only-of-type {\n",
              "        vertical-align: middle;\n",
              "    }\n",
              "\n",
              "    .dataframe tbody tr th {\n",
              "        vertical-align: top;\n",
              "    }\n",
              "\n",
              "    .dataframe thead th {\n",
              "        text-align: right;\n",
              "    }\n",
              "</style>\n",
              "<table border=\"1\" class=\"dataframe\">\n",
              "  <thead>\n",
              "    <tr style=\"text-align: right;\">\n",
              "      <th></th>\n",
              "      <th>Country</th>\n",
              "      <th>Attack</th>\n",
              "      <th>Midfield</th>\n",
              "      <th>Defense</th>\n",
              "      <th>Penalties</th>\n",
              "      <th>GoalKeeper</th>\n",
              "      <th>Rank</th>\n",
              "      <th>Win Count</th>\n",
              "      <th>Confederation</th>\n",
              "      <th>Average Score</th>\n",
              "    </tr>\n",
              "  </thead>\n",
              "  <tbody>\n",
              "    <tr>\n",
              "      <th>25</th>\n",
              "      <td>England</td>\n",
              "      <td>83.6667</td>\n",
              "      <td>82.3333</td>\n",
              "      <td>83</td>\n",
              "      <td>69.8333</td>\n",
              "      <td>79.5</td>\n",
              "      <td>13</td>\n",
              "      <td>3.0</td>\n",
              "      <td>UEFA</td>\n",
              "      <td>82.125000</td>\n",
              "    </tr>\n",
              "    <tr>\n",
              "      <th>26</th>\n",
              "      <td>Croatia</td>\n",
              "      <td>81</td>\n",
              "      <td>86.6667</td>\n",
              "      <td>80.6667</td>\n",
              "      <td>77</td>\n",
              "      <td>72</td>\n",
              "      <td>16</td>\n",
              "      <td>4.0</td>\n",
              "      <td>UEFA</td>\n",
              "      <td>80.083333</td>\n",
              "    </tr>\n",
              "    <tr>\n",
              "      <th>27</th>\n",
              "      <td>Wales</td>\n",
              "      <td>78.6667</td>\n",
              "      <td>78</td>\n",
              "      <td>79</td>\n",
              "      <td>69</td>\n",
              "      <td>69.1667</td>\n",
              "      <td>18</td>\n",
              "      <td>0.0</td>\n",
              "      <td>UEFA</td>\n",
              "      <td>76.208333</td>\n",
              "    </tr>\n",
              "    <tr>\n",
              "      <th>28</th>\n",
              "      <td>Sweden</td>\n",
              "      <td>82.6667</td>\n",
              "      <td>78.3333</td>\n",
              "      <td>79.3333</td>\n",
              "      <td>71</td>\n",
              "      <td>73</td>\n",
              "      <td>19</td>\n",
              "      <td>3.0</td>\n",
              "      <td>UEFA</td>\n",
              "      <td>78.333333</td>\n",
              "    </tr>\n",
              "    <tr>\n",
              "      <th>29</th>\n",
              "      <td>Iceland</td>\n",
              "      <td>75</td>\n",
              "      <td>76.6667</td>\n",
              "      <td>70.6667</td>\n",
              "      <td>66.8333</td>\n",
              "      <td>63.6667</td>\n",
              "      <td>20</td>\n",
              "      <td>0.0</td>\n",
              "      <td>UEFA</td>\n",
              "      <td>71.500000</td>\n",
              "    </tr>\n",
              "  </tbody>\n",
              "</table>\n",
              "</div>"
            ],
            "text/plain": [
              "    Country   Attack Midfield  ... Win Count Confederation Average Score\n",
              "25  England  83.6667  82.3333  ...       3.0          UEFA     82.125000\n",
              "26  Croatia       81  86.6667  ...       4.0          UEFA     80.083333\n",
              "27    Wales  78.6667       78  ...       0.0          UEFA     76.208333\n",
              "28   Sweden  82.6667  78.3333  ...       3.0          UEFA     78.333333\n",
              "29  Iceland       75  76.6667  ...       0.0          UEFA     71.500000\n",
              "\n",
              "[5 rows x 10 columns]"
            ]
          },
          "metadata": {
            "tags": []
          },
          "execution_count": 1049
        }
      ]
    },
    {
      "cell_type": "code",
      "metadata": {
        "id": "XBLrwqhG12I-"
      },
      "source": [
        "countries_by_score=list(df17_qual_rank['Country'])\n",
        "df_qual=df17_qual_score[df17_qual_score['Country'].isin(countries_by_score)].drop('Average Score',axis=1)"
      ],
      "execution_count": null,
      "outputs": []
    },
    {
      "cell_type": "code",
      "metadata": {
        "colab": {
          "base_uri": "https://localhost:8080/"
        },
        "id": "OZvjibzKFoG2",
        "outputId": "8859fe66-8993-4565-aed8-80a4d984d384"
      },
      "source": [
        "df_qual.shape"
      ],
      "execution_count": null,
      "outputs": [
        {
          "output_type": "execute_result",
          "data": {
            "text/plain": [
              "(23, 9)"
            ]
          },
          "metadata": {
            "tags": []
          },
          "execution_count": 1051
        }
      ]
    },
    {
      "cell_type": "code",
      "metadata": {
        "colab": {
          "base_uri": "https://localhost:8080/",
          "height": 363
        },
        "id": "Kbmnocsn4q_Y",
        "outputId": "f0da1172-d069-41e4-d48d-95a497a57325"
      },
      "source": [
        "df_qual.iloc[5:15]"
      ],
      "execution_count": null,
      "outputs": [
        {
          "output_type": "execute_result",
          "data": {
            "text/html": [
              "<div>\n",
              "<style scoped>\n",
              "    .dataframe tbody tr th:only-of-type {\n",
              "        vertical-align: middle;\n",
              "    }\n",
              "\n",
              "    .dataframe tbody tr th {\n",
              "        vertical-align: top;\n",
              "    }\n",
              "\n",
              "    .dataframe thead th {\n",
              "        text-align: right;\n",
              "    }\n",
              "</style>\n",
              "<table border=\"1\" class=\"dataframe\">\n",
              "  <thead>\n",
              "    <tr style=\"text-align: right;\">\n",
              "      <th></th>\n",
              "      <th>Country</th>\n",
              "      <th>Attack</th>\n",
              "      <th>Midfield</th>\n",
              "      <th>Defense</th>\n",
              "      <th>Penalties</th>\n",
              "      <th>GoalKeeper</th>\n",
              "      <th>Rank</th>\n",
              "      <th>Win Count</th>\n",
              "      <th>Confederation</th>\n",
              "    </tr>\n",
              "  </thead>\n",
              "  <tbody>\n",
              "    <tr>\n",
              "      <th>8</th>\n",
              "      <td>Ecuador</td>\n",
              "      <td>75.3333</td>\n",
              "      <td>77</td>\n",
              "      <td>75.6667</td>\n",
              "      <td>71.6667</td>\n",
              "      <td>70.6667</td>\n",
              "      <td>32</td>\n",
              "      <td>0.0</td>\n",
              "      <td>CAF</td>\n",
              "    </tr>\n",
              "    <tr>\n",
              "      <th>9</th>\n",
              "      <td>Mexico</td>\n",
              "      <td>80.6667</td>\n",
              "      <td>80</td>\n",
              "      <td>78.6667</td>\n",
              "      <td>71.8333</td>\n",
              "      <td>74.8333</td>\n",
              "      <td>14</td>\n",
              "      <td>2.0</td>\n",
              "      <td>CONCACAF</td>\n",
              "    </tr>\n",
              "    <tr>\n",
              "      <th>10</th>\n",
              "      <td>United States</td>\n",
              "      <td>76.3333</td>\n",
              "      <td>77.6667</td>\n",
              "      <td>77.3333</td>\n",
              "      <td>64.6667</td>\n",
              "      <td>72.3333</td>\n",
              "      <td>26</td>\n",
              "      <td>0.0</td>\n",
              "      <td>CONCACAF</td>\n",
              "    </tr>\n",
              "    <tr>\n",
              "      <th>11</th>\n",
              "      <td>Costa Rica</td>\n",
              "      <td>66.3333</td>\n",
              "      <td>75.6667</td>\n",
              "      <td>75.3333</td>\n",
              "      <td>65</td>\n",
              "      <td>77</td>\n",
              "      <td>21</td>\n",
              "      <td>0.0</td>\n",
              "      <td>CONCACAF</td>\n",
              "    </tr>\n",
              "    <tr>\n",
              "      <th>12</th>\n",
              "      <td>Argentina</td>\n",
              "      <td>87.3333</td>\n",
              "      <td>88.3333</td>\n",
              "      <td>83</td>\n",
              "      <td>76.8333</td>\n",
              "      <td>79.3333</td>\n",
              "      <td>3</td>\n",
              "      <td>1.0</td>\n",
              "      <td>CONMEBOL</td>\n",
              "    </tr>\n",
              "    <tr>\n",
              "      <th>13</th>\n",
              "      <td>Brazil</td>\n",
              "      <td>83.6667</td>\n",
              "      <td>85</td>\n",
              "      <td>87</td>\n",
              "      <td>67.3333</td>\n",
              "      <td>79.6667</td>\n",
              "      <td>1</td>\n",
              "      <td>3.0</td>\n",
              "      <td>CONMEBOL</td>\n",
              "    </tr>\n",
              "    <tr>\n",
              "      <th>15</th>\n",
              "      <td>Colombia</td>\n",
              "      <td>81</td>\n",
              "      <td>82.6667</td>\n",
              "      <td>78</td>\n",
              "      <td>75.6667</td>\n",
              "      <td>73.3333</td>\n",
              "      <td>8</td>\n",
              "      <td>2.0</td>\n",
              "      <td>CONMEBOL</td>\n",
              "    </tr>\n",
              "    <tr>\n",
              "      <th>16</th>\n",
              "      <td>Chile</td>\n",
              "      <td>81.6667</td>\n",
              "      <td>83</td>\n",
              "      <td>75.3333</td>\n",
              "      <td>74.3333</td>\n",
              "      <td>73.8333</td>\n",
              "      <td>7</td>\n",
              "      <td>0.0</td>\n",
              "      <td>CONMEBOL</td>\n",
              "    </tr>\n",
              "    <tr>\n",
              "      <th>17</th>\n",
              "      <td>Germany</td>\n",
              "      <td>83.3333</td>\n",
              "      <td>88.3333</td>\n",
              "      <td>87</td>\n",
              "      <td>70.1667</td>\n",
              "      <td>85.1667</td>\n",
              "      <td>2</td>\n",
              "      <td>1.0</td>\n",
              "      <td>UEFA</td>\n",
              "    </tr>\n",
              "    <tr>\n",
              "      <th>18</th>\n",
              "      <td>Spain</td>\n",
              "      <td>84.3333</td>\n",
              "      <td>87</td>\n",
              "      <td>87.3333</td>\n",
              "      <td>73.5</td>\n",
              "      <td>83.8333</td>\n",
              "      <td>11</td>\n",
              "      <td>1.0</td>\n",
              "      <td>UEFA</td>\n",
              "    </tr>\n",
              "  </tbody>\n",
              "</table>\n",
              "</div>"
            ],
            "text/plain": [
              "          Country   Attack Midfield  ... Rank Win Count Confederation\n",
              "8         Ecuador  75.3333       77  ...   32       0.0           CAF\n",
              "9          Mexico  80.6667       80  ...   14       2.0      CONCACAF\n",
              "10  United States  76.3333  77.6667  ...   26       0.0      CONCACAF\n",
              "11     Costa Rica  66.3333  75.6667  ...   21       0.0      CONCACAF\n",
              "12      Argentina  87.3333  88.3333  ...    3       1.0      CONMEBOL\n",
              "13         Brazil  83.6667       85  ...    1       3.0      CONMEBOL\n",
              "15       Colombia       81  82.6667  ...    8       2.0      CONMEBOL\n",
              "16          Chile  81.6667       83  ...    7       0.0      CONMEBOL\n",
              "17        Germany  83.3333  88.3333  ...    2       1.0          UEFA\n",
              "18          Spain  84.3333       87  ...   11       1.0          UEFA\n",
              "\n",
              "[10 rows x 9 columns]"
            ]
          },
          "metadata": {
            "tags": []
          },
          "execution_count": 1052
        }
      ]
    },
    {
      "cell_type": "markdown",
      "metadata": {
        "id": "wJpII9IV5dXE"
      },
      "source": [
        "Of the sample of 10 countries, 3 dont qualify in reality (USA, Ecuador and Chile), while the other 7 do."
      ]
    },
    {
      "cell_type": "markdown",
      "metadata": {
        "id": "xsnGffabR4_a"
      },
      "source": [
        "### **Final Model**"
      ]
    },
    {
      "cell_type": "markdown",
      "metadata": {
        "id": "2yQlfrar37nD"
      },
      "source": [
        "For the final model, we will initially build a classification model to predict whether a team wins 3 or more matches.Then that prediction will be included as a dummy variable into a regression model that will attempt to predict the number of wins a team will get."
      ]
    },
    {
      "cell_type": "markdown",
      "metadata": {
        "id": "t28uFQwz3wep"
      },
      "source": [
        "##### **Standardizing the Variables**"
      ]
    },
    {
      "cell_type": "code",
      "metadata": {
        "id": "Jn6CIKr9YwhN"
      },
      "source": [
        "columns_norm=['Attack','Midfield','Defense','Penalties','GoalKeeper']\n",
        "df_qual[columns_norm]=(df_qual[columns_norm]-df_qual[columns_norm].mean())/df_qual[columns_norm].std()"
      ],
      "execution_count": null,
      "outputs": []
    },
    {
      "cell_type": "code",
      "metadata": {
        "id": "mGo-rnnR3tRY"
      },
      "source": [
        "df_qual.tail(5)"
      ],
      "execution_count": null,
      "outputs": []
    },
    {
      "cell_type": "markdown",
      "metadata": {
        "id": "Q8QI7NEJZyHi"
      },
      "source": [
        "#### **Decision Tree**"
      ]
    },
    {
      "cell_type": "markdown",
      "metadata": {
        "id": "5g9o7TA04Yr-"
      },
      "source": [
        "A decision tree will be used to predict whether a country will get 3 or more wins in the FIFA tournament. Since our dataset is small, care has been to be taken to prevent overfitting. To achieve this we have limited maximum depth to 3 levels and minimum samples for a node to split to 5."
      ]
    },
    {
      "cell_type": "code",
      "metadata": {
        "id": "_KRvH3F5WTLE"
      },
      "source": [
        "conditions=[df_qual['Win Count']>=3,df_qual['Win Count']<3]\n",
        "choices=[1,0]\n",
        "\n",
        "df_qual['Win Category']=np.select(conditions,choices)"
      ],
      "execution_count": null,
      "outputs": []
    },
    {
      "cell_type": "code",
      "metadata": {
        "id": "pNUkZ0CNaR-w"
      },
      "source": [
        "X_train=df_qual[['Attack','Midfield','Defense','GoalKeeper','Rank']].round().head(24) #,'Penalties'\n",
        "y_train=df_qual['Win Category'].head(24)\n",
        "X_test=df_qual[['Attack','Midfield','Defense','GoalKeeper','Rank']].round().tail(3) #,'Penalties'\n",
        "y_test=df_qual['Win Category'].tail(3)"
      ],
      "execution_count": null,
      "outputs": []
    },
    {
      "cell_type": "code",
      "metadata": {
        "id": "RtqI-h-ZbOhZ"
      },
      "source": [
        "clf = tree.DecisionTreeClassifier(max_depth=3,min_samples_split=5)\n",
        "clf = clf.fit(X_train,y_train)\n"
      ],
      "execution_count": null,
      "outputs": []
    },
    {
      "cell_type": "code",
      "metadata": {
        "id": "NhE51jYcbSdn"
      },
      "source": [
        "y_pred = clf.predict(X_test)"
      ],
      "execution_count": null,
      "outputs": []
    },
    {
      "cell_type": "code",
      "metadata": {
        "colab": {
          "base_uri": "https://localhost:8080/"
        },
        "id": "hZzFyLaVbjpa",
        "outputId": "969b8f7a-e63b-4a7f-d943-477e278ab31a"
      },
      "source": [
        "print(\"Accuracy:\",metrics.accuracy_score(y_test, y_pred))"
      ],
      "execution_count": null,
      "outputs": [
        {
          "output_type": "stream",
          "text": [
            "Accuracy: 1.0\n"
          ],
          "name": "stdout"
        }
      ]
    },
    {
      "cell_type": "code",
      "metadata": {
        "id": "JVI0CSrBbpxw",
        "colab": {
          "base_uri": "https://localhost:8080/",
          "height": 143
        },
        "outputId": "36471a75-c28d-4c36-c89c-16746d885d55"
      },
      "source": [
        "pd.DataFrame({'Country':df_qual['Country'].tail(3),'Actual':list(y_test),'Predicted':list(y_pred)})"
      ],
      "execution_count": null,
      "outputs": [
        {
          "output_type": "execute_result",
          "data": {
            "text/html": [
              "<div>\n",
              "<style scoped>\n",
              "    .dataframe tbody tr th:only-of-type {\n",
              "        vertical-align: middle;\n",
              "    }\n",
              "\n",
              "    .dataframe tbody tr th {\n",
              "        vertical-align: top;\n",
              "    }\n",
              "\n",
              "    .dataframe thead th {\n",
              "        text-align: right;\n",
              "    }\n",
              "</style>\n",
              "<table border=\"1\" class=\"dataframe\">\n",
              "  <thead>\n",
              "    <tr style=\"text-align: right;\">\n",
              "      <th></th>\n",
              "      <th>Country</th>\n",
              "      <th>Actual</th>\n",
              "      <th>Predicted</th>\n",
              "    </tr>\n",
              "  </thead>\n",
              "  <tbody>\n",
              "    <tr>\n",
              "      <th>25</th>\n",
              "      <td>Croatia</td>\n",
              "      <td>1</td>\n",
              "      <td>1</td>\n",
              "    </tr>\n",
              "    <tr>\n",
              "      <th>26</th>\n",
              "      <td>Poland</td>\n",
              "      <td>0</td>\n",
              "      <td>0</td>\n",
              "    </tr>\n",
              "    <tr>\n",
              "      <th>28</th>\n",
              "      <td>Switzerland</td>\n",
              "      <td>0</td>\n",
              "      <td>0</td>\n",
              "    </tr>\n",
              "  </tbody>\n",
              "</table>\n",
              "</div>"
            ],
            "text/plain": [
              "        Country  Actual  Predicted\n",
              "25      Croatia       1          1\n",
              "26       Poland       0          0\n",
              "28  Switzerland       0          0"
            ]
          },
          "metadata": {
            "tags": []
          },
          "execution_count": 1060
        }
      ]
    },
    {
      "cell_type": "code",
      "metadata": {
        "colab": {
          "base_uri": "https://localhost:8080/",
          "height": 377
        },
        "id": "GagNBjU6yz2k",
        "outputId": "99a4c143-1624-42f3-86e6-7eed013a4a81"
      },
      "source": [
        "tree.plot_tree(clf)"
      ],
      "execution_count": null,
      "outputs": [
        {
          "output_type": "execute_result",
          "data": {
            "text/plain": [
              "[Text(167.4, 181.2, 'X[0] <= 0.69\\ngini = 0.34\\nsamples = 23\\nvalue = [18, 5]'),\n",
              " Text(83.7, 108.72, 'X[1] <= 0.902\\ngini = 0.117\\nsamples = 16\\nvalue = [15, 1]'),\n",
              " Text(41.85, 36.23999999999998, 'gini = 0.0\\nsamples = 15\\nvalue = [15, 0]'),\n",
              " Text(125.55000000000001, 36.23999999999998, 'gini = 0.0\\nsamples = 1\\nvalue = [0, 1]'),\n",
              " Text(251.10000000000002, 108.72, 'X[1] <= 1.04\\ngini = 0.49\\nsamples = 7\\nvalue = [3, 4]'),\n",
              " Text(209.25, 36.23999999999998, 'gini = 0.0\\nsamples = 3\\nvalue = [0, 3]'),\n",
              " Text(292.95, 36.23999999999998, 'gini = 0.375\\nsamples = 4\\nvalue = [3, 1]')]"
            ]
          },
          "metadata": {
            "tags": []
          },
          "execution_count": 1061
        },
        {
          "output_type": "display_data",
          "data": {
            "image/png": "[encoded data removed]",
            "text/plain": [
              "<Figure size 432x288 with 1 Axes>"
            ]
          },
          "metadata": {
            "tags": [],
            "needs_background": "light"
          }
        }
      ]
    },
    {
      "cell_type": "markdown",
      "metadata": {
        "id": "8HQdtp9T2tGH"
      },
      "source": [
        "It is an anomally that the tree divides countries up such that when the attack score is greater than 0.72 and the midfielding score is *less* than 1.066, a team will win more than three matches. This kind of anomaly, where a lower performance results in a higher number of wins, exists regardless of whether the dividing number of wins is 2,3, or 4. It seems to indicate that teams that are very strong do not show the expected high number of wins."
      ]
    },
    {
      "cell_type": "code",
      "metadata": {
        "colab": {
          "base_uri": "https://localhost:8080/",
          "height": 206
        },
        "id": "SYc4r3uiYX4z",
        "outputId": "3e4a28cd-5219-473a-9f61-5aae616e21fd"
      },
      "source": [
        "pd.DataFrame({'Field':X_train.columns,'Importance':list(clf.feature_importances_)})"
      ],
      "execution_count": null,
      "outputs": [
        {
          "output_type": "execute_result",
          "data": {
            "text/html": [
              "<div>\n",
              "<style scoped>\n",
              "    .dataframe tbody tr th:only-of-type {\n",
              "        vertical-align: middle;\n",
              "    }\n",
              "\n",
              "    .dataframe tbody tr th {\n",
              "        vertical-align: top;\n",
              "    }\n",
              "\n",
              "    .dataframe thead th {\n",
              "        text-align: right;\n",
              "    }\n",
              "</style>\n",
              "<table border=\"1\" class=\"dataframe\">\n",
              "  <thead>\n",
              "    <tr style=\"text-align: right;\">\n",
              "      <th></th>\n",
              "      <th>Field</th>\n",
              "      <th>Importance</th>\n",
              "    </tr>\n",
              "  </thead>\n",
              "  <tbody>\n",
              "    <tr>\n",
              "      <th>0</th>\n",
              "      <td>Attack</td>\n",
              "      <td>0.398748</td>\n",
              "    </tr>\n",
              "    <tr>\n",
              "      <th>1</th>\n",
              "      <td>Midfield</td>\n",
              "      <td>0.601252</td>\n",
              "    </tr>\n",
              "    <tr>\n",
              "      <th>2</th>\n",
              "      <td>Defense</td>\n",
              "      <td>0.000000</td>\n",
              "    </tr>\n",
              "    <tr>\n",
              "      <th>3</th>\n",
              "      <td>GoalKeeper</td>\n",
              "      <td>0.000000</td>\n",
              "    </tr>\n",
              "    <tr>\n",
              "      <th>4</th>\n",
              "      <td>Rank</td>\n",
              "      <td>0.000000</td>\n",
              "    </tr>\n",
              "  </tbody>\n",
              "</table>\n",
              "</div>"
            ],
            "text/plain": [
              "        Field  Importance\n",
              "0      Attack    0.398748\n",
              "1    Midfield    0.601252\n",
              "2     Defense    0.000000\n",
              "3  GoalKeeper    0.000000\n",
              "4        Rank    0.000000"
            ]
          },
          "metadata": {
            "tags": []
          },
          "execution_count": 1062
        }
      ]
    },
    {
      "cell_type": "code",
      "metadata": {
        "id": "XqDN8gN9Ke7L"
      },
      "source": [
        "df_qual.loc[:,'More Than 3 Wins']=clf.predict(df_qual[['Attack','Midfield','Defense','GoalKeeper','Rank']])"
      ],
      "execution_count": null,
      "outputs": []
    },
    {
      "cell_type": "markdown",
      "metadata": {
        "id": "kiqPxcKsOyTX"
      },
      "source": [
        "#### **Regression Considering Qualification**"
      ]
    },
    {
      "cell_type": "markdown",
      "metadata": {
        "id": "JPpofFco9xmo"
      },
      "source": [
        "Here, we will include the previous models prediction as a dummy variable and attempt to predict the number of wins a team will get."
      ]
    },
    {
      "cell_type": "code",
      "metadata": {
        "id": "_9ODRrqy4ubx"
      },
      "source": [
        "df17_regression = df_qual[['Attack','Midfield','More Than 3 Wins','Win Count']].reset_index(drop=True)"
      ],
      "execution_count": null,
      "outputs": []
    },
    {
      "cell_type": "code",
      "metadata": {
        "id": "S0s6H4NcOi40"
      },
      "source": [
        "df17_train=df17_regression\n",
        "\n",
        "y17_train =df17_train['Win Count']\n",
        "X17_train =df17_train.drop('Win Count',axis=1)\n",
        "\n",
        "X17_train.insert(0,'Ones',1)"
      ],
      "execution_count": null,
      "outputs": []
    },
    {
      "cell_type": "code",
      "metadata": {
        "colab": {
          "base_uri": "https://localhost:8080/"
        },
        "id": "iZBLHGOePTII",
        "outputId": "2c524045-48d1-44f0-f70b-4c08ae9d9048"
      },
      "source": [
        "model=sm.OLS(y17_train.astype('float'),X17_train.astype('float')).fit()\n",
        "print(model.summary())"
      ],
      "execution_count": null,
      "outputs": [
        {
          "output_type": "stream",
          "text": [
            "                            OLS Regression Results                            \n",
            "==============================================================================\n",
            "Dep. Variable:              Win Count   R-squared:                       0.534\n",
            "Model:                            OLS   Adj. R-squared:                  0.460\n",
            "Method:                 Least Squares   F-statistic:                     7.254\n",
            "Date:                Wed, 18 Aug 2021   Prob (F-statistic):            0.00195\n",
            "Time:                        13:52:16   Log-Likelihood:                -36.614\n",
            "No. Observations:                  23   AIC:                             81.23\n",
            "Df Residuals:                      19   BIC:                             85.77\n",
            "Df Model:                           3                                         \n",
            "Covariance Type:            nonrobust                                         \n",
            "====================================================================================\n",
            "                       coef    std err          t      P>|t|      [0.025      0.975]\n",
            "------------------------------------------------------------------------------------\n",
            "Ones                 1.1020      0.304      3.623      0.002       0.465       1.739\n",
            "Attack               0.2618      0.503      0.520      0.609      -0.791       1.314\n",
            "Midfield             0.3925      0.496      0.791      0.439      -0.646       1.431\n",
            "More Than 3 Wins     2.4132      0.775      3.114      0.006       0.791       4.035\n",
            "==============================================================================\n",
            "Omnibus:                       22.248   Durbin-Watson:                   2.838\n",
            "Prob(Omnibus):                  0.000   Jarque-Bera (JB):               32.511\n",
            "Skew:                           1.896   Prob(JB):                     8.71e-08\n",
            "Kurtosis:                       7.421   Cond. No.                         3.88\n",
            "==============================================================================\n",
            "\n",
            "Warnings:\n",
            "[1] Standard Errors assume that the covariance matrix of the errors is correctly specified.\n"
          ],
          "name": "stdout"
        }
      ]
    },
    {
      "cell_type": "code",
      "metadata": {
        "colab": {
          "base_uri": "https://localhost:8080/",
          "height": 143
        },
        "id": "HhAJGqCBViU0",
        "outputId": "93109371-2973-4f2c-864d-dabf086af758"
      },
      "source": [
        "pd.DataFrame({'Actual Wins':list(y17_train),'Predicted Wins':map(lambda x: round(x),list(model.predict(X17_train)))}).sample(3)"
      ],
      "execution_count": null,
      "outputs": [
        {
          "output_type": "execute_result",
          "data": {
            "text/html": [
              "<div>\n",
              "<style scoped>\n",
              "    .dataframe tbody tr th:only-of-type {\n",
              "        vertical-align: middle;\n",
              "    }\n",
              "\n",
              "    .dataframe tbody tr th {\n",
              "        vertical-align: top;\n",
              "    }\n",
              "\n",
              "    .dataframe thead th {\n",
              "        text-align: right;\n",
              "    }\n",
              "</style>\n",
              "<table border=\"1\" class=\"dataframe\">\n",
              "  <thead>\n",
              "    <tr style=\"text-align: right;\">\n",
              "      <th></th>\n",
              "      <th>Actual Wins</th>\n",
              "      <th>Predicted Wins</th>\n",
              "    </tr>\n",
              "  </thead>\n",
              "  <tbody>\n",
              "    <tr>\n",
              "      <th>9</th>\n",
              "      <td>1.0</td>\n",
              "      <td>2</td>\n",
              "    </tr>\n",
              "    <tr>\n",
              "      <th>5</th>\n",
              "      <td>0.0</td>\n",
              "      <td>1</td>\n",
              "    </tr>\n",
              "    <tr>\n",
              "      <th>19</th>\n",
              "      <td>1.0</td>\n",
              "      <td>1</td>\n",
              "    </tr>\n",
              "  </tbody>\n",
              "</table>\n",
              "</div>"
            ],
            "text/plain": [
              "    Actual Wins  Predicted Wins\n",
              "9           1.0               2\n",
              "5           0.0               1\n",
              "19          1.0               1"
            ]
          },
          "metadata": {
            "tags": []
          },
          "execution_count": 1067
        }
      ]
    },
    {
      "cell_type": "code",
      "metadata": {
        "id": "wQW3FeyeLbrl"
      },
      "source": [
        "df_final=df_qual\n",
        "df_final.loc[:,'Predicted Wins']=list(map(lambda x: round(x),list(model.predict(sm.add_constant(df_final[['Attack','Midfield','More Than 3 Wins']])))))"
      ],
      "execution_count": null,
      "outputs": []
    },
    {
      "cell_type": "code",
      "metadata": {
        "colab": {
          "base_uri": "https://localhost:8080/",
          "height": 143
        },
        "id": "OlE82m9uOzBU",
        "outputId": "424b1849-16e0-4d24-ac71-af715249b1e2"
      },
      "source": [
        "df_final.sort_values(by='Predicted Wins',ascending=False).head(3)"
      ],
      "execution_count": null,
      "outputs": [
        {
          "output_type": "execute_result",
          "data": {
            "text/html": [
              "<div>\n",
              "<style scoped>\n",
              "    .dataframe tbody tr th:only-of-type {\n",
              "        vertical-align: middle;\n",
              "    }\n",
              "\n",
              "    .dataframe tbody tr th {\n",
              "        vertical-align: top;\n",
              "    }\n",
              "\n",
              "    .dataframe thead th {\n",
              "        text-align: right;\n",
              "    }\n",
              "</style>\n",
              "<table border=\"1\" class=\"dataframe\">\n",
              "  <thead>\n",
              "    <tr style=\"text-align: right;\">\n",
              "      <th></th>\n",
              "      <th>Country</th>\n",
              "      <th>Attack</th>\n",
              "      <th>Midfield</th>\n",
              "      <th>Defense</th>\n",
              "      <th>Penalties</th>\n",
              "      <th>GoalKeeper</th>\n",
              "      <th>Rank</th>\n",
              "      <th>Win Count</th>\n",
              "      <th>Confederation</th>\n",
              "      <th>Win Category</th>\n",
              "      <th>More Than 3 Wins</th>\n",
              "      <th>Predicted Wins</th>\n",
              "    </tr>\n",
              "  </thead>\n",
              "  <tbody>\n",
              "    <tr>\n",
              "      <th>25</th>\n",
              "      <td>Croatia</td>\n",
              "      <td>0.286283</td>\n",
              "      <td>1.04022</td>\n",
              "      <td>0.104483</td>\n",
              "      <td>1.25869</td>\n",
              "      <td>-0.694992</td>\n",
              "      <td>16</td>\n",
              "      <td>4.0</td>\n",
              "      <td>UEFA</td>\n",
              "      <td>1</td>\n",
              "      <td>1</td>\n",
              "      <td>4</td>\n",
              "    </tr>\n",
              "    <tr>\n",
              "      <th>22</th>\n",
              "      <td>England</td>\n",
              "      <td>0.783227</td>\n",
              "      <td>0.143892</td>\n",
              "      <td>0.565352</td>\n",
              "      <td>-0.261267</td>\n",
              "      <td>0.657107</td>\n",
              "      <td>13</td>\n",
              "      <td>3.0</td>\n",
              "      <td>UEFA</td>\n",
              "      <td>1</td>\n",
              "      <td>1</td>\n",
              "      <td>4</td>\n",
              "    </tr>\n",
              "    <tr>\n",
              "      <th>19</th>\n",
              "      <td>France</td>\n",
              "      <td>1.28017</td>\n",
              "      <td>0.97127</td>\n",
              "      <td>0.828705</td>\n",
              "      <td>1.43543</td>\n",
              "      <td>1.31813</td>\n",
              "      <td>10</td>\n",
              "      <td>6.0</td>\n",
              "      <td>UEFA</td>\n",
              "      <td>1</td>\n",
              "      <td>1</td>\n",
              "      <td>4</td>\n",
              "    </tr>\n",
              "  </tbody>\n",
              "</table>\n",
              "</div>"
            ],
            "text/plain": [
              "    Country    Attack  Midfield  ... Win Category More Than 3 Wins Predicted Wins\n",
              "25  Croatia  0.286283   1.04022  ...            1                1              4\n",
              "22  England  0.783227  0.143892  ...            1                1              4\n",
              "19   France   1.28017   0.97127  ...            1                1              4\n",
              "\n",
              "[3 rows x 12 columns]"
            ]
          },
          "metadata": {
            "tags": []
          },
          "execution_count": 1069
        }
      ]
    },
    {
      "cell_type": "markdown",
      "metadata": {
        "id": "9BEwOHNrkocS"
      },
      "source": [
        "Note: The number of wins computed from the dataset is not an indicator how how far into the tournament a team reached. For example, Croatia won four matches, but advanced all the way into the finals,wheras Belgium that won 6 did not. This was because Croatia advance when it drew by scoring more penalty kicks."
      ]
    },
    {
      "cell_type": "markdown",
      "metadata": {
        "id": "2Jv7Wuz61cdM"
      },
      "source": [
        "### **Predicting for 2021**"
      ]
    },
    {
      "cell_type": "markdown",
      "metadata": {
        "id": "SzJ6mIrH_IQg"
      },
      "source": [
        "Now the decision tree and the regression model will be applied to data as of 2021 to try to predict the teams that will likely win the highest number of matches in the 2022 World Cup."
      ]
    },
    {
      "cell_type": "code",
      "metadata": {
        "id": "iRrx7GYA_DCe"
      },
      "source": [
        "# None of the Qatar players have played in leagues. Therefore  a score for attack, defense, midfield and goalkeeping cannot be obtained. \n",
        "# Since defense and midfield are important for the classifier to work, the row will be removed  from dataset. It is unlikely that Qatar \n",
        "# will have the highest number of wins in the tournament even though they are the host, since most of the high performing teams have \n",
        "# players who are experienced in playing against a range of opponents in top clubs\n",
        "\n",
        "df_21_country=df_21_country.dropna(how='all',subset=['Attack','Midfield','Defense','GoalKeeper'])"
      ],
      "execution_count": null,
      "outputs": []
    },
    {
      "cell_type": "code",
      "metadata": {
        "id": "QTFJ72JVzOMb"
      },
      "source": [
        "Quota21={'AFC':5,'CAF':5,'CONCACAF':3,'CONMEBOL':5,'OFC':0,'UEFA':13}\n",
        "# we have dropped the slot available for the host since the host is not included in the dataset"
      ],
      "execution_count": null,
      "outputs": []
    },
    {
      "cell_type": "code",
      "metadata": {
        "id": "IxDteT1NXWVA"
      },
      "source": [
        "df_21_country['Confederation']='ABC'\n",
        "\n",
        "for i in range(len(df_21_country)):\n",
        "  df_21_country.loc[df_21_country['Country'].isin(AFC),'Confederation']='AFC'\n",
        "  df_21_country.loc[df_21_country['Country'].isin(CAF),'Confederation']='CAF'\n",
        "  df_21_country.loc[df_21_country['Country'].isin(CONCACAF),'Confederation']='CONCACAF'\n",
        "  df_21_country.loc[df_21_country['Country'].isin(CONMEBOL),'Confederation']='CONMEBOL'\n",
        "  df_21_country.loc[df_21_country['Country'].isin(OFC),'Confederation']='OFC'\n",
        "  df_21_country.loc[df_21_country['Country'].isin(UEFA),'Confederation']='UEFA'"
      ],
      "execution_count": null,
      "outputs": []
    },
    {
      "cell_type": "code",
      "metadata": {
        "colab": {
          "base_uri": "https://localhost:8080/",
          "height": 143
        },
        "id": "SCcTqIotXqD6",
        "outputId": "8251d268-30f9-44f7-9df7-0108bb103bac"
      },
      "source": [
        "df_21_country.sample(3)"
      ],
      "execution_count": null,
      "outputs": [
        {
          "output_type": "execute_result",
          "data": {
            "text/html": [
              "<div>\n",
              "<style scoped>\n",
              "    .dataframe tbody tr th:only-of-type {\n",
              "        vertical-align: middle;\n",
              "    }\n",
              "\n",
              "    .dataframe tbody tr th {\n",
              "        vertical-align: top;\n",
              "    }\n",
              "\n",
              "    .dataframe thead th {\n",
              "        text-align: right;\n",
              "    }\n",
              "</style>\n",
              "<table border=\"1\" class=\"dataframe\">\n",
              "  <thead>\n",
              "    <tr style=\"text-align: right;\">\n",
              "      <th></th>\n",
              "      <th>Country</th>\n",
              "      <th>Attack</th>\n",
              "      <th>Midfield</th>\n",
              "      <th>Defense</th>\n",
              "      <th>Penalties</th>\n",
              "      <th>GoalKeeper</th>\n",
              "      <th>Rank</th>\n",
              "      <th>Confederation</th>\n",
              "    </tr>\n",
              "  </thead>\n",
              "  <tbody>\n",
              "    <tr>\n",
              "      <th>10</th>\n",
              "      <td>Denmark</td>\n",
              "      <td>76</td>\n",
              "      <td>77.8333</td>\n",
              "      <td>79</td>\n",
              "      <td>63.4167</td>\n",
              "      <td>78.3333</td>\n",
              "      <td>11</td>\n",
              "      <td>UEFA</td>\n",
              "    </tr>\n",
              "    <tr>\n",
              "      <th>27</th>\n",
              "      <td>Tunisia</td>\n",
              "      <td>67.6667</td>\n",
              "      <td>72.8333</td>\n",
              "      <td>70.1667</td>\n",
              "      <td>65.6667</td>\n",
              "      <td>58</td>\n",
              "      <td>28</td>\n",
              "      <td>CAF</td>\n",
              "    </tr>\n",
              "    <tr>\n",
              "      <th>6</th>\n",
              "      <td>Spain</td>\n",
              "      <td>82.8333</td>\n",
              "      <td>85.5</td>\n",
              "      <td>85.8333</td>\n",
              "      <td>68.5833</td>\n",
              "      <td>84</td>\n",
              "      <td>7</td>\n",
              "      <td>UEFA</td>\n",
              "    </tr>\n",
              "  </tbody>\n",
              "</table>\n",
              "</div>"
            ],
            "text/plain": [
              "    Country   Attack Midfield  Defense Penalties GoalKeeper  Rank Confederation\n",
              "10  Denmark       76  77.8333       79   63.4167    78.3333    11          UEFA\n",
              "27  Tunisia  67.6667  72.8333  70.1667   65.6667         58    28           CAF\n",
              "6     Spain  82.8333     85.5  85.8333   68.5833         84     7          UEFA"
            ]
          },
          "metadata": {
            "tags": []
          },
          "execution_count": 1073
        }
      ]
    },
    {
      "cell_type": "code",
      "metadata": {
        "id": "2uP4r_l8XrQP"
      },
      "source": [
        "df_21_country['Average Score']=df_21_country[['Attack','Midfield','Defense','GoalKeeper']].mean(axis=1)"
      ],
      "execution_count": null,
      "outputs": []
    },
    {
      "cell_type": "code",
      "metadata": {
        "colab": {
          "base_uri": "https://localhost:8080/",
          "height": 206
        },
        "id": "oFcITcMca1N5",
        "outputId": "a006e25a-d589-4d06-8fa5-c08f36275ef8"
      },
      "source": [
        "df21_qual_score=pd.DataFrame(columns=df_21_country.columns)\n",
        "\n",
        "for confederation in list(Quota21.keys()):\n",
        "  temp=df_21_country.loc[df_21_country['Confederation']==confederation]\n",
        "  temp=temp.sort_values(by='Average Score',ascending=False)\n",
        "  temp=temp.head(Quota21[confederation])\n",
        "  df21_qual_score=df21_qual_score.append(temp,ignore_index=True)\n",
        "\n",
        "df21_qual_rank=pd.DataFrame(columns=df_21_country.columns)\n",
        "\n",
        "for confederation in list(Quota.keys()):\n",
        "  temp=df_21_country.loc[df_21_country['Confederation']==confederation]\n",
        "  temp=temp.sort_values(by='Rank',ascending=True)\n",
        "  temp=temp.head(Quota21[confederation])\n",
        "  df21_qual_rank=df21_qual_rank.append(temp,ignore_index=True)\n",
        "\n",
        "countries_by_score21=list(df21_qual_rank['Country'])\n",
        "df21_qual=df21_qual_score[df21_qual_score['Country'].isin(countries_by_score21)]\n",
        "\n",
        "df21_qual.sample(5)"
      ],
      "execution_count": null,
      "outputs": [
        {
          "output_type": "execute_result",
          "data": {
            "text/html": [
              "<div>\n",
              "<style scoped>\n",
              "    .dataframe tbody tr th:only-of-type {\n",
              "        vertical-align: middle;\n",
              "    }\n",
              "\n",
              "    .dataframe tbody tr th {\n",
              "        vertical-align: top;\n",
              "    }\n",
              "\n",
              "    .dataframe thead th {\n",
              "        text-align: right;\n",
              "    }\n",
              "</style>\n",
              "<table border=\"1\" class=\"dataframe\">\n",
              "  <thead>\n",
              "    <tr style=\"text-align: right;\">\n",
              "      <th></th>\n",
              "      <th>Country</th>\n",
              "      <th>Attack</th>\n",
              "      <th>Midfield</th>\n",
              "      <th>Defense</th>\n",
              "      <th>Penalties</th>\n",
              "      <th>GoalKeeper</th>\n",
              "      <th>Rank</th>\n",
              "      <th>Confederation</th>\n",
              "      <th>Average Score</th>\n",
              "    </tr>\n",
              "  </thead>\n",
              "  <tbody>\n",
              "    <tr>\n",
              "      <th>9</th>\n",
              "      <td>Mexico</td>\n",
              "      <td>77.6667</td>\n",
              "      <td>79.5</td>\n",
              "      <td>75.8333</td>\n",
              "      <td>71.5</td>\n",
              "      <td>77</td>\n",
              "      <td>9</td>\n",
              "      <td>CONCACAF</td>\n",
              "      <td>77.500000</td>\n",
              "    </tr>\n",
              "    <tr>\n",
              "      <th>3</th>\n",
              "      <td>Iran</td>\n",
              "      <td>72.1667</td>\n",
              "      <td>69.3333</td>\n",
              "      <td>70.6667</td>\n",
              "      <td>63</td>\n",
              "      <td>71.3333</td>\n",
              "      <td>26</td>\n",
              "      <td>AFC</td>\n",
              "      <td>70.875000</td>\n",
              "    </tr>\n",
              "    <tr>\n",
              "      <th>14</th>\n",
              "      <td>Uruguay</td>\n",
              "      <td>80.3333</td>\n",
              "      <td>80.6667</td>\n",
              "      <td>81.6667</td>\n",
              "      <td>69.6667</td>\n",
              "      <td>80.3333</td>\n",
              "      <td>13</td>\n",
              "      <td>CONMEBOL</td>\n",
              "      <td>80.750000</td>\n",
              "    </tr>\n",
              "    <tr>\n",
              "      <th>18</th>\n",
              "      <td>Spain</td>\n",
              "      <td>82.8333</td>\n",
              "      <td>85.5</td>\n",
              "      <td>85.8333</td>\n",
              "      <td>68.5833</td>\n",
              "      <td>84</td>\n",
              "      <td>7</td>\n",
              "      <td>UEFA</td>\n",
              "      <td>84.541667</td>\n",
              "    </tr>\n",
              "    <tr>\n",
              "      <th>20</th>\n",
              "      <td>England</td>\n",
              "      <td>83.1667</td>\n",
              "      <td>83.8333</td>\n",
              "      <td>83.8333</td>\n",
              "      <td>76.1667</td>\n",
              "      <td>81</td>\n",
              "      <td>4</td>\n",
              "      <td>UEFA</td>\n",
              "      <td>82.958333</td>\n",
              "    </tr>\n",
              "  </tbody>\n",
              "</table>\n",
              "</div>"
            ],
            "text/plain": [
              "    Country   Attack Midfield  ... Rank Confederation Average Score\n",
              "9    Mexico  77.6667     79.5  ...    9      CONCACAF     77.500000\n",
              "3      Iran  72.1667  69.3333  ...   26           AFC     70.875000\n",
              "14  Uruguay  80.3333  80.6667  ...   13      CONMEBOL     80.750000\n",
              "18    Spain  82.8333     85.5  ...    7          UEFA     84.541667\n",
              "20  England  83.1667  83.8333  ...    4          UEFA     82.958333\n",
              "\n",
              "[5 rows x 9 columns]"
            ]
          },
          "metadata": {
            "tags": []
          },
          "execution_count": 1075
        }
      ]
    },
    {
      "cell_type": "code",
      "metadata": {
        "colab": {
          "base_uri": "https://localhost:8080/"
        },
        "id": "YsXxf6pbgOeK",
        "outputId": "e991c74b-a60c-42ef-ac0c-41c5f8c3e1c5"
      },
      "source": [
        "columns_norm=['Attack','Midfield','Defense','Penalties','GoalKeeper']\n",
        "df21_qual[columns_norm]=(df21_qual[columns_norm]-df21_qual[columns_norm].mean())/df21_qual[columns_norm].std()"
      ],
      "execution_count": null,
      "outputs": [
        {
          "output_type": "stream",
          "text": [
            "/usr/local/lib/python3.7/dist-packages/pandas/core/frame.py:3069: SettingWithCopyWarning: \n",
            "A value is trying to be set on a copy of a slice from a DataFrame.\n",
            "Try using .loc[row_indexer,col_indexer] = value instead\n",
            "\n",
            "See the caveats in the documentation: https://pandas.pydata.org/pandas-docs/stable/user_guide/indexing.html#returning-a-view-versus-a-copy\n",
            "  self[k1] = value[k2]\n"
          ],
          "name": "stderr"
        }
      ]
    },
    {
      "cell_type": "code",
      "metadata": {
        "colab": {
          "base_uri": "https://localhost:8080/"
        },
        "id": "5japjKSpbwCS",
        "outputId": "3289d9f6-6120-4b88-9e5e-e5ad625c0a81"
      },
      "source": [
        "df21_qual.loc[:,'More Than 3 Wins']=clf.predict(df21_qual[['Attack','Midfield','Defense','GoalKeeper','Rank']])\n",
        "df21_qual.loc[:,'Predicted Wins']=list(model.predict(sm.add_constant(df21_qual[['Attack','Midfield','More Than 3 Wins']])))"
      ],
      "execution_count": null,
      "outputs": [
        {
          "output_type": "stream",
          "text": [
            "/usr/local/lib/python3.7/dist-packages/pandas/core/indexing.py:1596: SettingWithCopyWarning: \n",
            "A value is trying to be set on a copy of a slice from a DataFrame.\n",
            "Try using .loc[row_indexer,col_indexer] = value instead\n",
            "\n",
            "See the caveats in the documentation: https://pandas.pydata.org/pandas-docs/stable/user_guide/indexing.html#returning-a-view-versus-a-copy\n",
            "  self.obj[key] = _infer_fill_value(value)\n",
            "/usr/local/lib/python3.7/dist-packages/pandas/core/indexing.py:1743: SettingWithCopyWarning: \n",
            "A value is trying to be set on a copy of a slice from a DataFrame.\n",
            "Try using .loc[row_indexer,col_indexer] = value instead\n",
            "\n",
            "See the caveats in the documentation: https://pandas.pydata.org/pandas-docs/stable/user_guide/indexing.html#returning-a-view-versus-a-copy\n",
            "  isetter(ilocs[0], value)\n"
          ],
          "name": "stderr"
        }
      ]
    },
    {
      "cell_type": "markdown",
      "metadata": {
        "id": "nYrCA4tn_jLT"
      },
      "source": [
        "##### **Prediction**"
      ]
    },
    {
      "cell_type": "code",
      "metadata": {
        "colab": {
          "base_uri": "https://localhost:8080/",
          "height": 269
        },
        "id": "RZbscM5Ic4Jg",
        "outputId": "1f01a80b-3e70-4c28-f82f-b9fb40fed2e3"
      },
      "source": [
        "df21_qual.sort_values(by='Predicted Wins',ascending=False).head(7)"
      ],
      "execution_count": null,
      "outputs": [
        {
          "output_type": "execute_result",
          "data": {
            "text/html": [
              "<div>\n",
              "<style scoped>\n",
              "    .dataframe tbody tr th:only-of-type {\n",
              "        vertical-align: middle;\n",
              "    }\n",
              "\n",
              "    .dataframe tbody tr th {\n",
              "        vertical-align: top;\n",
              "    }\n",
              "\n",
              "    .dataframe thead th {\n",
              "        text-align: right;\n",
              "    }\n",
              "</style>\n",
              "<table border=\"1\" class=\"dataframe\">\n",
              "  <thead>\n",
              "    <tr style=\"text-align: right;\">\n",
              "      <th></th>\n",
              "      <th>Country</th>\n",
              "      <th>Attack</th>\n",
              "      <th>Midfield</th>\n",
              "      <th>Defense</th>\n",
              "      <th>Penalties</th>\n",
              "      <th>GoalKeeper</th>\n",
              "      <th>Rank</th>\n",
              "      <th>Confederation</th>\n",
              "      <th>Average Score</th>\n",
              "      <th>More Than 3 Wins</th>\n",
              "      <th>Predicted Wins</th>\n",
              "    </tr>\n",
              "  </thead>\n",
              "  <tbody>\n",
              "    <tr>\n",
              "      <th>13</th>\n",
              "      <td>Argentina</td>\n",
              "      <td>1.64625</td>\n",
              "      <td>0.912096</td>\n",
              "      <td>0.489305</td>\n",
              "      <td>0.945799</td>\n",
              "      <td>0.605428</td>\n",
              "      <td>6</td>\n",
              "      <td>CONMEBOL</td>\n",
              "      <td>83.083333</td>\n",
              "      <td>1</td>\n",
              "      <td>4.304154</td>\n",
              "    </tr>\n",
              "    <tr>\n",
              "      <th>19</th>\n",
              "      <td>Germany</td>\n",
              "      <td>0.380614</td>\n",
              "      <td>1.42977</td>\n",
              "      <td>1.05599</td>\n",
              "      <td>0.301377</td>\n",
              "      <td>1.54037</td>\n",
              "      <td>16</td>\n",
              "      <td>UEFA</td>\n",
              "      <td>84.166667</td>\n",
              "      <td>1</td>\n",
              "      <td>4.176025</td>\n",
              "    </tr>\n",
              "    <tr>\n",
              "      <th>24</th>\n",
              "      <td>Netherlands</td>\n",
              "      <td>1.01343</td>\n",
              "      <td>0.946608</td>\n",
              "      <td>1.08933</td>\n",
              "      <td>1.16626</td>\n",
              "      <td>0.162561</td>\n",
              "      <td>12</td>\n",
              "      <td>UEFA</td>\n",
              "      <td>82.208333</td>\n",
              "      <td>1</td>\n",
              "      <td>4.152052</td>\n",
              "    </tr>\n",
              "    <tr>\n",
              "      <th>20</th>\n",
              "      <td>England</td>\n",
              "      <td>1.01343</td>\n",
              "      <td>0.946608</td>\n",
              "      <td>1.22267</td>\n",
              "      <td>1.55631</td>\n",
              "      <td>0.507013</td>\n",
              "      <td>4</td>\n",
              "      <td>UEFA</td>\n",
              "      <td>82.958333</td>\n",
              "      <td>1</td>\n",
              "      <td>4.152052</td>\n",
              "    </tr>\n",
              "    <tr>\n",
              "      <th>22</th>\n",
              "      <td>Portugal</td>\n",
              "      <td>0.869609</td>\n",
              "      <td>0.946608</td>\n",
              "      <td>0.822651</td>\n",
              "      <td>0.810131</td>\n",
              "      <td>0.654636</td>\n",
              "      <td>8</td>\n",
              "      <td>UEFA</td>\n",
              "      <td>82.500000</td>\n",
              "      <td>1</td>\n",
              "      <td>4.114405</td>\n",
              "    </tr>\n",
              "    <tr>\n",
              "      <th>21</th>\n",
              "      <td>Belgium</td>\n",
              "      <td>0.783316</td>\n",
              "      <td>0.98112</td>\n",
              "      <td>0.722647</td>\n",
              "      <td>1.47151</td>\n",
              "      <td>0.999088</td>\n",
              "      <td>1</td>\n",
              "      <td>UEFA</td>\n",
              "      <td>82.875000</td>\n",
              "      <td>1</td>\n",
              "      <td>4.105361</td>\n",
              "    </tr>\n",
              "    <tr>\n",
              "      <th>23</th>\n",
              "      <td>Italy</td>\n",
              "      <td>0.725787</td>\n",
              "      <td>0.532467</td>\n",
              "      <td>0.88932</td>\n",
              "      <td>1.18322</td>\n",
              "      <td>0.900673</td>\n",
              "      <td>5</td>\n",
              "      <td>UEFA</td>\n",
              "      <td>82.291667</td>\n",
              "      <td>1</td>\n",
              "      <td>3.914225</td>\n",
              "    </tr>\n",
              "  </tbody>\n",
              "</table>\n",
              "</div>"
            ],
            "text/plain": [
              "        Country    Attack  ... More Than 3 Wins Predicted Wins\n",
              "13    Argentina   1.64625  ...                1       4.304154\n",
              "19      Germany  0.380614  ...                1       4.176025\n",
              "24  Netherlands   1.01343  ...                1       4.152052\n",
              "20      England   1.01343  ...                1       4.152052\n",
              "22     Portugal  0.869609  ...                1       4.114405\n",
              "21      Belgium  0.783316  ...                1       4.105361\n",
              "23        Italy  0.725787  ...                1       3.914225\n",
              "\n",
              "[7 rows x 11 columns]"
            ]
          },
          "metadata": {
            "tags": []
          },
          "execution_count": 1078
        }
      ]
    },
    {
      "cell_type": "markdown",
      "metadata": {
        "id": "DDmV2Cwbg3x2"
      },
      "source": [
        "While, it is hard to predict one country as being the most successful ( in terms of number of wins) in 2022, according to the model, it is likely one of these seven countries."
      ]
    },
    {
      "cell_type": "code",
      "metadata": {
        "colab": {
          "base_uri": "https://localhost:8080/",
          "height": 81
        },
        "id": "awL-FhmI-p8j",
        "outputId": "30e59ea3-5565-45a9-a424-544a2b8a40a7"
      },
      "source": [
        "df21_qual.loc[df21_qual['Country']=='France']"
      ],
      "execution_count": null,
      "outputs": [
        {
          "output_type": "execute_result",
          "data": {
            "text/html": [
              "<div>\n",
              "<style scoped>\n",
              "    .dataframe tbody tr th:only-of-type {\n",
              "        vertical-align: middle;\n",
              "    }\n",
              "\n",
              "    .dataframe tbody tr th {\n",
              "        vertical-align: top;\n",
              "    }\n",
              "\n",
              "    .dataframe thead th {\n",
              "        text-align: right;\n",
              "    }\n",
              "</style>\n",
              "<table border=\"1\" class=\"dataframe\">\n",
              "  <thead>\n",
              "    <tr style=\"text-align: right;\">\n",
              "      <th></th>\n",
              "      <th>Country</th>\n",
              "      <th>Attack</th>\n",
              "      <th>Midfield</th>\n",
              "      <th>Defense</th>\n",
              "      <th>Penalties</th>\n",
              "      <th>GoalKeeper</th>\n",
              "      <th>Rank</th>\n",
              "      <th>Confederation</th>\n",
              "      <th>Average Score</th>\n",
              "      <th>More Than 3 Wins</th>\n",
              "      <th>Predicted Wins</th>\n",
              "    </tr>\n",
              "  </thead>\n",
              "  <tbody>\n",
              "    <tr>\n",
              "      <th>17</th>\n",
              "      <td>France</td>\n",
              "      <td>1.53119</td>\n",
              "      <td>1.08466</td>\n",
              "      <td>1.38934</td>\n",
              "      <td>1.13234</td>\n",
              "      <td>0.949881</td>\n",
              "      <td>3</td>\n",
              "      <td>UEFA</td>\n",
              "      <td>84.833333</td>\n",
              "      <td>0</td>\n",
              "      <td>1.928534</td>\n",
              "    </tr>\n",
              "  </tbody>\n",
              "</table>\n",
              "</div>"
            ],
            "text/plain": [
              "   Country   Attack Midfield  ... Average Score More Than 3 Wins Predicted Wins\n",
              "17  France  1.53119  1.08466  ...     84.833333                0       1.928534\n",
              "\n",
              "[1 rows x 11 columns]"
            ]
          },
          "metadata": {
            "tags": []
          },
          "execution_count": 1079
        }
      ]
    },
    {
      "cell_type": "markdown",
      "metadata": {
        "id": "JJ3HoIuoEVDN"
      },
      "source": [
        "The common consensus is that France will win the World Cup again. The team's performance numbers also indicate that. However, based on our classification mode, extremely powerful teams do not perform as well as expected.It is quite commonly known in Football as the \"Champion's Curse\". Thus the model expects France to  perform quite poorly."
      ]
    },
    {
      "cell_type": "markdown",
      "metadata": {
        "id": "PXD80IgK_vlA"
      },
      "source": [
        "Further, though Germany has a high number of predicted wins, it is unlikly to happen reality since it has a relatively low attacking and penelty performance, and those are key skills to advance in the tournament."
      ]
    },
    {
      "cell_type": "markdown",
      "metadata": {
        "id": "gUgE15wg87OI"
      },
      "source": [
        "## **b) If the 1st four opponents of England in the said world cup are Brazil, Uruguay,France and Germany define using the above ML algorithm what are the chances of England winning those matches.**"
      ]
    },
    {
      "cell_type": "markdown",
      "metadata": {
        "id": "-cNlwHEwFJ1P"
      },
      "source": [
        "Ideally, we should be able to fit a Naive Bayes model to the results dataset. Then, given the two teams, we should be able to get the probability of a particular team winning. Even with the teams skill level changing over time, we should ideally be able to take a dataset of recent years and then pull out the probability. A complication to this is that, two of the teams are South American teams, which the team of England does not face often. Further, with COVID 19 the number of matches played have reduced as well. Thus it is hard to get an updated dataset of recently played matches. Hence we will again be using the EA sports dataset to try to achieve our results."
      ]
    },
    {
      "cell_type": "markdown",
      "metadata": {
        "id": "5_j0YBY1A9h8"
      },
      "source": [
        "#### **Model Structure**"
      ]
    },
    {
      "cell_type": "markdown",
      "metadata": {
        "id": "-P0wDZ-hA7fG"
      },
      "source": [
        "To predict the number of matches England will win given its opponents, we will try to predict the outcome of each match individually. To do this we need to train a model that, given the two teams of a match, will predict the outcome."
      ]
    },
    {
      "cell_type": "markdown",
      "metadata": {
        "id": "PT3BoBWqBZjA"
      },
      "source": [
        "To do this, we will use the data in the results datasheet giving us the two teams and the number of goals scored by each team in the FIFA 2018 tournament. The filtering of the data has been done outside this code file, and the filtered dataset has been imported."
      ]
    },
    {
      "cell_type": "markdown",
      "metadata": {
        "id": "wMpcGxckCCv8"
      },
      "source": [
        "We will be adding variables represeing each teams skill level to the dataset and passing it through a random forest classifier to predict the winner of a match."
      ]
    },
    {
      "cell_type": "markdown",
      "metadata": {
        "id": "-yqncwClCXDm"
      },
      "source": [
        "#### **Skill level of a country**"
      ]
    },
    {
      "cell_type": "markdown",
      "metadata": {
        "id": "vGqJSGGsCbTc"
      },
      "source": [
        "Obtaining the skill level of is done in the same way as for part (a). However since we would like information for the teams that qualified for FIFA but did not rank within the top 50 ( which is what we took for part a), we will reimport the raw data set, filter for the countries that qualified, and clean and restructure the dataset as in part a.\n",
        "\n",
        "Including only the qualified countries should not be causing look ahead bias here since the purpose of this model is to predict the outcome of a match of the two teams are given. Who the teams are does not have to predicted."
      ]
    },
    {
      "cell_type": "code",
      "metadata": {
        "id": "EdGq8kUp9G_C"
      },
      "source": [
        "Qualified2018=['Australia','Iran','Japan','Saudi Arabia','Korea Republic','Egypt','Morocco','Nigeria','Senegal','Tunisia','Mexico','Costa Rica','Panama','Argentina',\n",
        "               'Brazil','Colombia','Peru','Uruguay','Belgium','Croatia','Denmark','England','France','Germany','Iceland','Poland','Portugal','Russia',\n",
        "               'Serbia','Spain','Sweden','Switzerland']"
      ],
      "execution_count": null,
      "outputs": []
    },
    {
      "cell_type": "code",
      "metadata": {
        "id": "oFEMQ0scfQzT"
      },
      "source": [
        "df17_b=pd.read_csv('/wd/FIFA17_official_data.csv')\n",
        "df17_b=df17_b.loc[df17_b['Nationality'].isin(Qualified2018)]"
      ],
      "execution_count": null,
      "outputs": []
    },
    {
      "cell_type": "code",
      "metadata": {
        "id": "zUhytZttcvWN"
      },
      "source": [
        "def year_extract(x):\n",
        "  if isinstance(x, list):\n",
        "    if len(x)==0:\n",
        "      return np.nan\n",
        "    else:\n",
        "      return x[0]\n",
        "  else:\n",
        "    return np.nan\n",
        "\n",
        "df17_b['Contract Valid Until year']=df17_b['Contract Valid Until'].str.findall(r'[0-9]{4}').apply(lambda x:year_extract(x))\n",
        "df17_b.loc[((df17_b['Contract Valid Until year'].isna())|(df17_b['Contract Valid Until year']=='2021'))& (df17_b['Age']<35),'Contract Valid Until year']='2017'\n",
        "df17_b.loc[((df17_b['Contract Valid Until year'].isna())|(df17_b['Contract Valid Until year']=='2021'))& (df17_b['Age']>=35),'Contract Valid Until year']='2016'\n",
        "df17_b['Contract Valid Until year']=df17_b['Contract Valid Until year'].astype('int')\n",
        "df17_b=df17_b.loc[df17_b['Contract Valid Until year']>=2017]"
      ],
      "execution_count": null,
      "outputs": []
    },
    {
      "cell_type": "code",
      "metadata": {
        "id": "uUax2MnpeGcf"
      },
      "source": [
        "df17_b=df17_b[['Name','Nationality', 'Overall','Best Position','Penalties']]"
      ],
      "execution_count": null,
      "outputs": []
    },
    {
      "cell_type": "code",
      "metadata": {
        "id": "i0n3tbKAex61"
      },
      "source": [
        "conditions_17=[df17_b['Best Position'].eq('LM')|df17_b['Best Position'].eq('RM')|df17_b['Best Position'].eq('CM')|df17_b['Best Position'].eq('CAM')|df17_b['Best Position'].eq('CDM'),\n",
        "            df17_b['Best Position'].eq('CF')|df17_b['Best Position'].eq('RW')|df17_b['Best Position'].eq('LW')|df17_b['Best Position'].eq('ST'),\n",
        "            df17_b['Best Position'].eq('CB')|df17_b['Best Position'].eq('RWB')|df17_b['Best Position'].eq('LWB')|df17_b['Best Position'].eq('RB')|df17_b['Best Position'].eq('LB'),\n",
        "            df17_b['Best Position'].eq('GK')]\n",
        "\n",
        "choices =['Midfield','Attack','Defense','GoalKeeper']\n",
        "\n",
        "df17_b['Broad Position']=np.select(conditions_17,choices)"
      ],
      "execution_count": null,
      "outputs": []
    },
    {
      "cell_type": "code",
      "metadata": {
        "colab": {
          "base_uri": "https://localhost:8080/"
        },
        "id": "_ZOb7hIJfc4c",
        "outputId": "489569e5-6845-4f65-fec3-911e75c47612"
      },
      "source": [
        "df_17_country_b=pd.DataFrame(columns=['Country','Attack','Midfield','Defense','Penalties','GoalKeeper'])\n",
        "\n",
        "areas =['Midfield','Attack','Defense','GoalKeeper']\n",
        "for country in Qualified2018:\n",
        "  country_df=df17_b.loc[df17_b['Nationality']==country]\n",
        "  position_data={}\n",
        "  position_data['Country']=country\n",
        "  penalty_sum=0\n",
        "  player_count=0\n",
        "  for position in areas:\n",
        "    position_df=country_df.loc[country_df['Broad Position']== position]\n",
        "    position_df.sort_values(by='Overall',ascending=False,inplace=True)\n",
        "    if position=='GoalKeeper':\n",
        "      position_df=position_df.head(6)\n",
        "    else:\n",
        "      position_df=position_df.head(3) \n",
        "    if (position=='Attack')|(position=='Midfield'):\n",
        "      penalty_sum+=position_df['Penalties'].sum()\n",
        "      player_count+=position_df.shape[0]\n",
        "    position_data[position]=position_df['Overall'].mean()\n",
        "  position_data['Penalties']=penalty_sum/player_count\n",
        "  df_17_country_b=df_17_country_b.append(position_data,ignore_index=True)\n",
        "\n",
        "df_17_country_b=df_17_country_b.T.fillna(df_17_country_b.mean(axis=1)).T"
      ],
      "execution_count": null,
      "outputs": [
        {
          "output_type": "stream",
          "text": [
            "/usr/local/lib/python3.7/dist-packages/ipykernel_launcher.py:12: SettingWithCopyWarning: \n",
            "A value is trying to be set on a copy of a slice from a DataFrame\n",
            "\n",
            "See the caveats in the documentation: https://pandas.pydata.org/pandas-docs/stable/user_guide/indexing.html#returning-a-view-versus-a-copy\n",
            "  if sys.path[0] == '':\n"
          ],
          "name": "stderr"
        }
      ]
    },
    {
      "cell_type": "code",
      "metadata": {
        "id": "XLJijviyyEIb"
      },
      "source": [
        "columns_norm=['Attack','Midfield','Defense','Penalties','GoalKeeper']\n",
        "\n",
        "df_17_country_b[columns_norm]=(df_17_country_b[columns_norm]-df_17_country_b[columns_norm].mean())/df_17_country_b[columns_norm].std()"
      ],
      "execution_count": null,
      "outputs": []
    },
    {
      "cell_type": "code",
      "metadata": {
        "colab": {
          "base_uri": "https://localhost:8080/",
          "height": 206
        },
        "id": "PaXShtdwfzRr",
        "outputId": "2ba1b58f-1f24-4c62-f427-8a2531dc6692"
      },
      "source": [
        "df_17_country_b.sample(5)"
      ],
      "execution_count": null,
      "outputs": [
        {
          "output_type": "execute_result",
          "data": {
            "text/html": [
              "<div>\n",
              "<style scoped>\n",
              "    .dataframe tbody tr th:only-of-type {\n",
              "        vertical-align: middle;\n",
              "    }\n",
              "\n",
              "    .dataframe tbody tr th {\n",
              "        vertical-align: top;\n",
              "    }\n",
              "\n",
              "    .dataframe thead th {\n",
              "        text-align: right;\n",
              "    }\n",
              "</style>\n",
              "<table border=\"1\" class=\"dataframe\">\n",
              "  <thead>\n",
              "    <tr style=\"text-align: right;\">\n",
              "      <th></th>\n",
              "      <th>Country</th>\n",
              "      <th>Attack</th>\n",
              "      <th>Midfield</th>\n",
              "      <th>Defense</th>\n",
              "      <th>Penalties</th>\n",
              "      <th>GoalKeeper</th>\n",
              "    </tr>\n",
              "  </thead>\n",
              "  <tbody>\n",
              "    <tr>\n",
              "      <th>20</th>\n",
              "      <td>Denmark</td>\n",
              "      <td>-0.0581746</td>\n",
              "      <td>0.491511</td>\n",
              "      <td>0.187875</td>\n",
              "      <td>0.179962</td>\n",
              "      <td>0.210732</td>\n",
              "    </tr>\n",
              "    <tr>\n",
              "      <th>8</th>\n",
              "      <td>Senegal</td>\n",
              "      <td>0.116349</td>\n",
              "      <td>0.360442</td>\n",
              "      <td>0.187875</td>\n",
              "      <td>0.0420271</td>\n",
              "      <td>-1.27641</td>\n",
              "    </tr>\n",
              "    <tr>\n",
              "      <th>31</th>\n",
              "      <td>Switzerland</td>\n",
              "      <td>-0.349047</td>\n",
              "      <td>0.163837</td>\n",
              "      <td>0.252174</td>\n",
              "      <td>-0.7511</td>\n",
              "      <td>0.774819</td>\n",
              "    </tr>\n",
              "    <tr>\n",
              "      <th>13</th>\n",
              "      <td>Argentina</td>\n",
              "      <td>1.62889</td>\n",
              "      <td>1.67114</td>\n",
              "      <td>0.830868</td>\n",
              "      <td>1.38689</td>\n",
              "      <td>0.877381</td>\n",
              "    </tr>\n",
              "    <tr>\n",
              "      <th>0</th>\n",
              "      <td>Australia</td>\n",
              "      <td>-1.27984</td>\n",
              "      <td>-1.08133</td>\n",
              "      <td>-0.905214</td>\n",
              "      <td>-0.958002</td>\n",
              "      <td>0.0312492</td>\n",
              "    </tr>\n",
              "  </tbody>\n",
              "</table>\n",
              "</div>"
            ],
            "text/plain": [
              "        Country     Attack  Midfield   Defense  Penalties GoalKeeper\n",
              "20      Denmark -0.0581746  0.491511  0.187875   0.179962   0.210732\n",
              "8       Senegal   0.116349  0.360442  0.187875  0.0420271   -1.27641\n",
              "31  Switzerland  -0.349047  0.163837  0.252174    -0.7511   0.774819\n",
              "13    Argentina    1.62889   1.67114  0.830868    1.38689   0.877381\n",
              "0     Australia   -1.27984  -1.08133 -0.905214  -0.958002  0.0312492"
            ]
          },
          "metadata": {
            "tags": []
          },
          "execution_count": 1126
        }
      ]
    },
    {
      "cell_type": "markdown",
      "metadata": {
        "id": "kPSz77KtDhL8"
      },
      "source": [
        "#### **Structing the Data Set**"
      ]
    },
    {
      "cell_type": "markdown",
      "metadata": {
        "id": "mb_M2sUiDzhy"
      },
      "source": [
        "The dataset we will be using will consist of the relative skill of a countries potential team compared to their opponent in the match. To do this, we will be including the attacking, defending, midfielding and goalkeeping of both the teams into the dataset. Then we will be computing the difference between the skills levels."
      ]
    },
    {
      "cell_type": "markdown",
      "metadata": {
        "id": "gDmqESHjEjsx"
      },
      "source": [
        "Accordingly the variables we will be using are:\n",
        "- ATK_ATK: Attacking skill score of team A less the attacking skill score of team B\n",
        "- ATK_MDF: Attacking skill score of team A less the midfielding skill score of team B\n",
        "- ATK_DFS:Attacking skill score of team A less the defending skill score of team B\n",
        "- ATK_GK:Attacking skill score of team A less the goalkeeping skill score of team B\n",
        "- MDF_ATK:Midfielding skill score of team A less the attacking skill score of team B\n",
        "- MDF_MDF:Midfielding skill score of team A less the midfielding skill score of team B\n",
        "- MDF_DFS:Midfielding skill score of team A less the defending skill score of team B\n",
        "- MDF_GK:Midfielding skill score of team A less the goalkeeping skill score of team B\n",
        "- DFS_ATK:Defending skill score of team A less the attacking skill score of team B\n",
        "- DFS_MDF:Defending skill score of team A less the midfielding skill score of team B\n",
        "- GK_ATK:Goalkeeping skill score of team A less the attacking skill score of team B\n",
        "- GK_MDF:Goalkeeping skill score of team A less the midfielding skill score of team B"
      ]
    },
    {
      "cell_type": "markdown",
      "metadata": {
        "id": "WSyBtNEOF6cR"
      },
      "source": [
        "The logic behind this scores are as follows:\n",
        "- ATK_ATK: Influences possesion of the ball. The stronger attackers will likely have more possesion.\n",
        "- ATK_MDF: Influences possesion of the ball and the ability of the attackers in team A to break through the defense of team B\n",
        "- ATK_DFS: Represents the ability of the attackers in team A to break through the defense of team B\n",
        "- ATK_GK: Represents the ability of the attackers in team A to get through the goalkeeper of team B\n",
        "- MDF_ATK: Represents team A's ability to regain possesion of the ball from team B's attackers\n",
        "- MDF_MDF: Midfielders may face each other when both attacking and defending.\n",
        "- MDF_DFS: Midfielders may have to often assist and this involves getting through the opponents defense.\n",
        "- MDF_GK: The ability of a midfielder to pass the goalkeeper and score.\n",
        "- DFS_ATK: Represents the ability of team A to defend againt team B's attackers.\n",
        "- DFS_MDF: Represents the ability of team A to defend againt team B's midfielders.\n",
        "- GK_ATK: Represents the ability of the goalkeepers to stop goals from team B's attackers\n",
        "- GK_MDF:Represents the ability of the goalkeepers to stop goals from team B's midfielders"
      ]
    },
    {
      "cell_type": "code",
      "metadata": {
        "colab": {
          "base_uri": "https://localhost:8080/",
          "height": 81
        },
        "id": "rxLxPnNuhhEx",
        "outputId": "d33d90ea-d40a-4490-9590-feb4ed060ac3"
      },
      "source": [
        "Goals18_df=pd.read_csv('/wd/FIFA18_MatchGoals.csv')\n",
        "Goals18_df['Team A']=Goals18_df['Team A'].str.strip()\n",
        "Goals18_df['Team B']=Goals18_df['Team B'].str.strip()\n",
        "Goals18_df=Goals18_df.replace('South Korea','Korea Republic')\n",
        "Goals18_df.sample()"
      ],
      "execution_count": null,
      "outputs": [
        {
          "output_type": "execute_result",
          "data": {
            "text/html": [
              "<div>\n",
              "<style scoped>\n",
              "    .dataframe tbody tr th:only-of-type {\n",
              "        vertical-align: middle;\n",
              "    }\n",
              "\n",
              "    .dataframe tbody tr th {\n",
              "        vertical-align: top;\n",
              "    }\n",
              "\n",
              "    .dataframe thead th {\n",
              "        text-align: right;\n",
              "    }\n",
              "</style>\n",
              "<table border=\"1\" class=\"dataframe\">\n",
              "  <thead>\n",
              "    <tr style=\"text-align: right;\">\n",
              "      <th></th>\n",
              "      <th>Team A</th>\n",
              "      <th>Team B</th>\n",
              "      <th>Goals A</th>\n",
              "      <th>Goals B</th>\n",
              "    </tr>\n",
              "  </thead>\n",
              "  <tbody>\n",
              "    <tr>\n",
              "      <th>21</th>\n",
              "      <td>Nigeria</td>\n",
              "      <td>Iceland</td>\n",
              "      <td>2</td>\n",
              "      <td>0</td>\n",
              "    </tr>\n",
              "  </tbody>\n",
              "</table>\n",
              "</div>"
            ],
            "text/plain": [
              "     Team A   Team B  Goals A  Goals B\n",
              "21  Nigeria  Iceland        2        0"
            ]
          },
          "metadata": {
            "tags": []
          },
          "execution_count": 1127
        }
      ]
    },
    {
      "cell_type": "code",
      "metadata": {
        "id": "DTZONhB6tv7h"
      },
      "source": [
        "Goals18_df=pd.merge(Goals18_df,df_17_country_b[['Country','Attack','Midfield','Defense','Penalties','GoalKeeper']],how='left',left_on='Team A',right_on='Country').drop('Country',axis=1)\n",
        "Goals18_df=pd.merge(Goals18_df,df_17_country_b[['Country','Attack','Midfield','Defense','Penalties','GoalKeeper']],how='left',left_on='Team B',right_on='Country',suffixes=(' A', ' B')).drop('Country',axis=1)"
      ],
      "execution_count": null,
      "outputs": []
    },
    {
      "cell_type": "code",
      "metadata": {
        "colab": {
          "base_uri": "https://localhost:8080/",
          "height": 244
        },
        "id": "fqr3yIm6uiZG",
        "outputId": "9f0d25e5-d3f7-495a-aeeb-89b62de546a7"
      },
      "source": [
        "Goals18_df.sample(5)"
      ],
      "execution_count": null,
      "outputs": [
        {
          "output_type": "execute_result",
          "data": {
            "text/html": [
              "<div>\n",
              "<style scoped>\n",
              "    .dataframe tbody tr th:only-of-type {\n",
              "        vertical-align: middle;\n",
              "    }\n",
              "\n",
              "    .dataframe tbody tr th {\n",
              "        vertical-align: top;\n",
              "    }\n",
              "\n",
              "    .dataframe thead th {\n",
              "        text-align: right;\n",
              "    }\n",
              "</style>\n",
              "<table border=\"1\" class=\"dataframe\">\n",
              "  <thead>\n",
              "    <tr style=\"text-align: right;\">\n",
              "      <th></th>\n",
              "      <th>Team A</th>\n",
              "      <th>Team B</th>\n",
              "      <th>Goals A</th>\n",
              "      <th>Goals B</th>\n",
              "      <th>Attack A</th>\n",
              "      <th>Midfield A</th>\n",
              "      <th>Defense A</th>\n",
              "      <th>Penalties A</th>\n",
              "      <th>GoalKeeper A</th>\n",
              "      <th>Attack B</th>\n",
              "      <th>Midfield B</th>\n",
              "      <th>Defense B</th>\n",
              "      <th>Penalties B</th>\n",
              "      <th>GoalKeeper B</th>\n",
              "    </tr>\n",
              "  </thead>\n",
              "  <tbody>\n",
              "    <tr>\n",
              "      <th>45</th>\n",
              "      <td>Poland</td>\n",
              "      <td>Colombia</td>\n",
              "      <td>0</td>\n",
              "      <td>3</td>\n",
              "      <td>0.814444</td>\n",
              "      <td>-0.425977</td>\n",
              "      <td>0.830868</td>\n",
              "      <td>0.110995</td>\n",
              "      <td>0.441495</td>\n",
              "      <td>0.523571</td>\n",
              "      <td>0.557046</td>\n",
              "      <td>-0.133622</td>\n",
              "      <td>1.14551</td>\n",
              "      <td>-0.0456719</td>\n",
              "    </tr>\n",
              "    <tr>\n",
              "      <th>58</th>\n",
              "      <td>Russia</td>\n",
              "      <td>Croatia</td>\n",
              "      <td>2</td>\n",
              "      <td>2</td>\n",
              "      <td>-2.48013e-15</td>\n",
              "      <td>0.0983023</td>\n",
              "      <td>0.252174</td>\n",
              "      <td>0.455832</td>\n",
              "      <td>0.672258</td>\n",
              "      <td>0.523571</td>\n",
              "      <td>1.34346</td>\n",
              "      <td>0.380773</td>\n",
              "      <td>1.42138</td>\n",
              "      <td>-0.250795</td>\n",
              "    </tr>\n",
              "    <tr>\n",
              "      <th>4</th>\n",
              "      <td>Uruguay</td>\n",
              "      <td>Russia</td>\n",
              "      <td>3</td>\n",
              "      <td>0</td>\n",
              "      <td>1.22167</td>\n",
              "      <td>-0.360442</td>\n",
              "      <td>0.959467</td>\n",
              "      <td>0.697219</td>\n",
              "      <td>0.133811</td>\n",
              "      <td>-2.48013e-15</td>\n",
              "      <td>0.0983023</td>\n",
              "      <td>0.252174</td>\n",
              "      <td>0.455832</td>\n",
              "      <td>0.672258</td>\n",
              "    </tr>\n",
              "    <tr>\n",
              "      <th>2</th>\n",
              "      <td>Russia</td>\n",
              "      <td>Egypt</td>\n",
              "      <td>3</td>\n",
              "      <td>1</td>\n",
              "      <td>-2.48013e-15</td>\n",
              "      <td>0.0983023</td>\n",
              "      <td>0.252174</td>\n",
              "      <td>0.455832</td>\n",
              "      <td>0.672258</td>\n",
              "      <td>-0.174524</td>\n",
              "      <td>-1.01579</td>\n",
              "      <td>-1.35531</td>\n",
              "      <td>-0.889035</td>\n",
              "      <td>-0.404637</td>\n",
              "    </tr>\n",
              "    <tr>\n",
              "      <th>35</th>\n",
              "      <td>Mexico</td>\n",
              "      <td>Sweden</td>\n",
              "      <td>0</td>\n",
              "      <td>3</td>\n",
              "      <td>0.465396</td>\n",
              "      <td>0.0327674</td>\n",
              "      <td>-0.00502339</td>\n",
              "      <td>0.352381</td>\n",
              "      <td>0.185091</td>\n",
              "      <td>0.814444</td>\n",
              "      <td>-0.294907</td>\n",
              "      <td>0.123575</td>\n",
              "      <td>0.179962</td>\n",
              "      <td>-0.0969526</td>\n",
              "    </tr>\n",
              "  </tbody>\n",
              "</table>\n",
              "</div>"
            ],
            "text/plain": [
              "     Team A    Team B  Goals A  ...  Defense B Penalties B GoalKeeper B\n",
              "45   Poland  Colombia        0  ...  -0.133622     1.14551   -0.0456719\n",
              "58   Russia   Croatia        2  ...   0.380773     1.42138    -0.250795\n",
              "4   Uruguay    Russia        3  ...   0.252174    0.455832     0.672258\n",
              "2    Russia     Egypt        3  ...   -1.35531   -0.889035    -0.404637\n",
              "35   Mexico    Sweden        0  ...   0.123575    0.179962   -0.0969526\n",
              "\n",
              "[5 rows x 14 columns]"
            ]
          },
          "metadata": {
            "tags": []
          },
          "execution_count": 1129
        }
      ]
    },
    {
      "cell_type": "code",
      "metadata": {
        "id": "LH99uNoTtlYC"
      },
      "source": [
        "Goals18_df['ATK_ATK']=Goals18_df['Attack A']-Goals18_df['Attack B']\n",
        "Goals18_df['ATK_MDF']=Goals18_df['Attack A']-Goals18_df['Midfield B']\n",
        "Goals18_df['ATK_DFS']=Goals18_df['Attack A']-Goals18_df['Defense B']\n",
        "Goals18_df['ATK_GK']=Goals18_df['Attack A']-Goals18_df['GoalKeeper B']\n",
        "Goals18_df['MDF_ATK']=Goals18_df['Midfield A']-Goals18_df['Attack B']\n",
        "Goals18_df['MDF_MDF']=Goals18_df['Midfield A']-Goals18_df['Midfield B']\n",
        "Goals18_df['MDF_DFS']=Goals18_df['Midfield A']-Goals18_df['Midfield B']\n",
        "Goals18_df['MDF_GK']=Goals18_df['Midfield A']-Goals18_df['GoalKeeper B']\n",
        "Goals18_df['DFS_ATK']=Goals18_df['Defense A']-Goals18_df['Attack B']\n",
        "Goals18_df['DFS_MDF']=Goals18_df['Defense A']-Goals18_df['Midfield B']\n",
        "Goals18_df['GK_ATK']=Goals18_df['GoalKeeper A']-Goals18_df['Attack B']\n",
        "Goals18_df['GK_MDF']=Goals18_df['GoalKeeper A']-Goals18_df['Midfield B']"
      ],
      "execution_count": null,
      "outputs": []
    },
    {
      "cell_type": "markdown",
      "metadata": {
        "id": "F3sSQJePH2De"
      },
      "source": [
        "##### **Normalizing the variables**"
      ]
    },
    {
      "cell_type": "code",
      "metadata": {
        "id": "h_G_wkEBgVAn"
      },
      "source": [
        "columns_norm=['ATK_ATK','ATK_MDF','ATK_DFS','ATK_GK','MDF_ATK','MDF_MDF','MDF_DFS','MDF_GK','DFS_ATK',\n",
        "           'DFS_MDF','GK_ATK','GK_MDF']\n",
        "\n",
        "Goals18_df[columns_norm]=(Goals18_df[columns_norm]-Goals18_df[columns_norm].mean())/Goals18_df[columns_norm].std()"
      ],
      "execution_count": null,
      "outputs": []
    },
    {
      "cell_type": "markdown",
      "metadata": {
        "id": "aK3JgEs9H6AP"
      },
      "source": [
        "##### **Computing the depeding the dependent variable**"
      ]
    },
    {
      "cell_type": "markdown",
      "metadata": {
        "id": "fPzUyHj2ICbN"
      },
      "source": [
        "- 2 : Team A wins\n",
        "- 1 : Draw\n",
        "- 0 : Team B wins"
      ]
    },
    {
      "cell_type": "code",
      "metadata": {
        "colab": {
          "base_uri": "https://localhost:8080/",
          "height": 181
        },
        "id": "8lV-JGcBApD6",
        "outputId": "5d955d9f-1064-4e57-8c42-2db9b6036cd3"
      },
      "source": [
        "Winning_Team=[]\n",
        "for i in range(Goals18_df.shape[0]):\n",
        "  row=Goals18_df.iloc[i]\n",
        "  if (row['Goals A']>row['Goals B']):\n",
        "    Winning_Team.append(2)\n",
        "  elif (row['Goals A']<row['Goals B']):\n",
        "    Winning_Team.append(0)\n",
        "  else:\n",
        "    Winning_Team.append(1)\n",
        "\n",
        "Goals18_df['Winning Team']=Winning_Team\n",
        "Goals18_df.sample(3)"
      ],
      "execution_count": null,
      "outputs": [
        {
          "output_type": "execute_result",
          "data": {
            "text/html": [
              "<div>\n",
              "<style scoped>\n",
              "    .dataframe tbody tr th:only-of-type {\n",
              "        vertical-align: middle;\n",
              "    }\n",
              "\n",
              "    .dataframe tbody tr th {\n",
              "        vertical-align: top;\n",
              "    }\n",
              "\n",
              "    .dataframe thead th {\n",
              "        text-align: right;\n",
              "    }\n",
              "</style>\n",
              "<table border=\"1\" class=\"dataframe\">\n",
              "  <thead>\n",
              "    <tr style=\"text-align: right;\">\n",
              "      <th></th>\n",
              "      <th>Team A</th>\n",
              "      <th>Team B</th>\n",
              "      <th>Goals A</th>\n",
              "      <th>Goals B</th>\n",
              "      <th>Attack A</th>\n",
              "      <th>Midfield A</th>\n",
              "      <th>Defense A</th>\n",
              "      <th>Penalties A</th>\n",
              "      <th>GoalKeeper A</th>\n",
              "      <th>Attack B</th>\n",
              "      <th>Midfield B</th>\n",
              "      <th>Defense B</th>\n",
              "      <th>Penalties B</th>\n",
              "      <th>GoalKeeper B</th>\n",
              "      <th>ATK_ATK</th>\n",
              "      <th>ATK_MDF</th>\n",
              "      <th>ATK_DFS</th>\n",
              "      <th>ATK_GK</th>\n",
              "      <th>MDF_ATK</th>\n",
              "      <th>MDF_MDF</th>\n",
              "      <th>MDF_DFS</th>\n",
              "      <th>MDF_GK</th>\n",
              "      <th>DFS_ATK</th>\n",
              "      <th>DFS_MDF</th>\n",
              "      <th>GK_ATK</th>\n",
              "      <th>GK_MDF</th>\n",
              "      <th>Winning Team</th>\n",
              "    </tr>\n",
              "  </thead>\n",
              "  <tbody>\n",
              "    <tr>\n",
              "      <th>39</th>\n",
              "      <td>England</td>\n",
              "      <td>Panama</td>\n",
              "      <td>6</td>\n",
              "      <td>1</td>\n",
              "      <td>0.988968</td>\n",
              "      <td>0.491511</td>\n",
              "      <td>0.830868</td>\n",
              "      <td>-0.0614242</td>\n",
              "      <td>0.903021</td>\n",
              "      <td>-2.21063</td>\n",
              "      <td>-2.06435</td>\n",
              "      <td>-1.8697</td>\n",
              "      <td>-1.75113</td>\n",
              "      <td>-1.12257</td>\n",
              "      <td>2.13946</td>\n",
              "      <td>2.15465</td>\n",
              "      <td>1.92415</td>\n",
              "      <td>1.41007</td>\n",
              "      <td>1.68935</td>\n",
              "      <td>1.6771</td>\n",
              "      <td>1.6771</td>\n",
              "      <td>0.986512</td>\n",
              "      <td>1.88417</td>\n",
              "      <td>1.91065</td>\n",
              "      <td>2.01024</td>\n",
              "      <td>2.02791</td>\n",
              "      <td>2</td>\n",
              "    </tr>\n",
              "    <tr>\n",
              "      <th>40</th>\n",
              "      <td>England</td>\n",
              "      <td>Belgium</td>\n",
              "      <td>0</td>\n",
              "      <td>1</td>\n",
              "      <td>0.988968</td>\n",
              "      <td>0.491511</td>\n",
              "      <td>0.830868</td>\n",
              "      <td>-0.0614242</td>\n",
              "      <td>0.903021</td>\n",
              "      <td>0.930793</td>\n",
              "      <td>1.54007</td>\n",
              "      <td>1.15236</td>\n",
              "      <td>1.24896</td>\n",
              "      <td>0.749179</td>\n",
              "      <td>-0.163959</td>\n",
              "      <td>-0.605725</td>\n",
              "      <td>-0.354261</td>\n",
              "      <td>-0.0605928</td>\n",
              "      <td>-0.454115</td>\n",
              "      <td>-0.871862</td>\n",
              "      <td>-0.871862</td>\n",
              "      <td>-0.378543</td>\n",
              "      <td>-0.248522</td>\n",
              "      <td>-0.667688</td>\n",
              "      <td>-0.16436</td>\n",
              "      <td>-0.582925</td>\n",
              "      <td>0</td>\n",
              "    </tr>\n",
              "    <tr>\n",
              "      <th>6</th>\n",
              "      <td>Morocco</td>\n",
              "      <td>Iran</td>\n",
              "      <td>0</td>\n",
              "      <td>1</td>\n",
              "      <td>-0.698095</td>\n",
              "      <td>0.0983023</td>\n",
              "      <td>-0.0693227</td>\n",
              "      <td>1.31793</td>\n",
              "      <td>-0.327716</td>\n",
              "      <td>-0.756269</td>\n",
              "      <td>-1.67114</td>\n",
              "      <td>-1.77326</td>\n",
              "      <td>-2.2339</td>\n",
              "      <td>-1.40461</td>\n",
              "      <td>-0.163959</td>\n",
              "      <td>0.561512</td>\n",
              "      <td>0.579518</td>\n",
              "      <td>0.306123</td>\n",
              "      <td>0.428709</td>\n",
              "      <td>1.12097</td>\n",
              "      <td>1.12097</td>\n",
              "      <td>0.90544</td>\n",
              "      <td>0.285679</td>\n",
              "      <td>0.985449</td>\n",
              "      <td>0.151524</td>\n",
              "      <td>0.851614</td>\n",
              "      <td>0</td>\n",
              "    </tr>\n",
              "  </tbody>\n",
              "</table>\n",
              "</div>"
            ],
            "text/plain": [
              "     Team A   Team B  Goals A  ...    GK_ATK    GK_MDF Winning Team\n",
              "39  England   Panama        6  ...   2.01024   2.02791            2\n",
              "40  England  Belgium        0  ...  -0.16436 -0.582925            0\n",
              "6   Morocco     Iran        0  ...  0.151524  0.851614            0\n",
              "\n",
              "[3 rows x 27 columns]"
            ]
          },
          "metadata": {
            "tags": []
          },
          "execution_count": 1132
        }
      ]
    },
    {
      "cell_type": "markdown",
      "metadata": {
        "id": "CRkn42M0INAl"
      },
      "source": [
        "##### **Preparing the training and test data**"
      ]
    },
    {
      "cell_type": "markdown",
      "metadata": {
        "id": "k3DNZaIPIRaV"
      },
      "source": [
        "A random sample of 10 matches are set aside for testing. "
      ]
    },
    {
      "cell_type": "code",
      "metadata": {
        "id": "P9J8kdT_CZbK"
      },
      "source": [
        "test=np.random.randint(0,Goals18_df.shape[0],size=10)"
      ],
      "execution_count": null,
      "outputs": []
    },
    {
      "cell_type": "code",
      "metadata": {
        "id": "aE46Sz8OHJQU"
      },
      "source": [
        "test_data_b=Goals18_df.iloc[test]\n",
        "Goals18_df=Goals18_df.drop(test)"
      ],
      "execution_count": null,
      "outputs": []
    },
    {
      "cell_type": "code",
      "metadata": {
        "id": "MKjigg9cBYDU"
      },
      "source": [
        "Goals18_df=Goals18_df.reset_index(drop=True)\n",
        "\n",
        "X_columns=columns_norm=['ATK_ATK','ATK_MDF','ATK_DFS','ATK_GK','MDF_ATK','MDF_MDF','MDF_DFS','MDF_GK','DFS_ATK','DFS_MDF','GK_ATK','GK_MDF']\n",
        "\n",
        "X_train_b=Goals18_df[X_columns]\n",
        "y_train_b=Goals18_df[['Winning Team']]"
      ],
      "execution_count": null,
      "outputs": []
    },
    {
      "cell_type": "markdown",
      "metadata": {
        "id": "IGiOHsvbIpV8"
      },
      "source": [
        "## **Random Forest Classifier**"
      ]
    },
    {
      "cell_type": "markdown",
      "metadata": {
        "id": "PDq0cR5WI5B8"
      },
      "source": [
        "Though random forests are typically data hungry, we have opted for the random forest for a number of reasons.\n",
        "\n",
        "1. Tree based models can capture non linear relationships that regression models cannot capture.\n",
        "2. The random forest considers a large number of trees each with a different set of feature variables. Thus the results will be more robust that just a decision tree.\n",
        "\n",
        "Again, to prevent overfitting, we have limited the depth and minimum number of samples in a leaf. We have also used bootstrap since the dataset is small."
      ]
    },
    {
      "cell_type": "code",
      "metadata": {
        "colab": {
          "base_uri": "https://localhost:8080/"
        },
        "id": "AC1BjejMBYQp",
        "outputId": "52722c90-9b10-429d-8f91-9c6bbb77fbfd"
      },
      "source": [
        "clf=RandomForestClassifier(n_estimators=100,max_depth=3,min_samples_leaf=3,bootstrap=True)\n",
        "clf = clf.fit(X_train_b,y_train_b)"
      ],
      "execution_count": null,
      "outputs": [
        {
          "output_type": "stream",
          "text": [
            "/usr/local/lib/python3.7/dist-packages/ipykernel_launcher.py:4: DataConversionWarning: A column-vector y was passed when a 1d array was expected. Please change the shape of y to (n_samples,), for example using ravel().\n",
            "  after removing the cwd from sys.path.\n"
          ],
          "name": "stderr"
        }
      ]
    },
    {
      "cell_type": "code",
      "metadata": {
        "colab": {
          "base_uri": "https://localhost:8080/",
          "height": 426
        },
        "id": "8gXk5kHnDMBf",
        "outputId": "7bce36fd-b154-45d1-80ee-574da867be42"
      },
      "source": [
        "pd.DataFrame({'Field':X_train_b.columns,'Importance':list(clf.feature_importances_)}).sort_values(by='Importance',ascending=False)"
      ],
      "execution_count": null,
      "outputs": [
        {
          "output_type": "execute_result",
          "data": {
            "text/html": [
              "<div>\n",
              "<style scoped>\n",
              "    .dataframe tbody tr th:only-of-type {\n",
              "        vertical-align: middle;\n",
              "    }\n",
              "\n",
              "    .dataframe tbody tr th {\n",
              "        vertical-align: top;\n",
              "    }\n",
              "\n",
              "    .dataframe thead th {\n",
              "        text-align: right;\n",
              "    }\n",
              "</style>\n",
              "<table border=\"1\" class=\"dataframe\">\n",
              "  <thead>\n",
              "    <tr style=\"text-align: right;\">\n",
              "      <th></th>\n",
              "      <th>Field</th>\n",
              "      <th>Importance</th>\n",
              "    </tr>\n",
              "  </thead>\n",
              "  <tbody>\n",
              "    <tr>\n",
              "      <th>10</th>\n",
              "      <td>GK_ATK</td>\n",
              "      <td>0.150375</td>\n",
              "    </tr>\n",
              "    <tr>\n",
              "      <th>1</th>\n",
              "      <td>ATK_MDF</td>\n",
              "      <td>0.109395</td>\n",
              "    </tr>\n",
              "    <tr>\n",
              "      <th>4</th>\n",
              "      <td>MDF_ATK</td>\n",
              "      <td>0.102597</td>\n",
              "    </tr>\n",
              "    <tr>\n",
              "      <th>11</th>\n",
              "      <td>GK_MDF</td>\n",
              "      <td>0.095584</td>\n",
              "    </tr>\n",
              "    <tr>\n",
              "      <th>0</th>\n",
              "      <td>ATK_ATK</td>\n",
              "      <td>0.093773</td>\n",
              "    </tr>\n",
              "    <tr>\n",
              "      <th>2</th>\n",
              "      <td>ATK_DFS</td>\n",
              "      <td>0.086970</td>\n",
              "    </tr>\n",
              "    <tr>\n",
              "      <th>9</th>\n",
              "      <td>DFS_MDF</td>\n",
              "      <td>0.075686</td>\n",
              "    </tr>\n",
              "    <tr>\n",
              "      <th>5</th>\n",
              "      <td>MDF_MDF</td>\n",
              "      <td>0.074605</td>\n",
              "    </tr>\n",
              "    <tr>\n",
              "      <th>6</th>\n",
              "      <td>MDF_DFS</td>\n",
              "      <td>0.064060</td>\n",
              "    </tr>\n",
              "    <tr>\n",
              "      <th>8</th>\n",
              "      <td>DFS_ATK</td>\n",
              "      <td>0.062281</td>\n",
              "    </tr>\n",
              "    <tr>\n",
              "      <th>3</th>\n",
              "      <td>ATK_GK</td>\n",
              "      <td>0.046231</td>\n",
              "    </tr>\n",
              "    <tr>\n",
              "      <th>7</th>\n",
              "      <td>MDF_GK</td>\n",
              "      <td>0.038443</td>\n",
              "    </tr>\n",
              "  </tbody>\n",
              "</table>\n",
              "</div>"
            ],
            "text/plain": [
              "      Field  Importance\n",
              "10   GK_ATK    0.150375\n",
              "1   ATK_MDF    0.109395\n",
              "4   MDF_ATK    0.102597\n",
              "11   GK_MDF    0.095584\n",
              "0   ATK_ATK    0.093773\n",
              "2   ATK_DFS    0.086970\n",
              "9   DFS_MDF    0.075686\n",
              "5   MDF_MDF    0.074605\n",
              "6   MDF_DFS    0.064060\n",
              "8   DFS_ATK    0.062281\n",
              "3    ATK_GK    0.046231\n",
              "7    MDF_GK    0.038443"
            ]
          },
          "metadata": {
            "tags": []
          },
          "execution_count": 1138
        }
      ]
    },
    {
      "cell_type": "markdown",
      "metadata": {
        "id": "bxTfveePJ2qc"
      },
      "source": [
        "The face off between the attacker of one team and the goalkeeper of the other team and the face off between the attackers on one team and the midfielders of the other team seem to be key variables."
      ]
    },
    {
      "cell_type": "markdown",
      "metadata": {
        "id": "E495s9WGdNbo"
      },
      "source": [
        "##### **Testing the model**"
      ]
    },
    {
      "cell_type": "code",
      "metadata": {
        "colab": {
          "base_uri": "https://localhost:8080/",
          "height": 135
        },
        "id": "_8E-GatvgRlP",
        "outputId": "99f79440-96a7-4c5b-fb27-9104afe7cc90"
      },
      "source": [
        "test_data_b.sample()"
      ],
      "execution_count": null,
      "outputs": [
        {
          "output_type": "execute_result",
          "data": {
            "text/html": [
              "<div>\n",
              "<style scoped>\n",
              "    .dataframe tbody tr th:only-of-type {\n",
              "        vertical-align: middle;\n",
              "    }\n",
              "\n",
              "    .dataframe tbody tr th {\n",
              "        vertical-align: top;\n",
              "    }\n",
              "\n",
              "    .dataframe thead th {\n",
              "        text-align: right;\n",
              "    }\n",
              "</style>\n",
              "<table border=\"1\" class=\"dataframe\">\n",
              "  <thead>\n",
              "    <tr style=\"text-align: right;\">\n",
              "      <th></th>\n",
              "      <th>Team A</th>\n",
              "      <th>Team B</th>\n",
              "      <th>Goals A</th>\n",
              "      <th>Goals B</th>\n",
              "      <th>Attack A</th>\n",
              "      <th>Midfield A</th>\n",
              "      <th>Defense A</th>\n",
              "      <th>Penalties A</th>\n",
              "      <th>GoalKeeper A</th>\n",
              "      <th>Attack B</th>\n",
              "      <th>Midfield B</th>\n",
              "      <th>Defense B</th>\n",
              "      <th>Penalties B</th>\n",
              "      <th>GoalKeeper B</th>\n",
              "      <th>ATK_ATK</th>\n",
              "      <th>ATK_MDF</th>\n",
              "      <th>ATK_DFS</th>\n",
              "      <th>ATK_GK</th>\n",
              "      <th>MDF_ATK</th>\n",
              "      <th>MDF_MDF</th>\n",
              "      <th>MDF_DFS</th>\n",
              "      <th>MDF_GK</th>\n",
              "      <th>DFS_ATK</th>\n",
              "      <th>DFS_MDF</th>\n",
              "      <th>GK_ATK</th>\n",
              "      <th>GK_MDF</th>\n",
              "      <th>Winning Team</th>\n",
              "    </tr>\n",
              "  </thead>\n",
              "  <tbody>\n",
              "    <tr>\n",
              "      <th>3</th>\n",
              "      <td>Uruguay</td>\n",
              "      <td>Saudi Arabia</td>\n",
              "      <td>1</td>\n",
              "      <td>0</td>\n",
              "      <td>1.22167</td>\n",
              "      <td>-0.360442</td>\n",
              "      <td>0.959467</td>\n",
              "      <td>0.697219</td>\n",
              "      <td>0.133811</td>\n",
              "      <td>-1.33801</td>\n",
              "      <td>-1.21239</td>\n",
              "      <td>-0.969514</td>\n",
              "      <td>0.386865</td>\n",
              "      <td>-0.737961</td>\n",
              "      <td>1.67024</td>\n",
              "      <td>1.6804</td>\n",
              "      <td>1.42091</td>\n",
              "      <td>1.29072</td>\n",
              "      <td>0.512636</td>\n",
              "      <td>0.472138</td>\n",
              "      <td>0.472138</td>\n",
              "      <td>0.084696</td>\n",
              "      <td>1.37906</td>\n",
              "      <td>1.39322</td>\n",
              "      <td>0.873712</td>\n",
              "      <td>0.853629</td>\n",
              "      <td>2</td>\n",
              "    </tr>\n",
              "  </tbody>\n",
              "</table>\n",
              "</div>"
            ],
            "text/plain": [
              "    Team A        Team B  Goals A  ...    GK_ATK    GK_MDF Winning Team\n",
              "3  Uruguay  Saudi Arabia        1  ...  0.873712  0.853629            2\n",
              "\n",
              "[1 rows x 27 columns]"
            ]
          },
          "metadata": {
            "tags": []
          },
          "execution_count": 1139
        }
      ]
    },
    {
      "cell_type": "code",
      "metadata": {
        "id": "aYoNTvdyHtM9"
      },
      "source": [
        "X_columns=columns_norm=['ATK_ATK','ATK_MDF','ATK_DFS','ATK_GK','MDF_ATK','MDF_MDF','MDF_DFS','MDF_GK','DFS_ATK','DFS_MDF','GK_ATK','GK_MDF']\n",
        "test_data_b['Predicted Winner']=clf.predict(test_data_b[X_columns])"
      ],
      "execution_count": null,
      "outputs": []
    },
    {
      "cell_type": "code",
      "metadata": {
        "id": "MJTc3zp_kN6u"
      },
      "source": [
        "Winning_Team=[]\n",
        "for i in range(test_data_b.shape[0]):\n",
        "  row=test_data_b.iloc[i]\n",
        "  if (row['Winning Team']==2):\n",
        "    Winning_Team.append(row['Team A'])\n",
        "  elif (row['Winning Team']==0):\n",
        "    Winning_Team.append(row['Team B'])\n",
        "  else:\n",
        "    Winning_Team.append('Draw')\n",
        "\n",
        "Predicted_Winner=[]\n",
        "for i in range(test_data_b.shape[0]):\n",
        "  row=test_data_b.iloc[i]\n",
        "  if (row['Predicted Winner']==2):\n",
        "    Predicted_Winner.append(row['Team A'])\n",
        "  elif (row['Predicted Winner']==0):\n",
        "    Predicted_Winner.append(row['Team B'])\n",
        "  else:\n",
        "    Predicted_Winner.append('Draw')\n",
        "\n",
        "\n",
        "test_data_b['Winning Team']=Winning_Team\n",
        "test_data_b['Predicted Winner']=Predicted_Winner\n"
      ],
      "execution_count": null,
      "outputs": []
    },
    {
      "cell_type": "code",
      "metadata": {
        "colab": {
          "base_uri": "https://localhost:8080/",
          "height": 363
        },
        "id": "tiVFaGWxLqLu",
        "outputId": "effde5a0-8a9f-4725-a503-8386fb2ad416"
      },
      "source": [
        "test_data_b[['Team A','Team B','Goals A','Goals B','Winning Team','Predicted Winner']]"
      ],
      "execution_count": null,
      "outputs": [
        {
          "output_type": "execute_result",
          "data": {
            "text/html": [
              "<div>\n",
              "<style scoped>\n",
              "    .dataframe tbody tr th:only-of-type {\n",
              "        vertical-align: middle;\n",
              "    }\n",
              "\n",
              "    .dataframe tbody tr th {\n",
              "        vertical-align: top;\n",
              "    }\n",
              "\n",
              "    .dataframe thead th {\n",
              "        text-align: right;\n",
              "    }\n",
              "</style>\n",
              "<table border=\"1\" class=\"dataframe\">\n",
              "  <thead>\n",
              "    <tr style=\"text-align: right;\">\n",
              "      <th></th>\n",
              "      <th>Team A</th>\n",
              "      <th>Team B</th>\n",
              "      <th>Goals A</th>\n",
              "      <th>Goals B</th>\n",
              "      <th>Winning Team</th>\n",
              "      <th>Predicted Winner</th>\n",
              "    </tr>\n",
              "  </thead>\n",
              "  <tbody>\n",
              "    <tr>\n",
              "      <th>3</th>\n",
              "      <td>Uruguay</td>\n",
              "      <td>Saudi Arabia</td>\n",
              "      <td>1</td>\n",
              "      <td>0</td>\n",
              "      <td>Uruguay</td>\n",
              "      <td>Uruguay</td>\n",
              "    </tr>\n",
              "    <tr>\n",
              "      <th>24</th>\n",
              "      <td>Costa Rica</td>\n",
              "      <td>Serbia</td>\n",
              "      <td>0</td>\n",
              "      <td>1</td>\n",
              "      <td>Serbia</td>\n",
              "      <td>Serbia</td>\n",
              "    </tr>\n",
              "    <tr>\n",
              "      <th>45</th>\n",
              "      <td>Poland</td>\n",
              "      <td>Colombia</td>\n",
              "      <td>0</td>\n",
              "      <td>3</td>\n",
              "      <td>Colombia</td>\n",
              "      <td>Colombia</td>\n",
              "    </tr>\n",
              "    <tr>\n",
              "      <th>12</th>\n",
              "      <td>France</td>\n",
              "      <td>Australia</td>\n",
              "      <td>2</td>\n",
              "      <td>1</td>\n",
              "      <td>France</td>\n",
              "      <td>France</td>\n",
              "    </tr>\n",
              "    <tr>\n",
              "      <th>32</th>\n",
              "      <td>Korea Republic</td>\n",
              "      <td>Mexico</td>\n",
              "      <td>1</td>\n",
              "      <td>2</td>\n",
              "      <td>Mexico</td>\n",
              "      <td>Mexico</td>\n",
              "    </tr>\n",
              "    <tr>\n",
              "      <th>50</th>\n",
              "      <td>Brazil</td>\n",
              "      <td>Mexico</td>\n",
              "      <td>2</td>\n",
              "      <td>0</td>\n",
              "      <td>Brazil</td>\n",
              "      <td>Brazil</td>\n",
              "    </tr>\n",
              "    <tr>\n",
              "      <th>38</th>\n",
              "      <td>Belgium</td>\n",
              "      <td>Tunisia</td>\n",
              "      <td>5</td>\n",
              "      <td>2</td>\n",
              "      <td>Belgium</td>\n",
              "      <td>Belgium</td>\n",
              "    </tr>\n",
              "    <tr>\n",
              "      <th>46</th>\n",
              "      <td>Japan</td>\n",
              "      <td>Poland</td>\n",
              "      <td>0</td>\n",
              "      <td>1</td>\n",
              "      <td>Poland</td>\n",
              "      <td>Poland</td>\n",
              "    </tr>\n",
              "    <tr>\n",
              "      <th>49</th>\n",
              "      <td>France</td>\n",
              "      <td>Argentina</td>\n",
              "      <td>4</td>\n",
              "      <td>3</td>\n",
              "      <td>France</td>\n",
              "      <td>Argentina</td>\n",
              "    </tr>\n",
              "    <tr>\n",
              "      <th>48</th>\n",
              "      <td>Uruguay</td>\n",
              "      <td>Portugal</td>\n",
              "      <td>2</td>\n",
              "      <td>1</td>\n",
              "      <td>Uruguay</td>\n",
              "      <td>Portugal</td>\n",
              "    </tr>\n",
              "  </tbody>\n",
              "</table>\n",
              "</div>"
            ],
            "text/plain": [
              "            Team A        Team B  ...  Winning Team  Predicted Winner\n",
              "3          Uruguay  Saudi Arabia  ...       Uruguay           Uruguay\n",
              "24      Costa Rica        Serbia  ...        Serbia            Serbia\n",
              "45          Poland      Colombia  ...      Colombia          Colombia\n",
              "12          France     Australia  ...        France            France\n",
              "32  Korea Republic        Mexico  ...        Mexico            Mexico\n",
              "50          Brazil        Mexico  ...        Brazil            Brazil\n",
              "38         Belgium       Tunisia  ...       Belgium           Belgium\n",
              "46           Japan        Poland  ...        Poland            Poland\n",
              "49          France     Argentina  ...        France         Argentina\n",
              "48         Uruguay      Portugal  ...       Uruguay          Portugal\n",
              "\n",
              "[10 rows x 6 columns]"
            ]
          },
          "metadata": {
            "tags": []
          },
          "execution_count": 1143
        }
      ]
    },
    {
      "cell_type": "code",
      "metadata": {
        "id": "k06GfV5WLwqC"
      },
      "source": [
        "conditions=[test_data_b['Predicted Winner']==test_data_b['Winning Team'],test_data_b['Predicted Winner']!=test_data_b['Winning Team']]\n",
        "choice=[1,0]\n",
        "\n",
        "test_data_b['Correct Prediction']=np.select(conditions,choice)"
      ],
      "execution_count": null,
      "outputs": []
    },
    {
      "cell_type": "code",
      "metadata": {
        "colab": {
          "base_uri": "https://localhost:8080/"
        },
        "id": "ktxEQWWvpGn7",
        "outputId": "a6c1a7a2-888f-44aa-c279-91e68270040a"
      },
      "source": [
        "accuracy=test_data_b['Correct Prediction'].sum()/test_data_b.shape[0]*100\n",
        "\n",
        "print('The combined model has predicted %d %% of the match results correctly' %accuracy)"
      ],
      "execution_count": null,
      "outputs": [
        {
          "output_type": "stream",
          "text": [
            "The combined model has predicted 80 % of the match results correctly\n"
          ],
          "name": "stdout"
        }
      ]
    },
    {
      "cell_type": "markdown",
      "metadata": {
        "id": "Uduba-L11Apf"
      },
      "source": [
        "Since there are three outcomes, Team A, Team B and Draw, and a random choice would result in us getting the correct answer 33% of the time, the model is better than random prediction.\n"
      ]
    },
    {
      "cell_type": "markdown",
      "metadata": {
        "id": "Xp75C4X4UOj4"
      },
      "source": [
        "#### **Predicting for England in 2022**"
      ]
    },
    {
      "cell_type": "code",
      "metadata": {
        "id": "xZ_BQ20sq-R1"
      },
      "source": [
        "df22_b=pd.DataFrame({'Team A':['England','England','England','England'],'Team B':['Brazil','Uruguay','France','Germany']})"
      ],
      "execution_count": null,
      "outputs": []
    },
    {
      "cell_type": "code",
      "metadata": {
        "id": "pMUlcJ1VU2Xy"
      },
      "source": [
        "Group=['England','Brazil','Uruguay','France','Germany']"
      ],
      "execution_count": null,
      "outputs": []
    },
    {
      "cell_type": "code",
      "metadata": {
        "colab": {
          "base_uri": "https://localhost:8080/",
          "height": 206
        },
        "id": "uZ0a03vIXOl1",
        "outputId": "c27708dd-cb4a-41db-8eaf-238b0ffb8377"
      },
      "source": [
        "df_21_country_b=df_21_country\n",
        "df_21_country.head()"
      ],
      "execution_count": null,
      "outputs": [
        {
          "output_type": "execute_result",
          "data": {
            "text/html": [
              "<div>\n",
              "<style scoped>\n",
              "    .dataframe tbody tr th:only-of-type {\n",
              "        vertical-align: middle;\n",
              "    }\n",
              "\n",
              "    .dataframe tbody tr th {\n",
              "        vertical-align: top;\n",
              "    }\n",
              "\n",
              "    .dataframe thead th {\n",
              "        text-align: right;\n",
              "    }\n",
              "</style>\n",
              "<table border=\"1\" class=\"dataframe\">\n",
              "  <thead>\n",
              "    <tr style=\"text-align: right;\">\n",
              "      <th></th>\n",
              "      <th>Country</th>\n",
              "      <th>Attack</th>\n",
              "      <th>Midfield</th>\n",
              "      <th>Defense</th>\n",
              "      <th>Penalties</th>\n",
              "      <th>GoalKeeper</th>\n",
              "      <th>Rank</th>\n",
              "      <th>Confederation</th>\n",
              "      <th>Average Score</th>\n",
              "    </tr>\n",
              "  </thead>\n",
              "  <tbody>\n",
              "    <tr>\n",
              "      <th>0</th>\n",
              "      <td>Belgium</td>\n",
              "      <td>1.23672</td>\n",
              "      <td>1.3865</td>\n",
              "      <td>1.11252</td>\n",
              "      <td>1.95426</td>\n",
              "      <td>1.39919</td>\n",
              "      <td>1</td>\n",
              "      <td>UEFA</td>\n",
              "      <td>82.875000</td>\n",
              "    </tr>\n",
              "    <tr>\n",
              "      <th>1</th>\n",
              "      <td>Brazil</td>\n",
              "      <td>1.69493</td>\n",
              "      <td>1.65338</td>\n",
              "      <td>1.73067</td>\n",
              "      <td>1.6654</td>\n",
              "      <td>1.80132</td>\n",
              "      <td>2</td>\n",
              "      <td>CONMEBOL</td>\n",
              "      <td>85.000000</td>\n",
              "    </tr>\n",
              "    <tr>\n",
              "      <th>2</th>\n",
              "      <td>France</td>\n",
              "      <td>2.08769</td>\n",
              "      <td>1.50088</td>\n",
              "      <td>1.88521</td>\n",
              "      <td>1.56912</td>\n",
              "      <td>1.34174</td>\n",
              "      <td>3</td>\n",
              "      <td>UEFA</td>\n",
              "      <td>84.833333</td>\n",
              "    </tr>\n",
              "    <tr>\n",
              "      <th>3</th>\n",
              "      <td>England</td>\n",
              "      <td>1.49856</td>\n",
              "      <td>1.34838</td>\n",
              "      <td>1.69204</td>\n",
              "      <td>2.05055</td>\n",
              "      <td>0.824711</td>\n",
              "      <td>4</td>\n",
              "      <td>UEFA</td>\n",
              "      <td>82.958333</td>\n",
              "    </tr>\n",
              "    <tr>\n",
              "      <th>4</th>\n",
              "      <td>Italy</td>\n",
              "      <td>1.17126</td>\n",
              "      <td>0.89088</td>\n",
              "      <td>1.30569</td>\n",
              "      <td>1.62689</td>\n",
              "      <td>1.28429</td>\n",
              "      <td>5</td>\n",
              "      <td>UEFA</td>\n",
              "      <td>82.291667</td>\n",
              "    </tr>\n",
              "  </tbody>\n",
              "</table>\n",
              "</div>"
            ],
            "text/plain": [
              "   Country   Attack Midfield  ... Rank Confederation Average Score\n",
              "0  Belgium  1.23672   1.3865  ...    1          UEFA     82.875000\n",
              "1   Brazil  1.69493  1.65338  ...    2      CONMEBOL     85.000000\n",
              "2   France  2.08769  1.50088  ...    3          UEFA     84.833333\n",
              "3  England  1.49856  1.34838  ...    4          UEFA     82.958333\n",
              "4    Italy  1.17126  0.89088  ...    5          UEFA     82.291667\n",
              "\n",
              "[5 rows x 9 columns]"
            ]
          },
          "metadata": {
            "tags": []
          },
          "execution_count": 1169
        }
      ]
    },
    {
      "cell_type": "code",
      "metadata": {
        "id": "hxBYztbGXl1x"
      },
      "source": [
        "columns_norm=['Attack','Midfield','Defense','Penalties','GoalKeeper']\n",
        "\n",
        "df_21_country_b[columns_norm]=(df_21_country_b[columns_norm]-df_21_country_b[columns_norm].mean())/df_21_country_b[columns_norm].std()"
      ],
      "execution_count": null,
      "outputs": []
    },
    {
      "cell_type": "code",
      "metadata": {
        "id": "xjmoAdLuYW7y"
      },
      "source": [
        "df22_b=pd.merge(df22_b,df_21_country_b[['Country','Attack','Midfield','Defense','Penalties','GoalKeeper']],how='left',left_on='Team A',right_on='Country').drop('Country',axis=1)\n",
        "df22_b=pd.merge(df22_b,df_21_country_b[['Country','Attack','Midfield','Defense','Penalties','GoalKeeper']],how='left',left_on='Team B',right_on='Country',suffixes=(' A', ' B')).drop('Country',axis=1)"
      ],
      "execution_count": null,
      "outputs": []
    },
    {
      "cell_type": "code",
      "metadata": {
        "id": "suzQrtWGYmbb"
      },
      "source": [
        "df22_b['ATK_ATK']=df22_b['Attack A']-df22_b['Attack B']\n",
        "df22_b['ATK_MDF']=df22_b['Attack A']-df22_b['Midfield B']\n",
        "df22_b['ATK_DFS']=df22_b['Attack A']-df22_b['Defense B']\n",
        "df22_b['ATK_GK']=df22_b['Attack A']-df22_b['GoalKeeper B']\n",
        "df22_b['MDF_ATK']=df22_b['Midfield A']-df22_b['Attack B']\n",
        "df22_b['MDF_MDF']=df22_b['Midfield A']-df22_b['Midfield B']\n",
        "df22_b['MDF_DFS']=df22_b['Midfield A']-df22_b['Midfield B']\n",
        "df22_b['MDF_GK']=df22_b['Midfield A']-df22_b['GoalKeeper B']\n",
        "df22_b['DFS_ATK']=df22_b['Defense A']-df22_b['Attack B']\n",
        "df22_b['DFS_MDF']=df22_b['Defense A']-df22_b['Midfield B']\n",
        "df22_b['GK_ATK']=df22_b['GoalKeeper A']-df22_b['Attack B']\n",
        "df22_b['GK_MDF']=df22_b['GoalKeeper A']-df22_b['Midfield B']\n"
      ],
      "execution_count": null,
      "outputs": []
    },
    {
      "cell_type": "code",
      "metadata": {
        "id": "Wx01gl24Zeop"
      },
      "source": [
        "columns_norm=['ATK_ATK','ATK_MDF','ATK_DFS','ATK_GK','MDF_ATK','MDF_MDF','MDF_DFS','MDF_GK','DFS_ATK',\n",
        "           'DFS_MDF','GK_ATK','GK_MDF']\n",
        "\n",
        "df22_b[columns_norm]=(df22_b[columns_norm]-df22_b[columns_norm].mean())/df22_b[columns_norm].std()"
      ],
      "execution_count": null,
      "outputs": []
    },
    {
      "cell_type": "code",
      "metadata": {
        "id": "LmuzaAhlZf4u"
      },
      "source": [
        "X_columns=['ATK_ATK','ATK_MDF','ATK_DFS','ATK_GK','MDF_ATK','MDF_MDF','MDF_DFS','MDF_GK','DFS_ATK',\n",
        "           'DFS_MDF','GK_ATK','GK_MDF']\n",
        "df22_b['Predicted Winner']=clf.predict(df22_b[X_columns])"
      ],
      "execution_count": null,
      "outputs": []
    },
    {
      "cell_type": "code",
      "metadata": {
        "colab": {
          "base_uri": "https://localhost:8080/",
          "height": 212
        },
        "id": "pIpxB4A8jn2G",
        "outputId": "c6d15675-0450-4f49-cd14-b0ecdb6b886d"
      },
      "source": [
        "df22_b"
      ],
      "execution_count": null,
      "outputs": [
        {
          "output_type": "execute_result",
          "data": {
            "text/html": [
              "<div>\n",
              "<style scoped>\n",
              "    .dataframe tbody tr th:only-of-type {\n",
              "        vertical-align: middle;\n",
              "    }\n",
              "\n",
              "    .dataframe tbody tr th {\n",
              "        vertical-align: top;\n",
              "    }\n",
              "\n",
              "    .dataframe thead th {\n",
              "        text-align: right;\n",
              "    }\n",
              "</style>\n",
              "<table border=\"1\" class=\"dataframe\">\n",
              "  <thead>\n",
              "    <tr style=\"text-align: right;\">\n",
              "      <th></th>\n",
              "      <th>Team A</th>\n",
              "      <th>Team B</th>\n",
              "      <th>Attack A</th>\n",
              "      <th>Midfield A</th>\n",
              "      <th>Defense A</th>\n",
              "      <th>Penalties A</th>\n",
              "      <th>GoalKeeper A</th>\n",
              "      <th>Attack B</th>\n",
              "      <th>Midfield B</th>\n",
              "      <th>Defense B</th>\n",
              "      <th>Penalties B</th>\n",
              "      <th>GoalKeeper B</th>\n",
              "      <th>ATK_ATK</th>\n",
              "      <th>ATK_MDF</th>\n",
              "      <th>ATK_DFS</th>\n",
              "      <th>ATK_GK</th>\n",
              "      <th>MDF_ATK</th>\n",
              "      <th>MDF_MDF</th>\n",
              "      <th>MDF_DFS</th>\n",
              "      <th>MDF_GK</th>\n",
              "      <th>DFS_ATK</th>\n",
              "      <th>DFS_MDF</th>\n",
              "      <th>GK_ATK</th>\n",
              "      <th>GK_MDF</th>\n",
              "      <th>Predicted Winner</th>\n",
              "    </tr>\n",
              "  </thead>\n",
              "  <tbody>\n",
              "    <tr>\n",
              "      <th>0</th>\n",
              "      <td>England</td>\n",
              "      <td>Brazil</td>\n",
              "      <td>1.49856</td>\n",
              "      <td>1.34838</td>\n",
              "      <td>1.69204</td>\n",
              "      <td>2.05055</td>\n",
              "      <td>0.824711</td>\n",
              "      <td>1.69493</td>\n",
              "      <td>1.65338</td>\n",
              "      <td>1.73067</td>\n",
              "      <td>1.6654</td>\n",
              "      <td>1.80132</td>\n",
              "      <td>-0.514645</td>\n",
              "      <td>-0.433099</td>\n",
              "      <td>-0.510754</td>\n",
              "      <td>-0.566794</td>\n",
              "      <td>-0.514645</td>\n",
              "      <td>-0.433099</td>\n",
              "      <td>-0.433099</td>\n",
              "      <td>-0.566794</td>\n",
              "      <td>-0.514645</td>\n",
              "      <td>-0.433099</td>\n",
              "      <td>-0.514645</td>\n",
              "      <td>-0.433099</td>\n",
              "      <td>0</td>\n",
              "    </tr>\n",
              "    <tr>\n",
              "      <th>1</th>\n",
              "      <td>England</td>\n",
              "      <td>Uruguay</td>\n",
              "      <td>1.49856</td>\n",
              "      <td>1.34838</td>\n",
              "      <td>1.69204</td>\n",
              "      <td>2.05055</td>\n",
              "      <td>0.824711</td>\n",
              "      <td>0.94215</td>\n",
              "      <td>0.624005</td>\n",
              "      <td>1.18979</td>\n",
              "      <td>0.548479</td>\n",
              "      <td>0.709816</td>\n",
              "      <td>0.699389</td>\n",
              "      <td>1.43789</td>\n",
              "      <td>1.27688</td>\n",
              "      <td>1.30609</td>\n",
              "      <td>0.699389</td>\n",
              "      <td>1.43789</td>\n",
              "      <td>1.43789</td>\n",
              "      <td>1.30609</td>\n",
              "      <td>0.699389</td>\n",
              "      <td>1.43789</td>\n",
              "      <td>0.699389</td>\n",
              "      <td>1.43789</td>\n",
              "      <td>2</td>\n",
              "    </tr>\n",
              "    <tr>\n",
              "      <th>2</th>\n",
              "      <td>England</td>\n",
              "      <td>France</td>\n",
              "      <td>1.49856</td>\n",
              "      <td>1.34838</td>\n",
              "      <td>1.69204</td>\n",
              "      <td>2.05055</td>\n",
              "      <td>0.824711</td>\n",
              "      <td>2.08769</td>\n",
              "      <td>1.50088</td>\n",
              "      <td>1.88521</td>\n",
              "      <td>1.56912</td>\n",
              "      <td>1.34174</td>\n",
              "      <td>-1.14805</td>\n",
              "      <td>-0.155916</td>\n",
              "      <td>-1.02151</td>\n",
              "      <td>0.221789</td>\n",
              "      <td>-1.14805</td>\n",
              "      <td>-0.155916</td>\n",
              "      <td>-0.155916</td>\n",
              "      <td>0.221789</td>\n",
              "      <td>-1.14805</td>\n",
              "      <td>-0.155916</td>\n",
              "      <td>-1.14805</td>\n",
              "      <td>-0.155916</td>\n",
              "      <td>0</td>\n",
              "    </tr>\n",
              "    <tr>\n",
              "      <th>3</th>\n",
              "      <td>England</td>\n",
              "      <td>Germany</td>\n",
              "      <td>1.49856</td>\n",
              "      <td>1.34838</td>\n",
              "      <td>1.69204</td>\n",
              "      <td>2.05055</td>\n",
              "      <td>0.824711</td>\n",
              "      <td>0.778501</td>\n",
              "      <td>1.88213</td>\n",
              "      <td>1.49886</td>\n",
              "      <td>0.625508</td>\n",
              "      <td>2.03111</td>\n",
              "      <td>0.96331</td>\n",
              "      <td>-0.848875</td>\n",
              "      <td>0.255377</td>\n",
              "      <td>-0.961085</td>\n",
              "      <td>0.96331</td>\n",
              "      <td>-0.848875</td>\n",
              "      <td>-0.848875</td>\n",
              "      <td>-0.961085</td>\n",
              "      <td>0.96331</td>\n",
              "      <td>-0.848875</td>\n",
              "      <td>0.96331</td>\n",
              "      <td>-0.848875</td>\n",
              "      <td>1</td>\n",
              "    </tr>\n",
              "  </tbody>\n",
              "</table>\n",
              "</div>"
            ],
            "text/plain": [
              "    Team A   Team B Attack A  ...    GK_ATK    GK_MDF Predicted Winner\n",
              "0  England   Brazil  1.49856  ... -0.514645 -0.433099                0\n",
              "1  England  Uruguay  1.49856  ...  0.699389   1.43789                2\n",
              "2  England   France  1.49856  ...  -1.14805 -0.155916                0\n",
              "3  England  Germany  1.49856  ...   0.96331 -0.848875                1\n",
              "\n",
              "[4 rows x 25 columns]"
            ]
          },
          "metadata": {
            "tags": []
          },
          "execution_count": 1181
        }
      ]
    },
    {
      "cell_type": "code",
      "metadata": {
        "id": "fQKNciUHbPdr"
      },
      "source": [
        "Predicted_Winner=[]\n",
        "for i in range(df22_b.shape[0]):\n",
        "  row=df22_b.iloc[i]\n",
        "  if (row['Predicted Winner']==2):\n",
        "    Predicted_Winner.append(row['Team A'])\n",
        "  elif (row['Predicted Winner']==0):\n",
        "    Predicted_Winner.append(row['Team B'])\n",
        "  else:\n",
        "    Predicted_Winner.append('Draw')\n",
        "\n",
        "df22_b['Predicted Winner']=Predicted_Winner"
      ],
      "execution_count": null,
      "outputs": []
    },
    {
      "cell_type": "code",
      "metadata": {
        "colab": {
          "base_uri": "https://localhost:8080/",
          "height": 175
        },
        "id": "dOxgSMswiDC6",
        "outputId": "d7023c5e-93d0-444d-be64-6d799f0b8fab"
      },
      "source": [
        "df22_b[['Team A','Team B','Predicted Winner']]"
      ],
      "execution_count": null,
      "outputs": [
        {
          "output_type": "execute_result",
          "data": {
            "text/html": [
              "<div>\n",
              "<style scoped>\n",
              "    .dataframe tbody tr th:only-of-type {\n",
              "        vertical-align: middle;\n",
              "    }\n",
              "\n",
              "    .dataframe tbody tr th {\n",
              "        vertical-align: top;\n",
              "    }\n",
              "\n",
              "    .dataframe thead th {\n",
              "        text-align: right;\n",
              "    }\n",
              "</style>\n",
              "<table border=\"1\" class=\"dataframe\">\n",
              "  <thead>\n",
              "    <tr style=\"text-align: right;\">\n",
              "      <th></th>\n",
              "      <th>Team A</th>\n",
              "      <th>Team B</th>\n",
              "      <th>Predicted Winner</th>\n",
              "    </tr>\n",
              "  </thead>\n",
              "  <tbody>\n",
              "    <tr>\n",
              "      <th>0</th>\n",
              "      <td>England</td>\n",
              "      <td>Brazil</td>\n",
              "      <td>Brazil</td>\n",
              "    </tr>\n",
              "    <tr>\n",
              "      <th>1</th>\n",
              "      <td>England</td>\n",
              "      <td>Uruguay</td>\n",
              "      <td>England</td>\n",
              "    </tr>\n",
              "    <tr>\n",
              "      <th>2</th>\n",
              "      <td>England</td>\n",
              "      <td>France</td>\n",
              "      <td>France</td>\n",
              "    </tr>\n",
              "    <tr>\n",
              "      <th>3</th>\n",
              "      <td>England</td>\n",
              "      <td>Germany</td>\n",
              "      <td>Draw</td>\n",
              "    </tr>\n",
              "  </tbody>\n",
              "</table>\n",
              "</div>"
            ],
            "text/plain": [
              "    Team A   Team B Predicted Winner\n",
              "0  England   Brazil           Brazil\n",
              "1  England  Uruguay          England\n",
              "2  England   France           France\n",
              "3  England  Germany             Draw"
            ]
          },
          "metadata": {
            "tags": []
          },
          "execution_count": 1183
        }
      ]
    },
    {
      "cell_type": "markdown",
      "metadata": {
        "id": "CtW9IYAmKtw3"
      },
      "source": [
        "##### **Prediction**"
      ]
    },
    {
      "cell_type": "markdown",
      "metadata": {
        "id": "jzFx4k0jjAM_"
      },
      "source": [
        "The model predicts that England will win againt Uruguay, draw against Germany and lose to Brazil and France."
      ]
    }
  ]
}