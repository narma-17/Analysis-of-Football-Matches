{
  "nbformat": 4,
  "nbformat_minor": 0,
  "metadata": {
    "colab": {
      "name": "Analysis of International Football Matches.ipynb",
      "provenance": [],
      "collapsed_sections": [],
      "authorship_tag": "ABX9TyMteNicWaW8JGASq5I21vzC",
      "include_colab_link": true
    },
    "kernelspec": {
      "name": "python3",
      "display_name": "Python 3"
    },
    "language_info": {
      "name": "python"
    }
  },
  "cells": [
    {
      "cell_type": "markdown",
      "metadata": {
        "id": "view-in-github",
        "colab_type": "text"
      },
      "source": [
        "<a href=\"https://colab.research.google.com/github/narma-17/International-football-results-from-1872-to-2021/blob/main/Analysis_of_International_Football_Matches.ipynb\" target=\"_parent\"><img src=\"https://colab.research.google.com/assets/colab-badge.svg\" alt=\"Open In Colab\"/></a>"
      ]
    },
    {
      "cell_type": "markdown",
      "metadata": {
        "id": "eDTX7FBK7rhN"
      },
      "source": [
        "## Analysis of International football results from 1872 to 2021"
      ]
    },
    {
      "cell_type": "markdown",
      "metadata": {
        "id": "MFXfyyciRKdW"
      },
      "source": [
        "This notebook answers two questions based on the data of FIFA approved mens football matches from the year 1872 - 2021. The data set can be obtained from https://www.kaggle.com/martj42/international-football-results-from-1872-to-2017 .\n",
        "The two questions answered are;\n",
        "1. What is the impact hosting a major tournament has on a country's chances of winning the most number of matches within the said tournament? \n",
        "2. What is the most successful(number of matches played against number of wins) team of all time and is there a specific period(era) that was dominated by teams?\n",
        "\n"
      ]
    },
    {
      "cell_type": "code",
      "metadata": {
        "colab": {
          "base_uri": "https://localhost:8080/"
        },
        "id": "welV8ET443cl",
        "outputId": "9a9b1b07-a839-4106-e0e9-d9ee72549d20"
      },
      "source": [
        "from google.colab import drive\n",
        "drive.mount ('/content/drive')"
      ],
      "execution_count": null,
      "outputs": [
        {
          "output_type": "stream",
          "text": [
            "Drive already mounted at /content/drive; to attempt to forcibly remount, call drive.mount(\"/content/drive\", force_remount=True).\n"
          ],
          "name": "stdout"
        }
      ]
    },
    {
      "cell_type": "code",
      "metadata": {
        "id": "rM0ZVqm24_VL",
        "colab": {
          "base_uri": "https://localhost:8080/"
        },
        "outputId": "ba19f210-e3d7-4cdb-ba1f-a720eb3447e4"
      },
      "source": [
        "!ln -s /content/drive/My\\ Drive/UoM\\ Working\\ Folders/Football/ /wd"
      ],
      "execution_count": null,
      "outputs": [
        {
          "output_type": "stream",
          "text": [
            "ln: failed to create symbolic link '/wd/Football': File exists\n"
          ],
          "name": "stdout"
        }
      ]
    },
    {
      "cell_type": "code",
      "metadata": {
        "colab": {
          "base_uri": "https://localhost:8080/"
        },
        "id": "Pqykvdvz53iA",
        "outputId": "b8c1c265-68d5-49b9-ba42-4c8cd2d835ac"
      },
      "source": [
        "!ls /wd/"
      ],
      "execution_count": null,
      "outputs": [
        {
          "output_type": "stream",
          "text": [
            "'ML Assignment'  'ML Assignment.ipynb'\t results.csv\n"
          ],
          "name": "stdout"
        }
      ]
    },
    {
      "cell_type": "code",
      "metadata": {
        "id": "QLvZbMsF6ZXj"
      },
      "source": [
        "import pandas as pd\n",
        "import numpy as np\n",
        "import re\n",
        "import matplotlib as mpl\n",
        "import matplotlib.pyplot as plt\n",
        "mpl.style.use('seaborn')\n",
        "% matplotlib inline\n",
        "import seaborn as sns"
      ],
      "execution_count": null,
      "outputs": []
    },
    {
      "cell_type": "code",
      "metadata": {
        "id": "W7z7lJzgG-dZ"
      },
      "source": [
        "# Set Matplotlib font sizes\n",
        "S = 12\n",
        "M = 15\n",
        "L = 18\n",
        "XL=21\n",
        "\n",
        "plt.rc('font', size=S)          \n",
        "plt.rc('axes', titlesize=L)     \n",
        "plt.rc('axes', labelsize=M)    \n",
        "plt.rc('xtick', labelsize=S)    \n",
        "plt.rc('ytick', labelsize=S)    \n",
        "plt.rc('legend', fontsize=S)    \n",
        "plt.rc('figure', titlesize=XL)  "
      ],
      "execution_count": null,
      "outputs": []
    },
    {
      "cell_type": "code",
      "metadata": {
        "id": "C2ur8kfc6EoR"
      },
      "source": [
        "df_og=pd.read_csv('/wd/results.csv')"
      ],
      "execution_count": null,
      "outputs": []
    },
    {
      "cell_type": "code",
      "metadata": {
        "colab": {
          "base_uri": "https://localhost:8080/",
          "height": 363
        },
        "id": "Hit301RU6X5X",
        "outputId": "a07f50a5-8c05-4dca-b141-58819b7350d6"
      },
      "source": [
        "df_og.sample(10)"
      ],
      "execution_count": null,
      "outputs": [
        {
          "output_type": "execute_result",
          "data": {
            "text/html": [
              "<div>\n",
              "<style scoped>\n",
              "    .dataframe tbody tr th:only-of-type {\n",
              "        vertical-align: middle;\n",
              "    }\n",
              "\n",
              "    .dataframe tbody tr th {\n",
              "        vertical-align: top;\n",
              "    }\n",
              "\n",
              "    .dataframe thead th {\n",
              "        text-align: right;\n",
              "    }\n",
              "</style>\n",
              "<table border=\"1\" class=\"dataframe\">\n",
              "  <thead>\n",
              "    <tr style=\"text-align: right;\">\n",
              "      <th></th>\n",
              "      <th>date</th>\n",
              "      <th>home_team</th>\n",
              "      <th>away_team</th>\n",
              "      <th>home_score</th>\n",
              "      <th>away_score</th>\n",
              "      <th>tournament</th>\n",
              "      <th>city</th>\n",
              "      <th>country</th>\n",
              "      <th>neutral</th>\n",
              "    </tr>\n",
              "  </thead>\n",
              "  <tbody>\n",
              "    <tr>\n",
              "      <th>12544</th>\n",
              "      <td>1983-04-16</td>\n",
              "      <td>Czechoslovakia</td>\n",
              "      <td>Cyprus</td>\n",
              "      <td>6</td>\n",
              "      <td>0</td>\n",
              "      <td>UEFA Euro qualification</td>\n",
              "      <td>Prague</td>\n",
              "      <td>Czechoslovakia</td>\n",
              "      <td>False</td>\n",
              "    </tr>\n",
              "    <tr>\n",
              "      <th>7968</th>\n",
              "      <td>1971-10-30</td>\n",
              "      <td>Malaysia</td>\n",
              "      <td>Singapore</td>\n",
              "      <td>1</td>\n",
              "      <td>1</td>\n",
              "      <td>Vietnam Independence Cup</td>\n",
              "      <td>Saigon</td>\n",
              "      <td>Vietnam Republic</td>\n",
              "      <td>True</td>\n",
              "    </tr>\n",
              "    <tr>\n",
              "      <th>14193</th>\n",
              "      <td>1986-05-11</td>\n",
              "      <td>Italy</td>\n",
              "      <td>China PR</td>\n",
              "      <td>2</td>\n",
              "      <td>0</td>\n",
              "      <td>Friendly</td>\n",
              "      <td>Naples</td>\n",
              "      <td>Italy</td>\n",
              "      <td>False</td>\n",
              "    </tr>\n",
              "    <tr>\n",
              "      <th>7</th>\n",
              "      <td>1877-03-05</td>\n",
              "      <td>Wales</td>\n",
              "      <td>Scotland</td>\n",
              "      <td>0</td>\n",
              "      <td>2</td>\n",
              "      <td>Friendly</td>\n",
              "      <td>Wrexham</td>\n",
              "      <td>Wales</td>\n",
              "      <td>False</td>\n",
              "    </tr>\n",
              "    <tr>\n",
              "      <th>22543</th>\n",
              "      <td>2000-02-06</td>\n",
              "      <td>Cayman Islands</td>\n",
              "      <td>Jamaica</td>\n",
              "      <td>0</td>\n",
              "      <td>0</td>\n",
              "      <td>Friendly</td>\n",
              "      <td>George Town</td>\n",
              "      <td>Cayman Islands</td>\n",
              "      <td>False</td>\n",
              "    </tr>\n",
              "    <tr>\n",
              "      <th>14966</th>\n",
              "      <td>1988-05-28</td>\n",
              "      <td>Canada</td>\n",
              "      <td>Greece</td>\n",
              "      <td>0</td>\n",
              "      <td>0</td>\n",
              "      <td>Friendly</td>\n",
              "      <td>Toronto</td>\n",
              "      <td>Canada</td>\n",
              "      <td>False</td>\n",
              "    </tr>\n",
              "    <tr>\n",
              "      <th>729</th>\n",
              "      <td>1923-06-10</td>\n",
              "      <td>Sweden</td>\n",
              "      <td>Austria</td>\n",
              "      <td>4</td>\n",
              "      <td>2</td>\n",
              "      <td>Friendly</td>\n",
              "      <td>Gothenburg</td>\n",
              "      <td>Sweden</td>\n",
              "      <td>False</td>\n",
              "    </tr>\n",
              "    <tr>\n",
              "      <th>33736</th>\n",
              "      <td>2011-11-15</td>\n",
              "      <td>Poland</td>\n",
              "      <td>Hungary</td>\n",
              "      <td>2</td>\n",
              "      <td>1</td>\n",
              "      <td>Friendly</td>\n",
              "      <td>Poznań</td>\n",
              "      <td>Poland</td>\n",
              "      <td>False</td>\n",
              "    </tr>\n",
              "    <tr>\n",
              "      <th>33114</th>\n",
              "      <td>2011-06-19</td>\n",
              "      <td>Panama</td>\n",
              "      <td>El Salvador</td>\n",
              "      <td>1</td>\n",
              "      <td>1</td>\n",
              "      <td>Gold Cup</td>\n",
              "      <td>Washington</td>\n",
              "      <td>United States</td>\n",
              "      <td>True</td>\n",
              "    </tr>\n",
              "    <tr>\n",
              "      <th>28253</th>\n",
              "      <td>2006-04-08</td>\n",
              "      <td>Sri Lanka</td>\n",
              "      <td>Chinese Taipei</td>\n",
              "      <td>3</td>\n",
              "      <td>0</td>\n",
              "      <td>AFC Challenge Cup</td>\n",
              "      <td>Chittagong</td>\n",
              "      <td>Bangladesh</td>\n",
              "      <td>True</td>\n",
              "    </tr>\n",
              "  </tbody>\n",
              "</table>\n",
              "</div>"
            ],
            "text/plain": [
              "             date       home_team  ...           country  neutral\n",
              "12544  1983-04-16  Czechoslovakia  ...    Czechoslovakia    False\n",
              "7968   1971-10-30        Malaysia  ...  Vietnam Republic     True\n",
              "14193  1986-05-11           Italy  ...             Italy    False\n",
              "7      1877-03-05           Wales  ...             Wales    False\n",
              "22543  2000-02-06  Cayman Islands  ...    Cayman Islands    False\n",
              "14966  1988-05-28          Canada  ...            Canada    False\n",
              "729    1923-06-10          Sweden  ...            Sweden    False\n",
              "33736  2011-11-15          Poland  ...            Poland    False\n",
              "33114  2011-06-19          Panama  ...     United States     True\n",
              "28253  2006-04-08       Sri Lanka  ...        Bangladesh     True\n",
              "\n",
              "[10 rows x 9 columns]"
            ]
          },
          "metadata": {
            "tags": []
          },
          "execution_count": 161
        }
      ]
    },
    {
      "cell_type": "code",
      "metadata": {
        "colab": {
          "base_uri": "https://localhost:8080/"
        },
        "id": "T0J2liST-IXP",
        "outputId": "f0c6a531-b072-414b-dbe1-339387ed1218"
      },
      "source": [
        "df_og.dtypes"
      ],
      "execution_count": null,
      "outputs": [
        {
          "output_type": "execute_result",
          "data": {
            "text/plain": [
              "date          object\n",
              "home_team     object\n",
              "away_team     object\n",
              "home_score     int64\n",
              "away_score     int64\n",
              "tournament    object\n",
              "city          object\n",
              "country       object\n",
              "neutral         bool\n",
              "dtype: object"
            ]
          },
          "metadata": {
            "tags": []
          },
          "execution_count": 162
        }
      ]
    },
    {
      "cell_type": "code",
      "metadata": {
        "id": "1txjSuDkEUzB"
      },
      "source": [
        "df_og['date']=pd.to_datetime(df_og['date'])"
      ],
      "execution_count": null,
      "outputs": []
    },
    {
      "cell_type": "code",
      "metadata": {
        "colab": {
          "base_uri": "https://localhost:8080/"
        },
        "id": "rlXzqvPd9yNH",
        "outputId": "40941e88-0f7e-4193-e5fc-75eb45bec18e"
      },
      "source": [
        "for column in df_og.columns:\n",
        "  if df_og[column].dtype == object:\n",
        "    print(column,'has',len(df_og[column].unique()),'unique values')"
      ],
      "execution_count": null,
      "outputs": [
        {
          "output_type": "stream",
          "text": [
            "home_team has 308 unique values\n",
            "away_team has 305 unique values\n",
            "tournament has 112 unique values\n",
            "city has 2038 unique values\n",
            "country has 266 unique values\n"
          ],
          "name": "stdout"
        }
      ]
    },
    {
      "cell_type": "markdown",
      "metadata": {
        "id": "eGbBUfHXEcke"
      },
      "source": [
        "## Question 1: Impact of Hosting a Tournament on the Number of Wins"
      ]
    },
    {
      "cell_type": "code",
      "metadata": {
        "id": "chRgGlmZeSZL"
      },
      "source": [
        "df1=df_og"
      ],
      "execution_count": null,
      "outputs": []
    },
    {
      "cell_type": "code",
      "metadata": {
        "colab": {
          "base_uri": "https://localhost:8080/"
        },
        "id": "9k7vOAgLeVOS",
        "outputId": "3f9b4d72-eaf2-4794-d083-4f40e9653e21"
      },
      "source": [
        "df1['tournament'].unique()"
      ],
      "execution_count": null,
      "outputs": [
        {
          "output_type": "execute_result",
          "data": {
            "text/plain": [
              "array(['Friendly', 'British Championship', 'Copa Lipton', 'Copa Newton',\n",
              "       'Copa Premio Honor Argentino', 'Copa Premio Honor Uruguayo',\n",
              "       'Copa Roca', 'Copa América', 'Copa Chevallier Boutell',\n",
              "       'Nordic Championship', 'International Cup', 'Baltic Cup',\n",
              "       'Balkan Cup', 'FIFA World Cup', 'Copa Rio Branco',\n",
              "       'FIFA World Cup qualification', 'CCCF Championship',\n",
              "       'NAFU Championship', 'Copa Oswaldo Cruz',\n",
              "       'Pan American Championship', 'Copa del Pacífico',\n",
              "       \"Copa Bernardo O'Higgins\", 'AFC Asian Cup qualification',\n",
              "       'Atlantic Cup', 'AFC Asian Cup', 'African Cup of Nations',\n",
              "       'Copa Paz del Chaco', 'Merdeka Tournament',\n",
              "       'UEFA Euro qualification', 'UEFA Euro',\n",
              "       'Windward Islands Tournament',\n",
              "       'African Cup of Nations qualification', 'Vietnam Independence Cup',\n",
              "       'Copa Carlos Dittborn', 'CONCACAF Championship',\n",
              "       'Copa Juan Pinto Durán', 'UAFA Cup', 'South Pacific Games',\n",
              "       'CONCACAF Championship qualification', 'Copa Artigas', 'GaNEFo',\n",
              "       \"King's Cup\", 'Gulf Cup', 'Indonesia Tournament', 'Korea Cup',\n",
              "       'Brazil Independence Cup', 'Copa Ramón Castilla',\n",
              "       'Oceania Nations Cup', 'CECAFA Cup', 'Copa Félix Bogado',\n",
              "       'Kirin Cup', 'CFU Caribbean Cup qualification',\n",
              "       'CFU Caribbean Cup', 'Amílcar Cabral Cup', 'Mundialito',\n",
              "       'West African Cup', 'Nehru Cup', 'Merlion Cup', 'UDEAC Cup',\n",
              "       'Rous Cup', 'Lunar New Year Cup', 'Tournoi de France',\n",
              "       'Malta International Tournament', 'Island Games', 'Dynasty Cup',\n",
              "       'UNCAF Cup', 'Gold Cup', 'USA Cup',\n",
              "       'Jordan International Tournament', 'Confederations Cup',\n",
              "       'United Arab Emirates Friendship Tournament',\n",
              "       'Oceania Nations Cup qualification', 'Simba Tournament',\n",
              "       'SAFF Cup', 'AFF Championship', 'King Hassan II Tournament',\n",
              "       'Cyprus International Tournament', 'Dunhill Cup', 'COSAFA Cup',\n",
              "       'Gold Cup qualification', 'SKN Football Festival', 'UNIFFAC Cup',\n",
              "       'WAFF Championship', 'Millennium Cup', \"Prime Minister's Cup\",\n",
              "       'EAFF Championship', 'AFC Challenge Cup', 'FIFI Wild Cup',\n",
              "       'ELF Cup', 'Viva World Cup', 'UAFA Cup qualification',\n",
              "       'AFC Challenge Cup qualification', 'African Nations Championship',\n",
              "       'VFF Cup', 'Dragon Cup', 'ABCS Tournament',\n",
              "       'Nile Basin Tournament', 'Nations Cup', 'Pacific Games', 'OSN Cup',\n",
              "       'CONIFA World Football Cup', 'CONIFA European Football Cup',\n",
              "       'Copa América qualification', 'World Unity Cup',\n",
              "       'Intercontinental Cup', 'AFF Championship qualification',\n",
              "       'UEFA Nations League', 'CONCACAF Nations League qualification',\n",
              "       'African Nations Championship qualification',\n",
              "       'Atlantic Heritage Cup', 'Inter Games Football Tournament',\n",
              "       'CONCACAF Nations League'], dtype=object)"
            ]
          },
          "metadata": {
            "tags": []
          },
          "execution_count": 166
        }
      ]
    },
    {
      "cell_type": "markdown",
      "metadata": {
        "id": "yi_oyuUOelFP"
      },
      "source": [
        "**Major Tournaments**\n",
        "\n",
        "NYU Stern Library defines major tournaments as including world cups, regional championships for national teams and regional championships for club teams.Thus the tournaments that will be considered are;\n",
        "- FIFA World Cup\n",
        "- AFC Asian Cup\n",
        "- CAF African Cup of Nations\n",
        "- CONCACAF Gold Cup\n",
        "- CONMEBOL Copa America\n",
        "- UEFA European Championship\n",
        "- CONCACAF Champions League\n",
        "- AFC Champions League\n",
        "- CAF Champions League\n",
        "- CONMEBOL Copa Libertadores\n",
        "- UEFA Champions League\n",
        "- OFC Champions League\n",
        "\n"
      ]
    },
    {
      "cell_type": "code",
      "metadata": {
        "id": "rrJkGxaQg5FS"
      },
      "source": [
        "major_tournaments=['FIFA World Cup','AFC Asian Cup', 'African Cup of Nations','CONCACAF Nations League','Copa América','UEFA Nations League'\n",
        "                    'CONCACAF Championship','UEFA Euro']"
      ],
      "execution_count": null,
      "outputs": []
    },
    {
      "cell_type": "code",
      "metadata": {
        "colab": {
          "base_uri": "https://localhost:8080/",
          "height": 206
        },
        "id": "xFKvyQNJoMKu",
        "outputId": "c0dcd2fa-b0f5-41ec-840a-991776b36716"
      },
      "source": [
        "df1_select=pd.DataFrame(columns=df1.columns)\n",
        "for tournament in major_tournaments:\n",
        "  temp_df=df1.loc[df1['tournament']==tournament]\n",
        "  df1_select=df1_select.append(temp_df,ignore_index=True)\n",
        "\n",
        "df1_select.sample(5)"
      ],
      "execution_count": null,
      "outputs": [
        {
          "output_type": "execute_result",
          "data": {
            "text/html": [
              "<div>\n",
              "<style scoped>\n",
              "    .dataframe tbody tr th:only-of-type {\n",
              "        vertical-align: middle;\n",
              "    }\n",
              "\n",
              "    .dataframe tbody tr th {\n",
              "        vertical-align: top;\n",
              "    }\n",
              "\n",
              "    .dataframe thead th {\n",
              "        text-align: right;\n",
              "    }\n",
              "</style>\n",
              "<table border=\"1\" class=\"dataframe\">\n",
              "  <thead>\n",
              "    <tr style=\"text-align: right;\">\n",
              "      <th></th>\n",
              "      <th>date</th>\n",
              "      <th>home_team</th>\n",
              "      <th>away_team</th>\n",
              "      <th>home_score</th>\n",
              "      <th>away_score</th>\n",
              "      <th>tournament</th>\n",
              "      <th>city</th>\n",
              "      <th>country</th>\n",
              "      <th>neutral</th>\n",
              "    </tr>\n",
              "  </thead>\n",
              "  <tbody>\n",
              "    <tr>\n",
              "      <th>2520</th>\n",
              "      <td>1987-06-28</td>\n",
              "      <td>Paraguay</td>\n",
              "      <td>Bolivia</td>\n",
              "      <td>0</td>\n",
              "      <td>0</td>\n",
              "      <td>Copa América</td>\n",
              "      <td>Rosario</td>\n",
              "      <td>Argentina</td>\n",
              "      <td>True</td>\n",
              "    </tr>\n",
              "    <tr>\n",
              "      <th>954</th>\n",
              "      <td>1980-09-17</td>\n",
              "      <td>Iran</td>\n",
              "      <td>Syria</td>\n",
              "      <td>0</td>\n",
              "      <td>0</td>\n",
              "      <td>AFC Asian Cup</td>\n",
              "      <td>Kuwait City</td>\n",
              "      <td>Kuwait</td>\n",
              "      <td>True</td>\n",
              "    </tr>\n",
              "    <tr>\n",
              "      <th>2852</th>\n",
              "      <td>2019-06-16</td>\n",
              "      <td>Paraguay</td>\n",
              "      <td>Qatar</td>\n",
              "      <td>2</td>\n",
              "      <td>2</td>\n",
              "      <td>Copa América</td>\n",
              "      <td>Rio de Janeiro</td>\n",
              "      <td>Brazil</td>\n",
              "      <td>True</td>\n",
              "    </tr>\n",
              "    <tr>\n",
              "      <th>1847</th>\n",
              "      <td>2015-01-18</td>\n",
              "      <td>Zambia</td>\n",
              "      <td>DR Congo</td>\n",
              "      <td>1</td>\n",
              "      <td>1</td>\n",
              "      <td>African Cup of Nations</td>\n",
              "      <td>Ebebiyín</td>\n",
              "      <td>Equatorial Guinea</td>\n",
              "      <td>True</td>\n",
              "    </tr>\n",
              "    <tr>\n",
              "      <th>929</th>\n",
              "      <td>1972-05-07</td>\n",
              "      <td>South Korea</td>\n",
              "      <td>Iraq</td>\n",
              "      <td>0</td>\n",
              "      <td>0</td>\n",
              "      <td>AFC Asian Cup</td>\n",
              "      <td>Bangkok</td>\n",
              "      <td>Thailand</td>\n",
              "      <td>True</td>\n",
              "    </tr>\n",
              "  </tbody>\n",
              "</table>\n",
              "</div>"
            ],
            "text/plain": [
              "           date    home_team  ...            country neutral\n",
              "2520 1987-06-28     Paraguay  ...          Argentina    True\n",
              "954  1980-09-17         Iran  ...             Kuwait    True\n",
              "2852 2019-06-16     Paraguay  ...             Brazil    True\n",
              "1847 2015-01-18       Zambia  ...  Equatorial Guinea    True\n",
              "929  1972-05-07  South Korea  ...           Thailand    True\n",
              "\n",
              "[5 rows x 9 columns]"
            ]
          },
          "metadata": {
            "tags": []
          },
          "execution_count": 168
        }
      ]
    },
    {
      "cell_type": "code",
      "metadata": {
        "id": "owq1KDkNvY7F"
      },
      "source": [
        "df1_select['year']=pd.DatetimeIndex(df1_select['date']).year\n",
        "df1_select['tournament_year']= df1_select['tournament']+' '+df1_select['year'].astype('str')"
      ],
      "execution_count": null,
      "outputs": []
    },
    {
      "cell_type": "code",
      "metadata": {
        "id": "blYrmzxz92VO",
        "colab": {
          "base_uri": "https://localhost:8080/"
        },
        "outputId": "f764ef1c-2e55-499d-a40e-2c182fc79b92"
      },
      "source": [
        "df1_select['winning_team']='ABC'\n",
        "for i in range(df1_select.shape[0]):\n",
        "  if df1_select['home_score'].iloc[i]>df1_select['away_score'].iloc[i]:\n",
        "    df1_select['winning_team'].iloc[i]=df1_select['home_team'].iloc[i]\n",
        "  elif df1_select['home_score'].iloc[i]<df1_select['away_score'].iloc[i]:\n",
        "    df1_select['winning_team'].iloc[i]=df1_select['away_team'].iloc[i]\n",
        "  else:\n",
        "    df1_select['winning_team'].iloc[i]='draw'\n"
      ],
      "execution_count": null,
      "outputs": [
        {
          "output_type": "stream",
          "text": [
            "/usr/local/lib/python3.7/dist-packages/pandas/core/indexing.py:670: SettingWithCopyWarning: \n",
            "A value is trying to be set on a copy of a slice from a DataFrame\n",
            "\n",
            "See the caveats in the documentation: https://pandas.pydata.org/pandas-docs/stable/user_guide/indexing.html#returning-a-view-versus-a-copy\n",
            "  iloc._setitem_with_indexer(indexer, value)\n"
          ],
          "name": "stderr"
        }
      ]
    },
    {
      "cell_type": "code",
      "metadata": {
        "id": "VFFI43jRoylp"
      },
      "source": [
        "tournament_year=df1_select['tournament_year'].unique()\n",
        "tournament_year=list(tournament_year)"
      ],
      "execution_count": null,
      "outputs": []
    },
    {
      "cell_type": "code",
      "metadata": {
        "id": "1N8D__tYxtsb"
      },
      "source": [
        "host_country=[]\n",
        "to_remove=[]\n",
        "for tournament in tournament_year:\n",
        "  host= df1_select.loc[df1_select['tournament_year']==tournament]['country'].unique()\n",
        "  if len(host)==1:\n",
        "    host_country.append(host[0])\n",
        "  else:\n",
        "    to_remove.append(tournament)\n",
        "\n",
        "for tournament in to_remove:\n",
        "    tournament_year.remove(tournament)\n",
        "\n"
      ],
      "execution_count": null,
      "outputs": []
    },
    {
      "cell_type": "code",
      "metadata": {
        "id": "FYxcR4Rm4mfp"
      },
      "source": [
        "host_match_count=[]\n",
        "to_remove=[]\n",
        "for i in range(len(tournament_year)):\n",
        "  grouped=df1_select[['home_team','home_score']].loc[df1_select['tournament_year']==tournament_year[i]].groupby('home_team',as_index=False).count()\n",
        "  if grouped.loc[grouped['home_team']==host_country[i]].shape[0]>0:\n",
        "    host_matches=grouped.loc[grouped['home_team']==host_country[i]]['home_score'].values[0]\n",
        "    host_match_count.append(host_matches)\n",
        "    #print('The host of',tournament_year[i]+','+host_country[i],'played',host_matches,'matches.')\n",
        "  else:\n",
        "    to_remove.append((tournament_year[i],host_country[i]))\n",
        "\n",
        "for tup in to_remove:\n",
        "    tournament_year.remove(tup[0])\n",
        "    host_country.remove(tup[1])"
      ],
      "execution_count": null,
      "outputs": []
    },
    {
      "cell_type": "code",
      "metadata": {
        "id": "wY5quvP55cUV"
      },
      "source": [
        "host_win_count=[]\n",
        "for i in range(len(tournament_year)):\n",
        "  grouped=df1_select[['winning_team','date']].loc[df1_select['tournament_year']==tournament_year[i]].groupby('winning_team',as_index=False).count()\n",
        "  grouped.columns=['winning_team','win_count']\n",
        "  if grouped.loc[grouped['winning_team']==host_country[i]].shape[0]!=0:\n",
        "    host_wins=grouped.loc[grouped['winning_team']==host_country[i]]['win_count'].values[0]\n",
        "    host_win_count.append(host_wins)\n",
        "    #print('The host of',tournament_year[i]+','+host_country[i],'won',host_wins,'matches.')\n",
        "  else:\n",
        "    host_win_count.append(0)\n",
        "    #print('The host of',tournament_year[i]+','+host_country[i],'won 0 matches.')\n"
      ],
      "execution_count": null,
      "outputs": []
    },
    {
      "cell_type": "code",
      "metadata": {
        "id": "PbFJPEjw5wbF"
      },
      "source": [
        "most_wins_country=[]\n",
        "most_wins_count=[]\n",
        "for i in range(len(tournament_year)):\n",
        "  grouped=df1_select[['winning_team','date']].loc[df1_select['tournament_year']==tournament_year[i]].groupby('winning_team',as_index=False).count()\n",
        "  grouped.columns=['winning_team','win_count']\n",
        "  grouped=grouped.sort_values(by='win_count',ascending=False)\n",
        "  if grouped.iloc[0]['winning_team']!='draw':\n",
        "    most_wins_country.append(grouped.iloc[0]['winning_team'])\n",
        "    most_wins_count.append(grouped.iloc[0]['win_count'])\n",
        "    #print(grouped.iloc[0]['winning_team'],'won most matches in',tournament_year[i],'winning',grouped.iloc[0]['win_count'],'matches')\n",
        "  else:\n",
        "    most_wins_country.append(grouped.iloc[1]['winning_team'])\n",
        "    most_wins_count.append(grouped.iloc[1]['win_count'])\n",
        "    #print(grouped.iloc[1]['winning_team'],'won most matches in',tournament_year[i],'winning',grouped.iloc[1]['win_count'],'matches')"
      ],
      "execution_count": null,
      "outputs": []
    },
    {
      "cell_type": "code",
      "metadata": {
        "id": "4VgLJnzF55-w"
      },
      "source": [
        "non_host_matches=[]\n",
        "for i in range(len(tournament_year)):\n",
        "  year=re.findall('[0-9]{4}',tournament_year[i])[0]\n",
        "  grouped=df1_select[(df1_select['year']>=int(year)-2) & (df1_select['year']<=int(year)+2)]\n",
        "  grouped=grouped[['home_team','away_team','date']].loc[grouped['country']!=host_country[i]]\n",
        "  if grouped.shape[0]==0:\n",
        "    non_host_matches.append(0)\n",
        "    #print(host_country[i],'had 0 non host matches in major tournament during the period from',int(year)-2,'to',int(year)+2)\n",
        "  else:\n",
        "    home_team_temp=grouped[['home_team','date']]\n",
        "    home_team_temp.columns=['team','date']\n",
        "    away_team_temp=grouped[['away_team','date']]\n",
        "    away_team_temp.columns=['team','date']\n",
        "    grouped=home_team_temp.append(away_team_temp)\n",
        "    grouped=grouped.groupby('team',as_index=False).count()\n",
        "    if grouped.loc[grouped['team']==host_country[i]].shape[0]==0:\n",
        "      non_host_matches.append(0)\n",
        "      #print(host_country[i],'had 0 non host matches in major tournament during the period from',int(year)-2,'to',int(year)+2)\n",
        "    else:\n",
        "      non_host_match_count=grouped.loc[grouped['team']==host_country[i]]['date'].values[0]\n",
        "      non_host_matches.append(non_host_match_count)\n",
        "      #print(host_country[i],'had',non_host_match_count,'non host matches in major tournament during the period from',int(year)-2,'to',int(year)+2)\n"
      ],
      "execution_count": null,
      "outputs": []
    },
    {
      "cell_type": "code",
      "metadata": {
        "id": "dkKvUR0W58rw"
      },
      "source": [
        "non_host_win_count=[]\n",
        "for i in range(len(tournament_year)):\n",
        "  year=re.findall('[0-9]{4}',tournament_year[i])[0]\n",
        "  #print(year)\n",
        "  grouped=df1_select[(df1_select['year']>=int(year)-2) & (df1_select['year']<=int(year)+2)]\n",
        "  grouped=grouped[['winning_team','date']].loc[grouped['country']!=host_country[i]].groupby('winning_team',as_index=False).count()\n",
        "  grouped.columns=['winning_team','win_count']\n",
        "  if grouped.loc[grouped['winning_team']==host_country[i]].shape[0]>0:\n",
        "    non_host_wins=grouped.loc[grouped['winning_team']==host_country[i]]['win_count'].values[0]\n",
        "    non_host_win_count.append(non_host_wins)\n",
        "    #print(host_country[i],'had',non_host_wins,'major tournament non-host wins during the period from',int(year)-2,'to',int(year)+2)\n",
        "  else:\n",
        "    non_host_win_count.append(0)\n",
        "    #print(host_country[i],'had 0 major tournament non-host wins during the period from',int(year)-2,'to',int(year)+2)\n"
      ],
      "execution_count": null,
      "outputs": []
    },
    {
      "cell_type": "code",
      "metadata": {
        "id": "q8vxHsLxyINt"
      },
      "source": [
        "host_mean_goals=[]\n",
        "for i in range(len(tournament_year)):\n",
        "  grouped=df1_select[['home_team','home_score']].loc[df1_select['tournament_year']==tournament_year[i]]\n",
        "  grouped['home_score']=grouped['home_score'].astype('int')\n",
        "  grouped=grouped.groupby('home_team',as_index=False).mean()\n",
        "  host_mean_goal=grouped.loc[grouped['home_team']==host_country[i]]['home_score'].values[0]\n",
        "  host_mean_goals.append(host_mean_goal)\n"
      ],
      "execution_count": null,
      "outputs": []
    },
    {
      "cell_type": "code",
      "metadata": {
        "id": "dPrxbGIl5o7b"
      },
      "source": [
        "non_host_mean_goals=[]\n",
        "for i in range(len(tournament_year)):\n",
        "  year=re.findall('[0-9]{4}',tournament_year[i])[0]\n",
        "  grouped=df1_select[(df1_select['year']>=int(year)-2) & (df1_select['year']<=int(year)+2)]\n",
        "  home_team_temp=grouped[['home_team','home_score']]\n",
        "  home_team_temp.columns=['team','score']\n",
        "  away_team_temp=grouped[['away_team','away_score']]\n",
        "  away_team_temp.columns=['team','score']\n",
        "  grouped=home_team_temp.append(away_team_temp)\n",
        "  grouped['score']=grouped['score'].astype('int')\n",
        "  grouped=grouped.groupby('team',as_index=False).mean()\n",
        "  if grouped.loc[grouped['team']==host_country[i]].shape[0]!=0:\n",
        "    non_host_mean=grouped.loc[grouped['team']==host_country[i]]['score'].values[0]\n",
        "    non_host_mean_goals.append(non_host_mean)\n",
        "  else:\n",
        "    non_host_mean_goals.append(np.nan)"
      ],
      "execution_count": null,
      "outputs": []
    },
    {
      "cell_type": "code",
      "metadata": {
        "id": "TxKa2QbZFdkW"
      },
      "source": [
        "data_dict={}\n",
        "data_dict['tournament_year']=tournament_year\n",
        "data_dict['host_country']=host_country\n",
        "data_dict['host_match_count']=host_match_count\n",
        "data_dict['host_win_count']=host_win_count\n",
        "data_dict['most_win_country']=most_wins_country\n",
        "data_dict['most_win_count']=most_wins_count\n",
        "data_dict['non_host_matches']=non_host_matches\n",
        "data_dict['non_host_win_count']=non_host_win_count\n",
        "data_dict['host_mean_goals']=host_mean_goals\n",
        "data_dict['non_host_mean_goals']=non_host_mean_goals"
      ],
      "execution_count": null,
      "outputs": []
    },
    {
      "cell_type": "code",
      "metadata": {
        "colab": {
          "base_uri": "https://localhost:8080/",
          "height": 313
        },
        "id": "nEsjMhEZ-wfp",
        "outputId": "e8063f3a-c4d1-4027-de91-2dfa341dd89d"
      },
      "source": [
        "df1_final=pd.DataFrame.from_dict(data_dict)\n",
        "df1_final.head()"
      ],
      "execution_count": null,
      "outputs": [
        {
          "output_type": "execute_result",
          "data": {
            "text/html": [
              "<div>\n",
              "<style scoped>\n",
              "    .dataframe tbody tr th:only-of-type {\n",
              "        vertical-align: middle;\n",
              "    }\n",
              "\n",
              "    .dataframe tbody tr th {\n",
              "        vertical-align: top;\n",
              "    }\n",
              "\n",
              "    .dataframe thead th {\n",
              "        text-align: right;\n",
              "    }\n",
              "</style>\n",
              "<table border=\"1\" class=\"dataframe\">\n",
              "  <thead>\n",
              "    <tr style=\"text-align: right;\">\n",
              "      <th></th>\n",
              "      <th>tournament_year</th>\n",
              "      <th>host_country</th>\n",
              "      <th>host_match_count</th>\n",
              "      <th>host_win_count</th>\n",
              "      <th>most_win_country</th>\n",
              "      <th>most_win_count</th>\n",
              "      <th>non_host_matches</th>\n",
              "      <th>non_host_win_count</th>\n",
              "      <th>host_mean_goals</th>\n",
              "      <th>non_host_mean_goals</th>\n",
              "    </tr>\n",
              "  </thead>\n",
              "  <tbody>\n",
              "    <tr>\n",
              "      <th>0</th>\n",
              "      <td>FIFA World Cup 1930</td>\n",
              "      <td>Uruguay</td>\n",
              "      <td>4</td>\n",
              "      <td>4</td>\n",
              "      <td>Argentina</td>\n",
              "      <td>4</td>\n",
              "      <td>3</td>\n",
              "      <td>1</td>\n",
              "      <td>3.750000</td>\n",
              "      <td>2.714286</td>\n",
              "    </tr>\n",
              "    <tr>\n",
              "      <th>1</th>\n",
              "      <td>FIFA World Cup 1934</td>\n",
              "      <td>Italy</td>\n",
              "      <td>5</td>\n",
              "      <td>4</td>\n",
              "      <td>Italy</td>\n",
              "      <td>4</td>\n",
              "      <td>0</td>\n",
              "      <td>0</td>\n",
              "      <td>2.400000</td>\n",
              "      <td>2.400000</td>\n",
              "    </tr>\n",
              "    <tr>\n",
              "      <th>2</th>\n",
              "      <td>FIFA World Cup 1938</td>\n",
              "      <td>France</td>\n",
              "      <td>2</td>\n",
              "      <td>1</td>\n",
              "      <td>Italy</td>\n",
              "      <td>4</td>\n",
              "      <td>0</td>\n",
              "      <td>0</td>\n",
              "      <td>2.000000</td>\n",
              "      <td>2.000000</td>\n",
              "    </tr>\n",
              "    <tr>\n",
              "      <th>3</th>\n",
              "      <td>FIFA World Cup 1950</td>\n",
              "      <td>Brazil</td>\n",
              "      <td>6</td>\n",
              "      <td>4</td>\n",
              "      <td>Brazil</td>\n",
              "      <td>4</td>\n",
              "      <td>0</td>\n",
              "      <td>0</td>\n",
              "      <td>3.666667</td>\n",
              "      <td>4.857143</td>\n",
              "    </tr>\n",
              "    <tr>\n",
              "      <th>4</th>\n",
              "      <td>FIFA World Cup 1954</td>\n",
              "      <td>Switzerland</td>\n",
              "      <td>4</td>\n",
              "      <td>2</td>\n",
              "      <td>Germany</td>\n",
              "      <td>5</td>\n",
              "      <td>0</td>\n",
              "      <td>0</td>\n",
              "      <td>2.750000</td>\n",
              "      <td>2.750000</td>\n",
              "    </tr>\n",
              "  </tbody>\n",
              "</table>\n",
              "</div>"
            ],
            "text/plain": [
              "       tournament_year host_country  ...  host_mean_goals  non_host_mean_goals\n",
              "0  FIFA World Cup 1930      Uruguay  ...         3.750000             2.714286\n",
              "1  FIFA World Cup 1934        Italy  ...         2.400000             2.400000\n",
              "2  FIFA World Cup 1938       France  ...         2.000000             2.000000\n",
              "3  FIFA World Cup 1950       Brazil  ...         3.666667             4.857143\n",
              "4  FIFA World Cup 1954  Switzerland  ...         2.750000             2.750000\n",
              "\n",
              "[5 rows x 10 columns]"
            ]
          },
          "metadata": {
            "tags": []
          },
          "execution_count": 181
        }
      ]
    },
    {
      "cell_type": "code",
      "metadata": {
        "colab": {
          "base_uri": "https://localhost:8080/",
          "height": 296
        },
        "id": "AxiJQHnyFqL7",
        "outputId": "95d4854b-89bb-4c14-b1b9-f4869903f652"
      },
      "source": [
        "df1_final['year']=df1_final['tournament_year'].str.findall(r'[0-9]{4}').apply(lambda x:int(x[0]))\n",
        "df1_final['tournament']=df1_final['tournament_year'].str.findall(r'\\D*').apply(lambda x:x[0].strip())\n",
        "df1_final.sample(5)"
      ],
      "execution_count": null,
      "outputs": [
        {
          "output_type": "execute_result",
          "data": {
            "text/html": [
              "<div>\n",
              "<style scoped>\n",
              "    .dataframe tbody tr th:only-of-type {\n",
              "        vertical-align: middle;\n",
              "    }\n",
              "\n",
              "    .dataframe tbody tr th {\n",
              "        vertical-align: top;\n",
              "    }\n",
              "\n",
              "    .dataframe thead th {\n",
              "        text-align: right;\n",
              "    }\n",
              "</style>\n",
              "<table border=\"1\" class=\"dataframe\">\n",
              "  <thead>\n",
              "    <tr style=\"text-align: right;\">\n",
              "      <th></th>\n",
              "      <th>tournament_year</th>\n",
              "      <th>host_country</th>\n",
              "      <th>host_match_count</th>\n",
              "      <th>host_win_count</th>\n",
              "      <th>most_win_country</th>\n",
              "      <th>most_win_count</th>\n",
              "      <th>non_host_matches</th>\n",
              "      <th>non_host_win_count</th>\n",
              "      <th>host_mean_goals</th>\n",
              "      <th>non_host_mean_goals</th>\n",
              "      <th>year</th>\n",
              "      <th>tournament</th>\n",
              "    </tr>\n",
              "  </thead>\n",
              "  <tbody>\n",
              "    <tr>\n",
              "      <th>85</th>\n",
              "      <td>Copa América 1947</td>\n",
              "      <td>Ecuador</td>\n",
              "      <td>7</td>\n",
              "      <td>0</td>\n",
              "      <td>Argentina</td>\n",
              "      <td>6</td>\n",
              "      <td>13</td>\n",
              "      <td>1</td>\n",
              "      <td>0.428571</td>\n",
              "      <td>0.950000</td>\n",
              "      <td>1947</td>\n",
              "      <td>Copa América</td>\n",
              "    </tr>\n",
              "    <tr>\n",
              "      <th>112</th>\n",
              "      <td>UEFA Euro 1980</td>\n",
              "      <td>Italy</td>\n",
              "      <td>4</td>\n",
              "      <td>1</td>\n",
              "      <td>Germany</td>\n",
              "      <td>3</td>\n",
              "      <td>14</td>\n",
              "      <td>8</td>\n",
              "      <td>0.500000</td>\n",
              "      <td>1.277778</td>\n",
              "      <td>1980</td>\n",
              "      <td>UEFA Euro</td>\n",
              "    </tr>\n",
              "    <tr>\n",
              "      <th>59</th>\n",
              "      <td>African Cup of Nations 2008</td>\n",
              "      <td>Ghana</td>\n",
              "      <td>6</td>\n",
              "      <td>5</td>\n",
              "      <td>Egypt</td>\n",
              "      <td>5</td>\n",
              "      <td>17</td>\n",
              "      <td>8</td>\n",
              "      <td>1.833333</td>\n",
              "      <td>1.130435</td>\n",
              "      <td>2008</td>\n",
              "      <td>African Cup of Nations</td>\n",
              "    </tr>\n",
              "    <tr>\n",
              "      <th>19</th>\n",
              "      <td>FIFA World Cup 2018</td>\n",
              "      <td>Russia</td>\n",
              "      <td>5</td>\n",
              "      <td>2</td>\n",
              "      <td>Belgium</td>\n",
              "      <td>6</td>\n",
              "      <td>3</td>\n",
              "      <td>0</td>\n",
              "      <td>2.200000</td>\n",
              "      <td>1.625000</td>\n",
              "      <td>2018</td>\n",
              "      <td>FIFA World Cup</td>\n",
              "    </tr>\n",
              "    <tr>\n",
              "      <th>62</th>\n",
              "      <td>African Cup of Nations 2015</td>\n",
              "      <td>Equatorial Guinea</td>\n",
              "      <td>6</td>\n",
              "      <td>2</td>\n",
              "      <td>Ghana</td>\n",
              "      <td>4</td>\n",
              "      <td>0</td>\n",
              "      <td>0</td>\n",
              "      <td>0.833333</td>\n",
              "      <td>0.833333</td>\n",
              "      <td>2015</td>\n",
              "      <td>African Cup of Nations</td>\n",
              "    </tr>\n",
              "  </tbody>\n",
              "</table>\n",
              "</div>"
            ],
            "text/plain": [
              "                 tournament_year  ...              tournament\n",
              "85             Copa América 1947  ...            Copa América\n",
              "112               UEFA Euro 1980  ...               UEFA Euro\n",
              "59   African Cup of Nations 2008  ...  African Cup of Nations\n",
              "19           FIFA World Cup 2018  ...          FIFA World Cup\n",
              "62   African Cup of Nations 2015  ...  African Cup of Nations\n",
              "\n",
              "[5 rows x 12 columns]"
            ]
          },
          "metadata": {
            "tags": []
          },
          "execution_count": 182
        }
      ]
    },
    {
      "cell_type": "markdown",
      "metadata": {
        "id": "VJ9UNP8kva0L"
      },
      "source": [
        "### **Percentage of major tournaments in which the host country is the country that scored the most goals**"
      ]
    },
    {
      "cell_type": "code",
      "metadata": {
        "colab": {
          "base_uri": "https://localhost:8080/"
        },
        "id": "UOQKhwmFt3D_",
        "outputId": "1835e0d2-6c7f-4777-9141-985f5cc872b4"
      },
      "source": [
        "perc_host_wins=df1_final.loc[df1_final['host_country']==df1_final['most_win_country']].shape[0]/df1_final.shape[0]*100\n",
        "\n",
        "print('The host has the highest number of wins in %d%% of the major tournaments' % perc_host_wins)"
      ],
      "execution_count": null,
      "outputs": [
        {
          "output_type": "stream",
          "text": [
            "The host has the highest number of wins in 39% of the major tournaments\n"
          ],
          "name": "stdout"
        }
      ]
    },
    {
      "cell_type": "markdown",
      "metadata": {
        "id": "7ZgmBHGGwbDI"
      },
      "source": [
        "### **Comparison of the mean goals scored by a country when it is the host vs. when it is not the host**"
      ]
    },
    {
      "cell_type": "code",
      "metadata": {
        "id": "nz8AlW7DxKl5"
      },
      "source": [
        "countries=df1_final['host_country'].unique()"
      ],
      "execution_count": null,
      "outputs": []
    },
    {
      "cell_type": "code",
      "metadata": {
        "id": "K1BMFnrjOBII"
      },
      "source": [
        "mean_goals_while_host=[]\n",
        "mean_goals_non_host=[]\n",
        "\n",
        "for country in countries:\n",
        "  df1_temp=df1_final.loc[df1_final['host_country']==country]\n",
        "  mean_goals_while_host.append(df1_temp['host_mean_goals'].mean())\n",
        "  mean_goals_non_host.append(df1_temp['non_host_mean_goals'].mean())\n"
      ],
      "execution_count": null,
      "outputs": []
    },
    {
      "cell_type": "code",
      "metadata": {
        "id": "_xSZ6V68OAMj"
      },
      "source": [
        "diff=[mean_goals_while_host[i]-mean_goals_non_host[i] for i in range(len(countries))]\n",
        "\n",
        "zipped=list(zip(countries,mean_goals_while_host,mean_goals_non_host,diff))\n",
        "zipped=sorted(zipped,key=lambda x: x[3],reverse=True)\n",
        "\n",
        "countries=[x[0] for x in zipped]\n",
        "mean_goals_while_host=[x[1] for x in zipped]\n",
        "mean_goals_non_host=[x[2] for x in zipped]"
      ],
      "execution_count": null,
      "outputs": []
    },
    {
      "cell_type": "code",
      "metadata": {
        "colab": {
          "base_uri": "https://localhost:8080/",
          "height": 150
        },
        "id": "_8VzKh_NK7eO",
        "outputId": "e146395d-c6dd-4a0e-c840-a0cb980c3077"
      },
      "source": [
        "plt.rcParams[\"figure.figsize\"] = (80,8)\n",
        "\n",
        "y_pos=np.arange(len(countries))\n",
        "plt.bar(y_pos-0.2,mean_goals_while_host,align='center',width=0.4,color=(0,0,0.4,0.625),label='Average goals when host')\n",
        "plt.bar(y_pos+0.2,mean_goals_non_host,align='center',width=0.4,color=(1,0.4,0,0.75),label='Average goals when not host')\n",
        "plt.xticks(y_pos, countries)\n",
        "plt.ylabel('Mean Goals Scored')\n",
        "plt.title('Mean Goals Scored As Host and Not As Host by Country')\n",
        "plt.legend(loc='upper left')\n",
        "plt.show()\n",
        "\n"
      ],
      "execution_count": null,
      "outputs": [
        {
          "output_type": "display_data",
          "data": {
            "image/png": "[encoded data removed]",
            "text/plain": [
              "<Figure size 5760x576 with 1 Axes>"
            ]
          },
          "metadata": {
            "tags": [],
            "needs_background": "light"
          }
        }
      ]
    },
    {
      "cell_type": "markdown",
      "metadata": {
        "id": "NCG3E5n12SbF"
      },
      "source": [
        "The above plot indicates that the presence of the host advantage varies accross countries. Some countries score more when they are the host compared to when they are not, while most countries score similar regardless of whether they are the host or not. "
      ]
    },
    {
      "cell_type": "markdown",
      "metadata": {
        "id": "B6FpLTXUSgA8"
      },
      "source": [
        "### **Difference in mean goals by continent**"
      ]
    },
    {
      "cell_type": "code",
      "metadata": {
        "colab": {
          "base_uri": "https://localhost:8080/"
        },
        "id": "hcMwM6YFt1RQ",
        "outputId": "0331d709-ed85-4b99-e8ec-34627f441abe"
      },
      "source": [
        "df1_final['host_country'].unique()"
      ],
      "execution_count": null,
      "outputs": [
        {
          "output_type": "execute_result",
          "data": {
            "text/plain": [
              "array(['Uruguay', 'Italy', 'France', 'Brazil', 'Switzerland', 'Sweden',\n",
              "       'Chile', 'England', 'Mexico', 'Germany', 'Argentina', 'Spain',\n",
              "       'United States', 'South Africa', 'Russia', 'Hong Kong',\n",
              "       'South Korea', 'Israel', 'Iran', 'Thailand', 'Kuwait', 'Singapore',\n",
              "       'Qatar', 'Japan', 'United Arab Emirates', 'Lebanon', 'China PR',\n",
              "       'Australia', 'Sudan', 'Ethiopia', 'Ghana', 'Tunisia', 'Cameroon',\n",
              "       'Egypt', 'Nigeria', 'Libya', 'Ivory Coast', 'Morocco', 'Algeria',\n",
              "       'Senegal', 'Burkina Faso', 'Mali', 'Angola', 'Equatorial Guinea',\n",
              "       'Gabon', 'Peru', 'Ecuador', 'Bolivia', 'Paraguay', 'Colombia',\n",
              "       'Venezuela', 'Belgium', 'Yugoslavia', 'Portugal'], dtype=object)"
            ]
          },
          "metadata": {
            "tags": []
          },
          "execution_count": 188
        }
      ]
    },
    {
      "cell_type": "code",
      "metadata": {
        "id": "svvMl_1ft_d4"
      },
      "source": [
        "Europe=['Italy', 'France','Switzerland', 'Sweden','England', 'Germany', 'Spain','Russia','Belgium', 'Yugoslavia', 'Portugal']\n",
        "South_America=['Uruguay','Brazil','Chile','Argentina','Peru', 'Ecuador', 'Bolivia', 'Paraguay', 'Colombia','Venezuela']\n",
        "North_America=['Mexico','United States']\n",
        "Africa=['South Africa','Sudan', 'Ethiopia', 'Ghana', 'Tunisia', 'Cameroon','Algeria','Egypt', 'Nigeria', 'Libya', 'Ivory Coast', \n",
        "        'Morocco','Senegal', 'Burkina Faso', 'Mali','Angola', 'Equatorial Guinea','Gabon']\n",
        "Asia=['Hong Kong','South Korea', 'Israel', 'Iran','Thailand', 'Kuwait', 'Singapore','Qatar', 'Japan', 'United Arab Emirates', 'Lebanon', 'China PR','Australia']"
      ],
      "execution_count": null,
      "outputs": []
    },
    {
      "cell_type": "code",
      "metadata": {
        "colab": {
          "base_uri": "https://localhost:8080/"
        },
        "id": "nd8Z6z6Rv1Ew",
        "outputId": "e186cc76-0f6d-4776-939f-e4b7d4b7e7ab"
      },
      "source": [
        "def get_continent(x):\n",
        "  if x in Europe:\n",
        "    return 'Europe'\n",
        "  elif x in South_America:\n",
        "    return 'South America'\n",
        "  elif x in North_America:\n",
        "    return 'North America'\n",
        "  elif x in Africa:\n",
        "    return 'Africa'\n",
        "  elif x in Asia:\n",
        "    return 'Asia'\n",
        "  else:\n",
        "    return 'something wrong'\n",
        "\n",
        "df1_final['continent']=df1_final['host_country'].apply(lambda x:get_continent(x))\n",
        "df1_final['continent'].unique()"
      ],
      "execution_count": null,
      "outputs": [
        {
          "output_type": "execute_result",
          "data": {
            "text/plain": [
              "array(['South America', 'Europe', 'North America', 'Africa', 'Asia'],\n",
              "      dtype=object)"
            ]
          },
          "metadata": {
            "tags": []
          },
          "execution_count": 190
        }
      ]
    },
    {
      "cell_type": "code",
      "metadata": {
        "id": "OcxvJO38Svyb"
      },
      "source": [
        "mean_goals_while_host=[]\n",
        "mean_goals_non_host=[]\n",
        "continents=df1_final['continent'].unique()\n",
        "\n",
        "for continent in continents:\n",
        "  df1_temp=df1_final.loc[df1_final['continent']==continent]\n",
        "  mean_goals_while_host.append(df1_temp['host_mean_goals'].mean())\n",
        "  mean_goals_non_host.append(df1_temp['non_host_mean_goals'].mean())"
      ],
      "execution_count": null,
      "outputs": []
    },
    {
      "cell_type": "code",
      "metadata": {
        "id": "oEg6g9rmTEI1"
      },
      "source": [
        "diff=[mean_goals_while_host[i]-mean_goals_non_host[i] for i in range(len(continents))]\n",
        "\n",
        "zipped=list(zip(continents,mean_goals_while_host,mean_goals_non_host,diff))\n",
        "zipped=sorted(zipped,key=lambda x: x[3],reverse=True)\n",
        "\n",
        "continents=[x[0] for x in zipped]\n",
        "mean_goals_while_host=[x[1] for x in zipped]\n",
        "mean_goals_non_host=[x[2] for x in zipped]"
      ],
      "execution_count": null,
      "outputs": []
    },
    {
      "cell_type": "code",
      "metadata": {
        "colab": {
          "base_uri": "https://localhost:8080/",
          "height": 449
        },
        "id": "KNeVe-UxTUKM",
        "outputId": "99e07908-3cea-4631-c9a7-a6ab4cb96d38"
      },
      "source": [
        "plt.rcParams[\"figure.figsize\"] = (20,7)\n",
        "\n",
        "y_pos=np.arange(len(continents))\n",
        "plt.bar(y_pos-0.2,mean_goals_while_host,align='center',width=0.4,color=(0,0.4,1,0.625),label='Average goals when host')\n",
        "plt.bar(y_pos+0.2,mean_goals_non_host,align='center',width=0.4,color=(0.439,0.188,0.64,0.625),label='Average goals when not host')\n",
        "plt.xticks(y_pos, continents)\n",
        "plt.ylabel('Mean Goals Scored')\n",
        "plt.title('Mean Goals Scored As Host and Not As Host by Continent')\n",
        "plt.legend(loc='upper right')\n",
        "plt.show()\n"
      ],
      "execution_count": null,
      "outputs": [
        {
          "output_type": "display_data",
          "data": {
            "image/png": "[encoded data removed]",
            "text/plain": [
              "<Figure size 1440x504 with 1 Axes>"
            ]
          },
          "metadata": {
            "tags": [],
            "needs_background": "light"
          }
        }
      ]
    },
    {
      "cell_type": "markdown",
      "metadata": {
        "id": "hlQw4SSI4K96"
      },
      "source": [
        "The results based on continents reflects the results based countries that on average the number of goals scored does not significantly differ based on whether the country is the host or not. However, in the case of Africa, Asia and South America, the average goals scored while the host is slightly higher than when the country is not the host. "
      ]
    },
    {
      "cell_type": "markdown",
      "metadata": {
        "id": "SRVasYH9-kE8"
      },
      "source": [
        "### **Percentage of years the tournament is won by the host by tournament type**"
      ]
    },
    {
      "cell_type": "code",
      "metadata": {
        "id": "sAAxiluA_Qwl"
      },
      "source": [
        "perc=[]\n",
        "major_tournaments =df1_final['tournament'].unique()\n",
        "\n",
        "for tournament in major_tournaments:\n",
        "  df1_temp=df1_final.loc[df1_final['tournament']==tournament]\n",
        "  perc_host_wins_by_tournament=df1_temp.loc[df1_temp['host_country']==df1_temp['most_win_country']].shape[0]/df1_temp.shape[0]*100\n",
        "  perc.append(perc_host_wins_by_tournament)\n",
        "\n",
        "zipped=list(zip(major_tournaments,perc))\n",
        "zipped=sorted(zipped,key=lambda x: x[1],reverse=True)\n",
        "\n"
      ],
      "execution_count": null,
      "outputs": []
    },
    {
      "cell_type": "code",
      "metadata": {
        "id": "YGgGPTUcE1UV"
      },
      "source": [
        "perc=[x[1] for x in zipped]\n",
        "major_tournaments=[x[0] for x in zipped]"
      ],
      "execution_count": null,
      "outputs": []
    },
    {
      "cell_type": "code",
      "metadata": {
        "colab": {
          "base_uri": "https://localhost:8080/",
          "height": 449
        },
        "id": "ZpMREgBzBXdO",
        "outputId": "5e8187e1-e84d-40d3-a64b-d1c6a8f0c9a1"
      },
      "source": [
        "plt.rcParams[\"figure.figsize\"] = (15,7)\n",
        "\n",
        "x_values=major_tournaments\n",
        "y_pos=np.arange(len(x_values))\n",
        "y_values=perc\n",
        "barlist=plt.bar(y_pos,y_values,align='center')\n",
        "barlist[0].set_color((0,0.2,0.4,0.75))\n",
        "barlist[1].set_color((0,0.4,0.4,0.75))\n",
        "barlist[2].set_color((0,0.5,0.5,0.75))\n",
        "barlist[3].set_color((0,0.6,0.6,0.75))\n",
        "barlist[4].set_color((0,0.8,0.6,0.75))\n",
        "plt.xticks(y_pos, x_values)\n",
        "plt.ylabel('Percentage of tournament won by the host')\n",
        "plt.title('Percentage of Tournament Won by the Host by Tournament')\n",
        "plt.show()"
      ],
      "execution_count": null,
      "outputs": [
        {
          "output_type": "display_data",
          "data": {
            "image/png": "[encoded data removed]",
            "text/plain": [
              "<Figure size 1080x504 with 1 Axes>"
            ]
          },
          "metadata": {
            "tags": [],
            "needs_background": "light"
          }
        }
      ]
    },
    {
      "cell_type": "markdown",
      "metadata": {
        "id": "4fMsK8kqJoEF"
      },
      "source": [
        "The AFC Asian cup favours the host with the host winning the most number of matches nearly 50% of the time. A simillar situation seems to be occuring in the Copa America tournament. The African Cup of Nations and the UEFA Euro seem to be more competitive, with the host winning the most number of matches less than 30% of the time."
      ]
    },
    {
      "cell_type": "markdown",
      "metadata": {
        "id": "TCK1N3F2cc1s"
      },
      "source": [
        "## Question 2: Most Successful Team"
      ]
    },
    {
      "cell_type": "code",
      "metadata": {
        "id": "2GyVDhQShiSy"
      },
      "source": [
        "df2=df_og"
      ],
      "execution_count": null,
      "outputs": []
    },
    {
      "cell_type": "code",
      "metadata": {
        "id": "Yt2a-0hVhz0b"
      },
      "source": [
        "home_team_df=df2[['home_team','date']]\n",
        "home_team_df.columns=['team','date']\n",
        "away_team_df=df2[['away_team','date']]\n",
        "away_team_df.columns=['team','date']\n",
        "match_data_df=pd.concat([home_team_df,away_team_df])\n",
        "match_count_df=match_data_df.groupby(['team'],as_index=False).count()"
      ],
      "execution_count": null,
      "outputs": []
    },
    {
      "cell_type": "code",
      "metadata": {
        "colab": {
          "base_uri": "https://localhost:8080/",
          "height": 206
        },
        "id": "9et7CnPoiYcw",
        "outputId": "6b30bba5-0fbc-462e-ad6e-65f6094c392c"
      },
      "source": [
        "match_count_df.columns=['country','no of matches']\n",
        "match_count_df.sample(5)"
      ],
      "execution_count": null,
      "outputs": [
        {
          "output_type": "execute_result",
          "data": {
            "text/html": [
              "<div>\n",
              "<style scoped>\n",
              "    .dataframe tbody tr th:only-of-type {\n",
              "        vertical-align: middle;\n",
              "    }\n",
              "\n",
              "    .dataframe tbody tr th {\n",
              "        vertical-align: top;\n",
              "    }\n",
              "\n",
              "    .dataframe thead th {\n",
              "        text-align: right;\n",
              "    }\n",
              "</style>\n",
              "<table border=\"1\" class=\"dataframe\">\n",
              "  <thead>\n",
              "    <tr style=\"text-align: right;\">\n",
              "      <th></th>\n",
              "      <th>country</th>\n",
              "      <th>no of matches</th>\n",
              "    </tr>\n",
              "  </thead>\n",
              "  <tbody>\n",
              "    <tr>\n",
              "      <th>305</th>\n",
              "      <td>Ynys Môn</td>\n",
              "      <td>61</td>\n",
              "    </tr>\n",
              "    <tr>\n",
              "      <th>244</th>\n",
              "      <td>Sierra Leone</td>\n",
              "      <td>256</td>\n",
              "    </tr>\n",
              "    <tr>\n",
              "      <th>112</th>\n",
              "      <td>Guadeloupe</td>\n",
              "      <td>236</td>\n",
              "    </tr>\n",
              "    <tr>\n",
              "      <th>67</th>\n",
              "      <td>Crimea</td>\n",
              "      <td>5</td>\n",
              "    </tr>\n",
              "    <tr>\n",
              "      <th>34</th>\n",
              "      <td>Bosnia and Herzegovina</td>\n",
              "      <td>230</td>\n",
              "    </tr>\n",
              "  </tbody>\n",
              "</table>\n",
              "</div>"
            ],
            "text/plain": [
              "                    country  no of matches\n",
              "305                Ynys Môn             61\n",
              "244            Sierra Leone            256\n",
              "112              Guadeloupe            236\n",
              "67                   Crimea              5\n",
              "34   Bosnia and Herzegovina            230"
            ]
          },
          "metadata": {
            "tags": []
          },
          "execution_count": 201
        }
      ]
    },
    {
      "cell_type": "code",
      "metadata": {
        "id": "ytnTfUCyF3jw"
      },
      "source": [
        "def who_wins(x):\n",
        "  if x>0:\n",
        "    x='home team'\n",
        "  elif x<0:\n",
        "    x='away team'\n",
        "  else:\n",
        "    x='draw'\n",
        "  return x\n",
        "\n",
        "df2['win']=df2['home_score']-df2['away_score']\n",
        "df2['win']=df2['win'].apply(lambda x:who_wins(x))"
      ],
      "execution_count": null,
      "outputs": []
    },
    {
      "cell_type": "code",
      "metadata": {
        "colab": {
          "base_uri": "https://localhost:8080/"
        },
        "id": "Jxej2InqHUjO",
        "outputId": "97169ded-d782-4db6-a7de-8c1d0785939d"
      },
      "source": [
        "df2['winning_country']='ABC'\n",
        "for i in range(df2.shape[0]):\n",
        "  if df2['win'].iloc[i]=='home team':\n",
        "    df2['winning_country'].iloc[i]=df2['home_team'].iloc[i]\n",
        "  elif df2['win'].iloc[i]=='away team':\n",
        "    df2['winning_country'].iloc[i]=df2['away_team'].iloc[i]\n",
        "  else: \n",
        "    df2['winning_country'].iloc[i]='draw'\n"
      ],
      "execution_count": null,
      "outputs": [
        {
          "output_type": "stream",
          "text": [
            "/usr/local/lib/python3.7/dist-packages/pandas/core/indexing.py:670: SettingWithCopyWarning: \n",
            "A value is trying to be set on a copy of a slice from a DataFrame\n",
            "\n",
            "See the caveats in the documentation: https://pandas.pydata.org/pandas-docs/stable/user_guide/indexing.html#returning-a-view-versus-a-copy\n",
            "  iloc._setitem_with_indexer(indexer, value)\n"
          ],
          "name": "stderr"
        }
      ]
    },
    {
      "cell_type": "code",
      "metadata": {
        "colab": {
          "base_uri": "https://localhost:8080/",
          "height": 206
        },
        "id": "esuiUbFUlstL",
        "outputId": "9c5b62d0-0e41-40c6-96a2-a1599126b1b3"
      },
      "source": [
        "df2.sample(5)"
      ],
      "execution_count": null,
      "outputs": [
        {
          "output_type": "execute_result",
          "data": {
            "text/html": [
              "<div>\n",
              "<style scoped>\n",
              "    .dataframe tbody tr th:only-of-type {\n",
              "        vertical-align: middle;\n",
              "    }\n",
              "\n",
              "    .dataframe tbody tr th {\n",
              "        vertical-align: top;\n",
              "    }\n",
              "\n",
              "    .dataframe thead th {\n",
              "        text-align: right;\n",
              "    }\n",
              "</style>\n",
              "<table border=\"1\" class=\"dataframe\">\n",
              "  <thead>\n",
              "    <tr style=\"text-align: right;\">\n",
              "      <th></th>\n",
              "      <th>date</th>\n",
              "      <th>home_team</th>\n",
              "      <th>away_team</th>\n",
              "      <th>home_score</th>\n",
              "      <th>away_score</th>\n",
              "      <th>tournament</th>\n",
              "      <th>city</th>\n",
              "      <th>country</th>\n",
              "      <th>neutral</th>\n",
              "      <th>win</th>\n",
              "      <th>winning_country</th>\n",
              "    </tr>\n",
              "  </thead>\n",
              "  <tbody>\n",
              "    <tr>\n",
              "      <th>37013</th>\n",
              "      <td>2015-06-13</td>\n",
              "      <td>South Africa</td>\n",
              "      <td>Gambia</td>\n",
              "      <td>0</td>\n",
              "      <td>0</td>\n",
              "      <td>African Cup of Nations qualification</td>\n",
              "      <td>Durban</td>\n",
              "      <td>South Africa</td>\n",
              "      <td>False</td>\n",
              "      <td>draw</td>\n",
              "      <td>draw</td>\n",
              "    </tr>\n",
              "    <tr>\n",
              "      <th>20453</th>\n",
              "      <td>1997-04-29</td>\n",
              "      <td>Chile</td>\n",
              "      <td>Venezuela</td>\n",
              "      <td>6</td>\n",
              "      <td>0</td>\n",
              "      <td>FIFA World Cup qualification</td>\n",
              "      <td>Santiago</td>\n",
              "      <td>Chile</td>\n",
              "      <td>False</td>\n",
              "      <td>home team</td>\n",
              "      <td>Chile</td>\n",
              "    </tr>\n",
              "    <tr>\n",
              "      <th>36398</th>\n",
              "      <td>2014-10-11</td>\n",
              "      <td>Malawi</td>\n",
              "      <td>Algeria</td>\n",
              "      <td>0</td>\n",
              "      <td>2</td>\n",
              "      <td>African Cup of Nations qualification</td>\n",
              "      <td>Blantyre</td>\n",
              "      <td>Malawi</td>\n",
              "      <td>False</td>\n",
              "      <td>away team</td>\n",
              "      <td>Algeria</td>\n",
              "    </tr>\n",
              "    <tr>\n",
              "      <th>7077</th>\n",
              "      <td>1969-04-16</td>\n",
              "      <td>Netherlands</td>\n",
              "      <td>Czechoslovakia</td>\n",
              "      <td>2</td>\n",
              "      <td>0</td>\n",
              "      <td>Friendly</td>\n",
              "      <td>Rotterdam</td>\n",
              "      <td>Netherlands</td>\n",
              "      <td>False</td>\n",
              "      <td>home team</td>\n",
              "      <td>Netherlands</td>\n",
              "    </tr>\n",
              "    <tr>\n",
              "      <th>26853</th>\n",
              "      <td>2004-08-18</td>\n",
              "      <td>Russia</td>\n",
              "      <td>Lithuania</td>\n",
              "      <td>4</td>\n",
              "      <td>3</td>\n",
              "      <td>Friendly</td>\n",
              "      <td>Moscow</td>\n",
              "      <td>Russia</td>\n",
              "      <td>False</td>\n",
              "      <td>home team</td>\n",
              "      <td>Russia</td>\n",
              "    </tr>\n",
              "  </tbody>\n",
              "</table>\n",
              "</div>"
            ],
            "text/plain": [
              "            date     home_team  ...        win  winning_country\n",
              "37013 2015-06-13  South Africa  ...       draw             draw\n",
              "20453 1997-04-29         Chile  ...  home team            Chile\n",
              "36398 2014-10-11        Malawi  ...  away team          Algeria\n",
              "7077  1969-04-16   Netherlands  ...  home team      Netherlands\n",
              "26853 2004-08-18        Russia  ...  home team           Russia\n",
              "\n",
              "[5 rows x 11 columns]"
            ]
          },
          "metadata": {
            "tags": []
          },
          "execution_count": 205
        }
      ]
    },
    {
      "cell_type": "code",
      "metadata": {
        "id": "hXuTPFuclt8U"
      },
      "source": [
        "win_count_df=df2[['winning_country','date']].groupby('winning_country',as_index=False).count()\n",
        "win_count_df.columns=['country','no of wins']"
      ],
      "execution_count": null,
      "outputs": []
    },
    {
      "cell_type": "code",
      "metadata": {
        "id": "CjoPWA6pphRi"
      },
      "source": [
        "win_count_df=pd.merge(match_count_df,win_count_df,on='country')"
      ],
      "execution_count": null,
      "outputs": []
    },
    {
      "cell_type": "code",
      "metadata": {
        "colab": {
          "base_uri": "https://localhost:8080/",
          "height": 206
        },
        "id": "kd8lXHXlzGu-",
        "outputId": "e4e38b35-ca0e-4764-82e0-5d58fcf2ce73"
      },
      "source": [
        "win_count_df.sample(5)"
      ],
      "execution_count": null,
      "outputs": [
        {
          "output_type": "execute_result",
          "data": {
            "text/html": [
              "<div>\n",
              "<style scoped>\n",
              "    .dataframe tbody tr th:only-of-type {\n",
              "        vertical-align: middle;\n",
              "    }\n",
              "\n",
              "    .dataframe tbody tr th {\n",
              "        vertical-align: top;\n",
              "    }\n",
              "\n",
              "    .dataframe thead th {\n",
              "        text-align: right;\n",
              "    }\n",
              "</style>\n",
              "<table border=\"1\" class=\"dataframe\">\n",
              "  <thead>\n",
              "    <tr style=\"text-align: right;\">\n",
              "      <th></th>\n",
              "      <th>country</th>\n",
              "      <th>no of matches</th>\n",
              "      <th>no of wins</th>\n",
              "    </tr>\n",
              "  </thead>\n",
              "  <tbody>\n",
              "    <tr>\n",
              "      <th>293</th>\n",
              "      <td>Ynys Môn</td>\n",
              "      <td>61</td>\n",
              "      <td>32</td>\n",
              "    </tr>\n",
              "    <tr>\n",
              "      <th>41</th>\n",
              "      <td>Burkina Faso</td>\n",
              "      <td>392</td>\n",
              "      <td>126</td>\n",
              "    </tr>\n",
              "    <tr>\n",
              "      <th>266</th>\n",
              "      <td>Trinidad and Tobago</td>\n",
              "      <td>668</td>\n",
              "      <td>291</td>\n",
              "    </tr>\n",
              "    <tr>\n",
              "      <th>259</th>\n",
              "      <td>Tajikistan</td>\n",
              "      <td>149</td>\n",
              "      <td>59</td>\n",
              "    </tr>\n",
              "    <tr>\n",
              "      <th>233</th>\n",
              "      <td>Shetland</td>\n",
              "      <td>51</td>\n",
              "      <td>18</td>\n",
              "    </tr>\n",
              "  </tbody>\n",
              "</table>\n",
              "</div>"
            ],
            "text/plain": [
              "                 country  no of matches  no of wins\n",
              "293             Ynys Môn             61          32\n",
              "41          Burkina Faso            392         126\n",
              "266  Trinidad and Tobago            668         291\n",
              "259           Tajikistan            149          59\n",
              "233             Shetland             51          18"
            ]
          },
          "metadata": {
            "tags": []
          },
          "execution_count": 208
        }
      ]
    },
    {
      "cell_type": "code",
      "metadata": {
        "colab": {
          "base_uri": "https://localhost:8080/",
          "height": 206
        },
        "id": "dk6DQ_mMzKV5",
        "outputId": "a67b9ef4-db46-4335-ee4f-0c22eeb9b9c9"
      },
      "source": [
        "win_count_df['percentage_wins']=win_count_df['no of wins']/win_count_df['no of matches']\n",
        "win_count_df.sample(5)"
      ],
      "execution_count": null,
      "outputs": [
        {
          "output_type": "execute_result",
          "data": {
            "text/html": [
              "<div>\n",
              "<style scoped>\n",
              "    .dataframe tbody tr th:only-of-type {\n",
              "        vertical-align: middle;\n",
              "    }\n",
              "\n",
              "    .dataframe tbody tr th {\n",
              "        vertical-align: top;\n",
              "    }\n",
              "\n",
              "    .dataframe thead th {\n",
              "        text-align: right;\n",
              "    }\n",
              "</style>\n",
              "<table border=\"1\" class=\"dataframe\">\n",
              "  <thead>\n",
              "    <tr style=\"text-align: right;\">\n",
              "      <th></th>\n",
              "      <th>country</th>\n",
              "      <th>no of matches</th>\n",
              "      <th>no of wins</th>\n",
              "      <th>percentage_wins</th>\n",
              "    </tr>\n",
              "  </thead>\n",
              "  <tbody>\n",
              "    <tr>\n",
              "      <th>274</th>\n",
              "      <td>Uganda</td>\n",
              "      <td>626</td>\n",
              "      <td>266</td>\n",
              "      <td>0.424920</td>\n",
              "    </tr>\n",
              "    <tr>\n",
              "      <th>157</th>\n",
              "      <td>Malawi</td>\n",
              "      <td>568</td>\n",
              "      <td>200</td>\n",
              "      <td>0.352113</td>\n",
              "    </tr>\n",
              "    <tr>\n",
              "      <th>245</th>\n",
              "      <td>South Ossetia</td>\n",
              "      <td>14</td>\n",
              "      <td>4</td>\n",
              "      <td>0.285714</td>\n",
              "    </tr>\n",
              "    <tr>\n",
              "      <th>244</th>\n",
              "      <td>South Korea</td>\n",
              "      <td>865</td>\n",
              "      <td>455</td>\n",
              "      <td>0.526012</td>\n",
              "    </tr>\n",
              "    <tr>\n",
              "      <th>198</th>\n",
              "      <td>Palestine</td>\n",
              "      <td>188</td>\n",
              "      <td>51</td>\n",
              "      <td>0.271277</td>\n",
              "    </tr>\n",
              "  </tbody>\n",
              "</table>\n",
              "</div>"
            ],
            "text/plain": [
              "           country  no of matches  no of wins  percentage_wins\n",
              "274         Uganda            626         266         0.424920\n",
              "157         Malawi            568         200         0.352113\n",
              "245  South Ossetia             14           4         0.285714\n",
              "244    South Korea            865         455         0.526012\n",
              "198      Palestine            188          51         0.271277"
            ]
          },
          "metadata": {
            "tags": []
          },
          "execution_count": 209
        }
      ]
    },
    {
      "cell_type": "code",
      "metadata": {
        "colab": {
          "base_uri": "https://localhost:8080/"
        },
        "id": "yKT99p902o5T",
        "outputId": "445845f2-acb4-4f60-d710-c70a49c9b2d9"
      },
      "source": [
        "win_count_df.sort_values(by='no of matches',ascending=False,inplace=True)\n",
        "win_count_df.loc[win_count_df['no of matches']>100].sort_values(by='percentage_wins',ascending=False).iloc[0]"
      ],
      "execution_count": null,
      "outputs": [
        {
          "output_type": "execute_result",
          "data": {
            "text/plain": [
              "country              Brazil\n",
              "no of matches           985\n",
              "no of wins              629\n",
              "percentage_wins    0.638579\n",
              "Name: 36, dtype: object"
            ]
          },
          "metadata": {
            "tags": []
          },
          "execution_count": 210
        }
      ]
    },
    {
      "cell_type": "markdown",
      "metadata": {
        "id": "CeI4T4GPgCLJ"
      },
      "source": [
        "#### **Conclusion**\n",
        "\n",
        "The most successful team of all time in terms of percentage of matches won is Brazil. (Only countries that have played more than a 100 matches have been considered)."
      ]
    },
    {
      "cell_type": "markdown",
      "metadata": {
        "id": "GJ8Av9MCBLRX"
      },
      "source": [
        "### **Dominance by Era**\n",
        "Dominance in an era has been defined here as being the team that ranked in the top 10 in terms of percentage wins for the most number of years in the decade. Only teams that have played atleast 10 matches a year are considered."
      ]
    },
    {
      "cell_type": "code",
      "metadata": {
        "id": "kXofM9-6hyAw"
      },
      "source": [
        "dominance_df=pd.DataFrame(columns=['decade','country'])"
      ],
      "execution_count": null,
      "outputs": []
    },
    {
      "cell_type": "code",
      "metadata": {
        "id": "SWqskZKB757u",
        "colab": {
          "base_uri": "https://localhost:8080/",
          "height": 206
        },
        "outputId": "5e906396-cb50-42b5-b4be-7e9980e2e9c1"
      },
      "source": [
        "df2['year']=pd.DatetimeIndex(df2['date']).year\n",
        "df2.sample(5)"
      ],
      "execution_count": null,
      "outputs": [
        {
          "output_type": "execute_result",
          "data": {
            "text/html": [
              "<div>\n",
              "<style scoped>\n",
              "    .dataframe tbody tr th:only-of-type {\n",
              "        vertical-align: middle;\n",
              "    }\n",
              "\n",
              "    .dataframe tbody tr th {\n",
              "        vertical-align: top;\n",
              "    }\n",
              "\n",
              "    .dataframe thead th {\n",
              "        text-align: right;\n",
              "    }\n",
              "</style>\n",
              "<table border=\"1\" class=\"dataframe\">\n",
              "  <thead>\n",
              "    <tr style=\"text-align: right;\">\n",
              "      <th></th>\n",
              "      <th>date</th>\n",
              "      <th>home_team</th>\n",
              "      <th>away_team</th>\n",
              "      <th>home_score</th>\n",
              "      <th>away_score</th>\n",
              "      <th>tournament</th>\n",
              "      <th>city</th>\n",
              "      <th>country</th>\n",
              "      <th>neutral</th>\n",
              "      <th>win</th>\n",
              "      <th>winning_country</th>\n",
              "      <th>year</th>\n",
              "    </tr>\n",
              "  </thead>\n",
              "  <tbody>\n",
              "    <tr>\n",
              "      <th>17425</th>\n",
              "      <td>1993-01-25</td>\n",
              "      <td>Bolivia</td>\n",
              "      <td>Russia</td>\n",
              "      <td>1</td>\n",
              "      <td>2</td>\n",
              "      <td>Nehru Cup</td>\n",
              "      <td>Madras</td>\n",
              "      <td>India</td>\n",
              "      <td>True</td>\n",
              "      <td>away team</td>\n",
              "      <td>Russia</td>\n",
              "      <td>1993</td>\n",
              "    </tr>\n",
              "    <tr>\n",
              "      <th>9695</th>\n",
              "      <td>1976-04-17</td>\n",
              "      <td>Yugoslavia</td>\n",
              "      <td>Hungary</td>\n",
              "      <td>0</td>\n",
              "      <td>0</td>\n",
              "      <td>Friendly</td>\n",
              "      <td>Banja Luka</td>\n",
              "      <td>Yugoslavia</td>\n",
              "      <td>False</td>\n",
              "      <td>draw</td>\n",
              "      <td>draw</td>\n",
              "      <td>1976</td>\n",
              "    </tr>\n",
              "    <tr>\n",
              "      <th>5430</th>\n",
              "      <td>1963-06-04</td>\n",
              "      <td>Norway</td>\n",
              "      <td>Scotland</td>\n",
              "      <td>4</td>\n",
              "      <td>3</td>\n",
              "      <td>Friendly</td>\n",
              "      <td>Bergen</td>\n",
              "      <td>Norway</td>\n",
              "      <td>False</td>\n",
              "      <td>home team</td>\n",
              "      <td>Norway</td>\n",
              "      <td>1963</td>\n",
              "    </tr>\n",
              "    <tr>\n",
              "      <th>37887</th>\n",
              "      <td>2016-05-22</td>\n",
              "      <td>England</td>\n",
              "      <td>Turkey</td>\n",
              "      <td>2</td>\n",
              "      <td>1</td>\n",
              "      <td>Friendly</td>\n",
              "      <td>Manchester</td>\n",
              "      <td>England</td>\n",
              "      <td>False</td>\n",
              "      <td>home team</td>\n",
              "      <td>England</td>\n",
              "      <td>2016</td>\n",
              "    </tr>\n",
              "    <tr>\n",
              "      <th>14578</th>\n",
              "      <td>1987-06-21</td>\n",
              "      <td>Brazil</td>\n",
              "      <td>Ecuador</td>\n",
              "      <td>4</td>\n",
              "      <td>1</td>\n",
              "      <td>Friendly</td>\n",
              "      <td>Florianópolis</td>\n",
              "      <td>Brazil</td>\n",
              "      <td>False</td>\n",
              "      <td>home team</td>\n",
              "      <td>Brazil</td>\n",
              "      <td>1987</td>\n",
              "    </tr>\n",
              "  </tbody>\n",
              "</table>\n",
              "</div>"
            ],
            "text/plain": [
              "            date   home_team away_team  ...        win  winning_country  year\n",
              "17425 1993-01-25     Bolivia    Russia  ...  away team           Russia  1993\n",
              "9695  1976-04-17  Yugoslavia   Hungary  ...       draw             draw  1976\n",
              "5430  1963-06-04      Norway  Scotland  ...  home team           Norway  1963\n",
              "37887 2016-05-22     England    Turkey  ...  home team          England  2016\n",
              "14578 1987-06-21      Brazil   Ecuador  ...  home team           Brazil  1987\n",
              "\n",
              "[5 rows x 12 columns]"
            ]
          },
          "metadata": {
            "tags": []
          },
          "execution_count": 235
        }
      ]
    },
    {
      "cell_type": "code",
      "metadata": {
        "colab": {
          "base_uri": "https://localhost:8080/",
          "height": 206
        },
        "id": "bF9jjPnnBiAu",
        "outputId": "4cf612b1-e17b-44fa-8f9d-455b8f5d9ae0"
      },
      "source": [
        "df2_short=df2.loc[df2['year']>=1980]\n",
        "df2_short.sample(5)"
      ],
      "execution_count": null,
      "outputs": [
        {
          "output_type": "execute_result",
          "data": {
            "text/html": [
              "<div>\n",
              "<style scoped>\n",
              "    .dataframe tbody tr th:only-of-type {\n",
              "        vertical-align: middle;\n",
              "    }\n",
              "\n",
              "    .dataframe tbody tr th {\n",
              "        vertical-align: top;\n",
              "    }\n",
              "\n",
              "    .dataframe thead th {\n",
              "        text-align: right;\n",
              "    }\n",
              "</style>\n",
              "<table border=\"1\" class=\"dataframe\">\n",
              "  <thead>\n",
              "    <tr style=\"text-align: right;\">\n",
              "      <th></th>\n",
              "      <th>date</th>\n",
              "      <th>home_team</th>\n",
              "      <th>away_team</th>\n",
              "      <th>home_score</th>\n",
              "      <th>away_score</th>\n",
              "      <th>tournament</th>\n",
              "      <th>city</th>\n",
              "      <th>country</th>\n",
              "      <th>neutral</th>\n",
              "      <th>win</th>\n",
              "      <th>winning_country</th>\n",
              "      <th>year</th>\n",
              "    </tr>\n",
              "  </thead>\n",
              "  <tbody>\n",
              "    <tr>\n",
              "      <th>29672</th>\n",
              "      <td>2007-10-13</td>\n",
              "      <td>Slovenia</td>\n",
              "      <td>Albania</td>\n",
              "      <td>0</td>\n",
              "      <td>0</td>\n",
              "      <td>UEFA Euro qualification</td>\n",
              "      <td>Celje</td>\n",
              "      <td>Slovenia</td>\n",
              "      <td>False</td>\n",
              "      <td>draw</td>\n",
              "      <td>draw</td>\n",
              "      <td>2007</td>\n",
              "    </tr>\n",
              "    <tr>\n",
              "      <th>41561</th>\n",
              "      <td>2019-11-19</td>\n",
              "      <td>Saudi Arabia</td>\n",
              "      <td>Paraguay</td>\n",
              "      <td>0</td>\n",
              "      <td>0</td>\n",
              "      <td>Friendly</td>\n",
              "      <td>Riyadh</td>\n",
              "      <td>Saudi Arabia</td>\n",
              "      <td>False</td>\n",
              "      <td>draw</td>\n",
              "      <td>draw</td>\n",
              "      <td>2019</td>\n",
              "    </tr>\n",
              "    <tr>\n",
              "      <th>24502</th>\n",
              "      <td>2001-12-30</td>\n",
              "      <td>Oman</td>\n",
              "      <td>North Macedonia</td>\n",
              "      <td>2</td>\n",
              "      <td>0</td>\n",
              "      <td>Friendly</td>\n",
              "      <td>Muscat</td>\n",
              "      <td>Oman</td>\n",
              "      <td>False</td>\n",
              "      <td>home team</td>\n",
              "      <td>Oman</td>\n",
              "      <td>2001</td>\n",
              "    </tr>\n",
              "    <tr>\n",
              "      <th>36428</th>\n",
              "      <td>2014-10-13</td>\n",
              "      <td>Croatia</td>\n",
              "      <td>Azerbaijan</td>\n",
              "      <td>6</td>\n",
              "      <td>0</td>\n",
              "      <td>UEFA Euro qualification</td>\n",
              "      <td>Osijek</td>\n",
              "      <td>Croatia</td>\n",
              "      <td>False</td>\n",
              "      <td>home team</td>\n",
              "      <td>Croatia</td>\n",
              "      <td>2014</td>\n",
              "    </tr>\n",
              "    <tr>\n",
              "      <th>34211</th>\n",
              "      <td>2012-06-12</td>\n",
              "      <td>Greece</td>\n",
              "      <td>Czech Republic</td>\n",
              "      <td>1</td>\n",
              "      <td>2</td>\n",
              "      <td>UEFA Euro</td>\n",
              "      <td>Wrocław</td>\n",
              "      <td>Poland</td>\n",
              "      <td>True</td>\n",
              "      <td>away team</td>\n",
              "      <td>Czech Republic</td>\n",
              "      <td>2012</td>\n",
              "    </tr>\n",
              "  </tbody>\n",
              "</table>\n",
              "</div>"
            ],
            "text/plain": [
              "            date     home_team  ... winning_country  year\n",
              "29672 2007-10-13      Slovenia  ...            draw  2007\n",
              "41561 2019-11-19  Saudi Arabia  ...            draw  2019\n",
              "24502 2001-12-30          Oman  ...            Oman  2001\n",
              "36428 2014-10-13       Croatia  ...         Croatia  2014\n",
              "34211 2012-06-12        Greece  ...  Czech Republic  2012\n",
              "\n",
              "[5 rows x 12 columns]"
            ]
          },
          "metadata": {
            "tags": []
          },
          "execution_count": 236
        }
      ]
    },
    {
      "cell_type": "code",
      "metadata": {
        "id": "ZnrlNW8ZBs1A"
      },
      "source": [
        "df2_80s=df2_short[(df2_short['year']>=1980)& (df2_short['year']<1990)]\n",
        "df2_90s=df2_short[(df2_short['year']>=1990)& (df2_short['year']<2000)]\n",
        "df2_00s=df2_short[(df2_short['year']>=2000)& (df2_short['year']<2010)]\n",
        "df2_recent=df2_short[(df2_short['year']>2010)]"
      ],
      "execution_count": null,
      "outputs": []
    },
    {
      "cell_type": "markdown",
      "metadata": {
        "id": "DF7UN0VPXomX"
      },
      "source": [
        "1980s"
      ]
    },
    {
      "cell_type": "code",
      "metadata": {
        "id": "SpC33HAWTvR_"
      },
      "source": [
        "team_rank_df=pd.DataFrame(columns=['country','year','rank'])\n",
        "for i in range(1980,1990):\n",
        "  #print(i)\n",
        "  df_temp=df2_80s[(df2_80s['year']==i)]\n",
        "  min_matches=10 #df_temp.shape[0]*0.02\n",
        "  home_team_temp=df_temp[['home_team','date']]\n",
        "  home_team_temp.columns=['team','date']\n",
        "  away_team_temp=df_temp[['away_team','date']]\n",
        "  away_team_temp.columns=['team','date']\n",
        "  match_data_temp=pd.concat([home_team_temp,away_team_temp])\n",
        "  match_count_temp=match_data_temp.groupby(['team'],as_index=False).count()\n",
        "  match_count_temp.columns=['country','no of matches']\n",
        "  win_count_temp=df_temp[['winning_country','date']].groupby('winning_country',as_index=False).count()\n",
        "  win_count_temp.columns=['country','no of wins']\n",
        "  win_count_temp=pd.merge(match_count_temp[(match_count_temp['no of matches']>min_matches)],win_count_temp,on='country')\n",
        "  win_count_temp['percentage_wins']=win_count_temp['no of wins']/win_count_temp['no of matches']\n",
        "  win_count_temp['year']=i\n",
        "  win_count_temp=win_count_temp.sort_values(by='percentage_wins',ascending=False).reset_index(drop=True).reset_index()\n",
        "  win_count_temp['index']=win_count_temp['index']+1\n",
        "  #print(win_count_temp.head())\n",
        "  to_concat=win_count_temp[['country','year','index']].head(10)\n",
        "  to_concat.columns=['country','year','rank']\n",
        "  team_rank_df=team_rank_df.append(to_concat)"
      ],
      "execution_count": null,
      "outputs": []
    },
    {
      "cell_type": "code",
      "metadata": {
        "id": "eynw0o4hUKOK"
      },
      "source": [
        "#Get number of years a country has played the minimum number of matches\n",
        "years_eligible_df=team_rank_df\n",
        "years_eligible_df['eligible_this_year']=1\n",
        "years_eligible_df=years_eligible_df[['country','year']].groupby('country',as_index=False).count()\n",
        "years_eligible_df.columns=['country','years eligible']"
      ],
      "execution_count": null,
      "outputs": []
    },
    {
      "cell_type": "code",
      "metadata": {
        "colab": {
          "base_uri": "https://localhost:8080/",
          "height": 175
        },
        "id": "3mdg6ReOhWSD",
        "outputId": "91462125-8fb7-4b07-c2b6-b0d402d4eab5"
      },
      "source": [
        "team_rank_df['rank']=team_rank_df['rank'].astype(int)\n",
        "decade_summary_df=team_rank_df[['country','rank']].groupby('country',as_index=False).mean()\n",
        "decade_summary_df=decade_summary_df.merge(years_eligible_df,on='country')\n",
        "decade_top5=decade_summary_df[(decade_summary_df['years eligible']>=5)].sort_values(by='years eligible',ascending=False).head()\n",
        "decade_top5\n",
        "\n"
      ],
      "execution_count": null,
      "outputs": [
        {
          "output_type": "execute_result",
          "data": {
            "text/html": [
              "<div>\n",
              "<style scoped>\n",
              "    .dataframe tbody tr th:only-of-type {\n",
              "        vertical-align: middle;\n",
              "    }\n",
              "\n",
              "    .dataframe tbody tr th {\n",
              "        vertical-align: top;\n",
              "    }\n",
              "\n",
              "    .dataframe thead th {\n",
              "        text-align: right;\n",
              "    }\n",
              "</style>\n",
              "<table border=\"1\" class=\"dataframe\">\n",
              "  <thead>\n",
              "    <tr style=\"text-align: right;\">\n",
              "      <th></th>\n",
              "      <th>country</th>\n",
              "      <th>rank</th>\n",
              "      <th>years eligible</th>\n",
              "    </tr>\n",
              "  </thead>\n",
              "  <tbody>\n",
              "    <tr>\n",
              "      <th>39</th>\n",
              "      <td>South Korea</td>\n",
              "      <td>4.285714</td>\n",
              "      <td>7</td>\n",
              "    </tr>\n",
              "    <tr>\n",
              "      <th>14</th>\n",
              "      <td>Germany</td>\n",
              "      <td>4.333333</td>\n",
              "      <td>6</td>\n",
              "    </tr>\n",
              "    <tr>\n",
              "      <th>3</th>\n",
              "      <td>Brazil</td>\n",
              "      <td>3.000000</td>\n",
              "      <td>5</td>\n",
              "    </tr>\n",
              "    <tr>\n",
              "      <th>10</th>\n",
              "      <td>England</td>\n",
              "      <td>4.200000</td>\n",
              "      <td>5</td>\n",
              "    </tr>\n",
              "  </tbody>\n",
              "</table>\n",
              "</div>"
            ],
            "text/plain": [
              "        country      rank  years eligible\n",
              "39  South Korea  4.285714               7\n",
              "14      Germany  4.333333               6\n",
              "3        Brazil  3.000000               5\n",
              "10      England  4.200000               5"
            ]
          },
          "metadata": {
            "tags": []
          },
          "execution_count": 240
        }
      ]
    },
    {
      "cell_type": "code",
      "metadata": {
        "id": "viv3Y6uEj5t6"
      },
      "source": [
        "line_dict={}\n",
        "line_dict['decade']='1980s'\n",
        "line_dict['country']=decade_top5.iloc[0]['country']\n",
        "dominance_df=dominance_df.append(line_dict,ignore_index=True)"
      ],
      "execution_count": null,
      "outputs": []
    },
    {
      "cell_type": "markdown",
      "metadata": {
        "id": "ib5A4b_1syLt"
      },
      "source": [
        "1990s"
      ]
    },
    {
      "cell_type": "code",
      "metadata": {
        "id": "0zxjFMtdorTr"
      },
      "source": [
        "team_rank_df=pd.DataFrame(columns=['country','year','rank'])\n",
        "for i in range(1990,2000):\n",
        "  #print(i)\n",
        "  df_temp=df2_90s[(df2_90s['year']==i)]\n",
        "  min_matches=10 #df_temp.shape[0]*0.02\n",
        "  home_team_temp=df_temp[['home_team','date']]\n",
        "  home_team_temp.columns=['team','date']\n",
        "  away_team_temp=df_temp[['away_team','date']]\n",
        "  away_team_temp.columns=['team','date']\n",
        "  match_data_temp=pd.concat([home_team_temp,away_team_temp])\n",
        "  match_count_temp=match_data_temp.groupby(['team'],as_index=False).count()\n",
        "  match_count_temp.columns=['country','no of matches']\n",
        "  win_count_temp=df_temp[['winning_country','date']].groupby('winning_country',as_index=False).count()\n",
        "  win_count_temp.columns=['country','no of wins']\n",
        "  win_count_temp=pd.merge(match_count_temp[(match_count_temp['no of matches']>min_matches)],win_count_temp,on='country')\n",
        "  win_count_temp['percentage_wins']=win_count_temp['no of wins']/win_count_temp['no of matches']\n",
        "  win_count_temp['year']=i\n",
        "  win_count_temp=win_count_temp.sort_values(by='percentage_wins',ascending=False).reset_index(drop=True).reset_index()\n",
        "  win_count_temp['index']=win_count_temp['index']+1\n",
        "  #print(win_count_temp.head())\n",
        "  to_concat=win_count_temp[['country','year','index']].head(10)\n",
        "  to_concat.columns=['country','year','rank']\n",
        "  team_rank_df=team_rank_df.append(to_concat)"
      ],
      "execution_count": null,
      "outputs": []
    },
    {
      "cell_type": "code",
      "metadata": {
        "colab": {
          "base_uri": "https://localhost:8080/",
          "height": 112
        },
        "id": "Vd6J-tchs8DH",
        "outputId": "f6f43d7c-1bcf-488c-9e8e-9713fd37bcbe"
      },
      "source": [
        "years_eligible_df=team_rank_df\n",
        "years_eligible_df['eligible_this_year']=1\n",
        "years_eligible_df=years_eligible_df[['country','year']].groupby('country',as_index=False).count()\n",
        "years_eligible_df.columns=['country','years eligible']\n",
        "years_eligible_df.head()\n",
        "team_rank_df['rank']=team_rank_df['rank'].astype(int)\n",
        "decade_summary_df=team_rank_df[['country','rank']].groupby('country',as_index=False).mean()\n",
        "decade_summary_df=decade_summary_df.merge(years_eligible_df,on='country')\n",
        "decade_top5=decade_summary_df[(decade_summary_df['years eligible']>=5)].sort_values(by='years eligible',ascending=False).head()\n",
        "decade_top5"
      ],
      "execution_count": null,
      "outputs": [
        {
          "output_type": "execute_result",
          "data": {
            "text/html": [
              "<div>\n",
              "<style scoped>\n",
              "    .dataframe tbody tr th:only-of-type {\n",
              "        vertical-align: middle;\n",
              "    }\n",
              "\n",
              "    .dataframe tbody tr th {\n",
              "        vertical-align: top;\n",
              "    }\n",
              "\n",
              "    .dataframe thead th {\n",
              "        text-align: right;\n",
              "    }\n",
              "</style>\n",
              "<table border=\"1\" class=\"dataframe\">\n",
              "  <thead>\n",
              "    <tr style=\"text-align: right;\">\n",
              "      <th></th>\n",
              "      <th>country</th>\n",
              "      <th>rank</th>\n",
              "      <th>years eligible</th>\n",
              "    </tr>\n",
              "  </thead>\n",
              "  <tbody>\n",
              "    <tr>\n",
              "      <th>2</th>\n",
              "      <td>Brazil</td>\n",
              "      <td>4.142857</td>\n",
              "      <td>7</td>\n",
              "    </tr>\n",
              "    <tr>\n",
              "      <th>14</th>\n",
              "      <td>Germany</td>\n",
              "      <td>3.600000</td>\n",
              "      <td>5</td>\n",
              "    </tr>\n",
              "  </tbody>\n",
              "</table>\n",
              "</div>"
            ],
            "text/plain": [
              "    country      rank  years eligible\n",
              "2    Brazil  4.142857               7\n",
              "14  Germany  3.600000               5"
            ]
          },
          "metadata": {
            "tags": []
          },
          "execution_count": 243
        }
      ]
    },
    {
      "cell_type": "code",
      "metadata": {
        "id": "7RsEEFE1tRKX"
      },
      "source": [
        "line_dict={}\n",
        "line_dict['decade']='1990s'\n",
        "line_dict['country']=decade_top5.iloc[0]['country']\n",
        "dominance_df=dominance_df.append(line_dict,ignore_index=True)\n"
      ],
      "execution_count": null,
      "outputs": []
    },
    {
      "cell_type": "markdown",
      "metadata": {
        "id": "9ZU8EHSEtehb"
      },
      "source": [
        "2000s"
      ]
    },
    {
      "cell_type": "code",
      "metadata": {
        "id": "sQjgGwYOtXvK"
      },
      "source": [
        "team_rank_df=pd.DataFrame(columns=['country','year','rank'])\n",
        "for i in range(2000,2010):\n",
        "  #print(i)\n",
        "  df_temp=df2_00s[(df2_00s['year']==i)]\n",
        "  min_matches=10 #df_temp.shape[0]*0.0175\n",
        "  home_team_temp=df_temp[['home_team','date']]\n",
        "  home_team_temp.columns=['team','date']\n",
        "  away_team_temp=df_temp[['away_team','date']]\n",
        "  away_team_temp.columns=['team','date']\n",
        "  match_data_temp=pd.concat([home_team_temp,away_team_temp])\n",
        "  match_count_temp=match_data_temp.groupby(['team'],as_index=False).count()\n",
        "  match_count_temp.columns=['country','no of matches']\n",
        "  win_count_temp=df_temp[['winning_country','date']].groupby('winning_country',as_index=False).count()\n",
        "  win_count_temp.columns=['country','no of wins']\n",
        "  win_count_temp=pd.merge(match_count_temp[(match_count_temp['no of matches']>min_matches)],win_count_temp,on='country')\n",
        "  win_count_temp['percentage_wins']=win_count_temp['no of wins']/win_count_temp['no of matches']\n",
        "  win_count_temp['year']=i\n",
        "  win_count_temp=win_count_temp.sort_values(by='percentage_wins',ascending=False).reset_index(drop=True).reset_index()\n",
        "  win_count_temp['index']=win_count_temp['index']+1\n",
        "  #print(win_count_temp.head())\n",
        "  to_concat=win_count_temp[['country','year','index']].head(10)\n",
        "  to_concat.columns=['country','year','rank']\n",
        "  team_rank_df=team_rank_df.append(to_concat)"
      ],
      "execution_count": null,
      "outputs": []
    },
    {
      "cell_type": "code",
      "metadata": {
        "colab": {
          "base_uri": "https://localhost:8080/",
          "height": 143
        },
        "id": "w2u0e7s6tjVN",
        "outputId": "9759741a-1090-405b-e8ea-05c9cf58bf9f"
      },
      "source": [
        "years_eligible_df=team_rank_df\n",
        "years_eligible_df['eligible_this_year']=1\n",
        "years_eligible_df=years_eligible_df[['country','year']].groupby('country',as_index=False).count()\n",
        "years_eligible_df.columns=['country','years eligible']\n",
        "years_eligible_df.head()\n",
        "team_rank_df['rank']=team_rank_df['rank'].astype(int)\n",
        "decade_summary_df=team_rank_df[['country','rank']].groupby('country',as_index=False).mean()\n",
        "decade_summary_df=decade_summary_df.merge(years_eligible_df,on='country')\n",
        "decade_top5=decade_summary_df[(decade_summary_df['years eligible']>=5)].sort_values(by='years eligible',ascending=False).head()\n",
        "decade_top5"
      ],
      "execution_count": null,
      "outputs": [
        {
          "output_type": "execute_result",
          "data": {
            "text/html": [
              "<div>\n",
              "<style scoped>\n",
              "    .dataframe tbody tr th:only-of-type {\n",
              "        vertical-align: middle;\n",
              "    }\n",
              "\n",
              "    .dataframe tbody tr th {\n",
              "        vertical-align: top;\n",
              "    }\n",
              "\n",
              "    .dataframe thead th {\n",
              "        text-align: right;\n",
              "    }\n",
              "</style>\n",
              "<table border=\"1\" class=\"dataframe\">\n",
              "  <thead>\n",
              "    <tr style=\"text-align: right;\">\n",
              "      <th></th>\n",
              "      <th>country</th>\n",
              "      <th>rank</th>\n",
              "      <th>years eligible</th>\n",
              "    </tr>\n",
              "  </thead>\n",
              "  <tbody>\n",
              "    <tr>\n",
              "      <th>39</th>\n",
              "      <td>Spain</td>\n",
              "      <td>3.666667</td>\n",
              "      <td>6</td>\n",
              "    </tr>\n",
              "    <tr>\n",
              "      <th>0</th>\n",
              "      <td>Argentina</td>\n",
              "      <td>5.200000</td>\n",
              "      <td>5</td>\n",
              "    </tr>\n",
              "    <tr>\n",
              "      <th>35</th>\n",
              "      <td>Saudi Arabia</td>\n",
              "      <td>6.800000</td>\n",
              "      <td>5</td>\n",
              "    </tr>\n",
              "  </tbody>\n",
              "</table>\n",
              "</div>"
            ],
            "text/plain": [
              "         country      rank  years eligible\n",
              "39         Spain  3.666667               6\n",
              "0      Argentina  5.200000               5\n",
              "35  Saudi Arabia  6.800000               5"
            ]
          },
          "metadata": {
            "tags": []
          },
          "execution_count": 246
        }
      ]
    },
    {
      "cell_type": "code",
      "metadata": {
        "id": "up7u9hLJ1Vkb"
      },
      "source": [
        "line_dict={}\n",
        "line_dict['decade']='2000s'\n",
        "line_dict['country']=decade_top5.iloc[0]['country']\n",
        "dominance_df=dominance_df.append(line_dict,ignore_index=True)"
      ],
      "execution_count": null,
      "outputs": []
    },
    {
      "cell_type": "markdown",
      "metadata": {
        "id": "28ebeYRixDie"
      },
      "source": [
        "2010-Today"
      ]
    },
    {
      "cell_type": "code",
      "metadata": {
        "id": "jVxwVo06xCJP"
      },
      "source": [
        "team_rank_df=pd.DataFrame(columns=['country','year','rank'])\n",
        "for i in range(2010,2022):\n",
        "  #print(i)\n",
        "  df_temp=df2_recent[(df2_recent['year']==i)]\n",
        "  min_matches=10 #df_temp.shape[0]*0.02\n",
        "  home_team_temp=df_temp[['home_team','date']]\n",
        "  home_team_temp.columns=['team','date']\n",
        "  away_team_temp=df_temp[['away_team','date']]\n",
        "  away_team_temp.columns=['team','date']\n",
        "  match_data_temp=pd.concat([home_team_temp,away_team_temp])\n",
        "  match_count_temp=match_data_temp.groupby(['team'],as_index=False).count()\n",
        "  match_count_temp.columns=['country','no of matches']\n",
        "  win_count_temp=df_temp[['winning_country','date']].groupby('winning_country',as_index=False).count()\n",
        "  win_count_temp.columns=['country','no of wins']\n",
        "  win_count_temp=pd.merge(match_count_temp[(match_count_temp['no of matches']>min_matches)],win_count_temp,on='country')\n",
        "  win_count_temp['percentage_wins']=win_count_temp['no of wins']/win_count_temp['no of matches']\n",
        "  win_count_temp['year']=i\n",
        "  win_count_temp=win_count_temp.sort_values(by='percentage_wins',ascending=False).reset_index(drop=True).reset_index()\n",
        "  win_count_temp['index']=win_count_temp['index']+1\n",
        "  #print(win_count_temp.head())\n",
        "  to_concat=win_count_temp[['country','year','index']].head(10)\n",
        "  to_concat.columns=['country','year','rank']\n",
        "  team_rank_df=team_rank_df.append(to_concat)"
      ],
      "execution_count": null,
      "outputs": []
    },
    {
      "cell_type": "code",
      "metadata": {
        "colab": {
          "base_uri": "https://localhost:8080/",
          "height": 143
        },
        "id": "cJXzP5zhvg2U",
        "outputId": "bc6aae93-f072-44f9-b838-4d9b27168a28"
      },
      "source": [
        "years_eligible_df=team_rank_df\n",
        "years_eligible_df['eligible_this_year']=1\n",
        "years_eligible_df=years_eligible_df[['country','year']].groupby('country',as_index=False).count()\n",
        "years_eligible_df.columns=['country','years eligible']\n",
        "years_eligible_df.head()\n",
        "team_rank_df['rank']=team_rank_df['rank'].astype(int)\n",
        "decade_summary_df=team_rank_df[['country','rank']].groupby('country',as_index=False).mean()\n",
        "decade_summary_df=decade_summary_df.merge(years_eligible_df,on='country')\n",
        "decade_top5=decade_summary_df[(decade_summary_df['years eligible']>=5)].sort_values(by='years eligible',ascending=False).head()\n",
        "decade_top5"
      ],
      "execution_count": null,
      "outputs": [
        {
          "output_type": "execute_result",
          "data": {
            "text/html": [
              "<div>\n",
              "<style scoped>\n",
              "    .dataframe tbody tr th:only-of-type {\n",
              "        vertical-align: middle;\n",
              "    }\n",
              "\n",
              "    .dataframe tbody tr th {\n",
              "        vertical-align: top;\n",
              "    }\n",
              "\n",
              "    .dataframe thead th {\n",
              "        text-align: right;\n",
              "    }\n",
              "</style>\n",
              "<table border=\"1\" class=\"dataframe\">\n",
              "  <thead>\n",
              "    <tr style=\"text-align: right;\">\n",
              "      <th></th>\n",
              "      <th>country</th>\n",
              "      <th>rank</th>\n",
              "      <th>years eligible</th>\n",
              "    </tr>\n",
              "  </thead>\n",
              "  <tbody>\n",
              "    <tr>\n",
              "      <th>5</th>\n",
              "      <td>Brazil</td>\n",
              "      <td>5.142857</td>\n",
              "      <td>7</td>\n",
              "    </tr>\n",
              "    <tr>\n",
              "      <th>14</th>\n",
              "      <td>France</td>\n",
              "      <td>3.600000</td>\n",
              "      <td>5</td>\n",
              "    </tr>\n",
              "    <tr>\n",
              "      <th>15</th>\n",
              "      <td>Germany</td>\n",
              "      <td>4.600000</td>\n",
              "      <td>5</td>\n",
              "    </tr>\n",
              "  </tbody>\n",
              "</table>\n",
              "</div>"
            ],
            "text/plain": [
              "    country      rank  years eligible\n",
              "5    Brazil  5.142857               7\n",
              "14   France  3.600000               5\n",
              "15  Germany  4.600000               5"
            ]
          },
          "metadata": {
            "tags": []
          },
          "execution_count": 252
        }
      ]
    },
    {
      "cell_type": "code",
      "metadata": {
        "id": "wK_7A1xfzJAL"
      },
      "source": [
        "line_dict={}\n",
        "line_dict['decade']='2010s'\n",
        "line_dict['country']=decade_top5.iloc[0]['country']\n",
        "dominance_df=dominance_df.append(line_dict,ignore_index=True)"
      ],
      "execution_count": null,
      "outputs": []
    },
    {
      "cell_type": "markdown",
      "metadata": {
        "id": "07BkTiZxkNbr"
      },
      "source": [
        "#### **Conclusion**"
      ]
    },
    {
      "cell_type": "code",
      "metadata": {
        "id": "2tYvd_Qw194v",
        "colab": {
          "base_uri": "https://localhost:8080/",
          "height": 175
        },
        "outputId": "c90781ff-fe30-4015-e7fa-8b2167984fb0"
      },
      "source": [
        "dominance_df"
      ],
      "execution_count": null,
      "outputs": [
        {
          "output_type": "execute_result",
          "data": {
            "text/html": [
              "<div>\n",
              "<style scoped>\n",
              "    .dataframe tbody tr th:only-of-type {\n",
              "        vertical-align: middle;\n",
              "    }\n",
              "\n",
              "    .dataframe tbody tr th {\n",
              "        vertical-align: top;\n",
              "    }\n",
              "\n",
              "    .dataframe thead th {\n",
              "        text-align: right;\n",
              "    }\n",
              "</style>\n",
              "<table border=\"1\" class=\"dataframe\">\n",
              "  <thead>\n",
              "    <tr style=\"text-align: right;\">\n",
              "      <th></th>\n",
              "      <th>decade</th>\n",
              "      <th>country</th>\n",
              "    </tr>\n",
              "  </thead>\n",
              "  <tbody>\n",
              "    <tr>\n",
              "      <th>0</th>\n",
              "      <td>1980s</td>\n",
              "      <td>South Korea</td>\n",
              "    </tr>\n",
              "    <tr>\n",
              "      <th>1</th>\n",
              "      <td>1990s</td>\n",
              "      <td>Brazil</td>\n",
              "    </tr>\n",
              "    <tr>\n",
              "      <th>2</th>\n",
              "      <td>2000s</td>\n",
              "      <td>Spain</td>\n",
              "    </tr>\n",
              "    <tr>\n",
              "      <th>3</th>\n",
              "      <td>2010s</td>\n",
              "      <td>Brazil</td>\n",
              "    </tr>\n",
              "  </tbody>\n",
              "</table>\n",
              "</div>"
            ],
            "text/plain": [
              "  decade      country\n",
              "0  1980s  South Korea\n",
              "1  1990s       Brazil\n",
              "2  2000s        Spain\n",
              "3  2010s       Brazil"
            ]
          },
          "metadata": {
            "tags": []
          },
          "execution_count": 251
        }
      ]
    },
    {
      "cell_type": "markdown",
      "metadata": {
        "id": "5zy6fTJmlMBm"
      },
      "source": [
        "Dominance in an era has been defined here as being the team that ranked in the top 10 in terms of percentage wins for the most number of years in the decade. Only teams that have played atleast 10 matches a year are considered.South Korea has been a dominant team in the 1980s along with Germany, Brazil and England. In the 1990s Brazil has been the dominant team, while Germany was quite dominant as well. The 2000s were slightly unusual with Spain rising as the dominant team with other upcoming football countries like Argentina joining the fray. Brazil returned to its glory in the 2010s."
      ]
    },
    {
      "cell_type": "code",
      "metadata": {
        "id": "gBrqxDOhkULU"
      },
      "source": [
        ""
      ],
      "execution_count": null,
      "outputs": []
    }
  ]
}
